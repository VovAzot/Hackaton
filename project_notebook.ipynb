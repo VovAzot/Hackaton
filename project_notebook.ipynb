{
  "cells": [
    {
      "cell_type": "code",
      "execution_count": 1,
      "metadata": {
        "id": "mPsN3I84xUmG"
      },
      "outputs": [],
      "source": [
        "pip install sentence-transformers --quiet"
      ]
    },
    {
      "cell_type": "code",
      "execution_count": 2,
      "metadata": {
        "id": "wqyrgODzwF6f"
      },
      "outputs": [],
      "source": [
        "import os\n",
        "\n",
        "import pandas as pd\n",
        "import numpy as np\n",
        "\n",
        "import seaborn as sns\n",
        "import matplotlib.pyplot as plt\n",
        "%matplotlib inline\n",
        "\n",
        "from urllib.parse import urlparse\n",
        "\n",
        "import re\n",
        "\n",
        "import random\n",
        "\n",
        "from sentence_transformers import SentenceTransformer, util\n"
      ]
    },
    {
      "cell_type": "code",
      "execution_count": 3,
      "metadata": {
        "id": "6ATVRdHgwF6h"
      },
      "outputs": [],
      "source": [
        "RANDOM_SEED = 5123"
      ]
    },
    {
      "cell_type": "markdown",
      "metadata": {
        "id": "WWo-Hke2wF6h"
      },
      "source": [
        "### Цель проекта\n",
        "\n",
        "Цель этого проекта - разработка решения, которое отчасти автоматизирует процесс\n",
        "сопоставления товаров. Основная идея - предлагать несколько товаров заказчика,\n",
        "которые с наибольшей вероятностью соответствуют размечаемому товару дилера.\n",
        "Предлагается реализовать это решение, как онлайн сервис, открываемый в веб-\n",
        "браузере. Выбор наиболее вероятных подсказок делается методами машинного\n",
        "обучения."
      ]
    },
    {
      "cell_type": "markdown",
      "metadata": {
        "id": "UMxdZFIxwF6i"
      },
      "source": [
        "### Предоставление вариантов соответствия:\n",
        "\n",
        "Система должна использовать рекомендательную модель, созданную ML\n",
        "специалистами, для предоставления наиболее вероятных вариантов соответствия\n",
        "товара.\n",
        "Для каждого товара система должна предложить несколько (настраиваемое\n",
        "количество) вариантов соответствия."
      ]
    },
    {
      "cell_type": "markdown",
      "metadata": {
        "id": "puOggUyzwF6i"
      },
      "source": [
        "### Описание данных\n",
        "\n",
        "Описание данных\n",
        "Заказчик предоставил несколько таблиц (дамп БД), содержащих необходимые\n",
        "данные:\n",
        "1. `marketing_dealer` - список дилеров;\n",
        "2. `marketing_dealerprice` - результат работы парсера площадок дилеров:\n",
        "   - product_key - уникальный номер позиции;\n",
        "   - price - цена;\n",
        "   - product_url - адрес страницы, откуда собраны данные;\n",
        "   - product_name - заголовок продаваемого товара;\n",
        "   - date - дата получения информации;\n",
        "   - dealer_id - идентификатор дилера (внешний ключ к marketing_dealer)\n",
        "  \n",
        "3. `marketing_product` - список товаров, которые производит и распространяет\n",
        "заказчик;\n",
        "   - article - артикул товара;\n",
        "   - ean_13 - код товара (см. EAN 13). Прим: *`ean_13 - European Article Number`\n",
        "   - name - название товара;\n",
        "   - cost - стоимость;\n",
        "   - min_recommended_price - рекомендованная минимальная цена;\n",
        "   - recommended_price - рекомендованная цена;\n",
        "   - category_id - категория товара;\n",
        "   - ozon_name - названиет товара на Озоне;\n",
        "   - name_1c - название товара в 1C;\n",
        "   - wb_name - название товара на Wildberries;\n",
        "   - ozon_article - описание для Озон;\n",
        "   - wb_article - артикул для Wildberries;\n",
        "   - ym_article - артикул для Яндекс.Маркета;\n",
        "\n",
        "4. `marketing_productdealerkey` - таблица матчинга товаров заказчика и товаров\n",
        "дилеров\n",
        "   - key - внешний ключ к marketing_dealerprice\n",
        "   - product_id - внешний ключ к marketing_product\n",
        "   - dealer_id - внешний ключ к marketing_dealer"
      ]
    },
    {
      "cell_type": "code",
      "execution_count": 4,
      "metadata": {
        "colab": {
          "base_uri": "https://localhost:8080/"
        },
        "id": "2HY2sminwRq6",
        "outputId": "88dde85a-ff48-4a23-bd54-9c4569589e42"
      },
      "outputs": [
        {
          "name": "stdout",
          "output_type": "stream",
          "text": [
            "Drive already mounted at /content/drive; to attempt to forcibly remount, call drive.mount(\"/content/drive\", force_remount=True).\n"
          ]
        }
      ],
      "source": [
        "# Connecting Google Drive to Google Colab\n",
        "from google.colab import drive\n",
        "drive.mount('/content/drive')"
      ]
    },
    {
      "cell_type": "code",
      "execution_count": 5,
      "metadata": {
        "id": "5zaLaLHaysTb"
      },
      "outputs": [],
      "source": [
        "folder_path = \"/content/drive/My Drive/hackathon/\""
      ]
    },
    {
      "cell_type": "code",
      "execution_count": 6,
      "metadata": {
        "id": "7SC9PAwdwF6l"
      },
      "outputs": [],
      "source": [
        "class analyzer():\n",
        "\n",
        "    def __init__(self, folder_path):\n",
        "        self.marketing_dealer = pd.read_csv(folder_path + \"marketing_dealer.csv\", sep=';', index_col='id')\n",
        "        self.marketing_dealer_price = pd.read_csv(folder_path + \"marketing_dealerprice.csv\", sep=';', parse_dates=['date'])\n",
        "        self.marketing_product = pd.read_csv(folder_path + \"marketing_product.csv\", sep=';', index_col='id')\n",
        "        self.marketing_product_dealer_key = pd.read_csv(folder_path + \"marketing_productdealerkey.csv\", sep=';', index_col='id')\n",
        "\n",
        "        self.marketing_dealer.sort_index(inplace=True)\n",
        "        self.marketing_dealer_price.sort_index(inplace=True)\n",
        "        self.marketing_product.sort_index(inplace=True)\n",
        "        self.marketing_product_dealer_key.sort_index(inplace=True)\n",
        "\n",
        "    #region misses\n",
        "    def check_misses_marketing_dealer(self):\n",
        "        analyzer.__plot_misses(spaced_data = analyzer.__count_misses(self.marketing_dealer),\n",
        "                               dataset_name ='marketing_dealer')\n",
        "\n",
        "\n",
        "    def check_misses_marketing_dealer_price(self):\n",
        "        analyzer.__plot_misses(spaced_data = analyzer.__count_misses(self.marketing_dealer_price),\n",
        "                               dataset_name = 'marketing_dealer_price')\n",
        "\n",
        "\n",
        "    def check_misses_marketing_product(self):\n",
        "        analyzer.__plot_misses(spaced_data = analyzer.__count_misses(self.marketing_product),\n",
        "                               dataset_name = 'marketing_product')\n",
        "\n",
        "    def check_misses_marketing_product_dealer_key(self):\n",
        "        analyzer.__plot_misses(spaced_data = analyzer.__count_misses(self.marketing_product_dealer_key),\n",
        "                               dataset_name = 'marketing_product_dealer_key')\n",
        "    #endregion\n",
        "\n",
        "\n",
        "    #region duplicates\n",
        "    def check_duplicates_marketing_dealer(self):\n",
        "        analyzer.__check_duplicates(data = self.marketing_dealer,\n",
        "                                    dataset_name ='marketing_dealer')\n",
        "\n",
        "    def check_duplicates_marketing_dealer_price(self):\n",
        "        analyzer.__check_duplicates(data = self.marketing_dealer_price,\n",
        "                                    dataset_name ='marketing_dealer_price')\n",
        "\n",
        "    def check_duplicates_marketing_product(self):\n",
        "        analyzer.__check_duplicates(data = self.marketing_product,\n",
        "                                    dataset_name ='marketing_product')\n",
        "\n",
        "    def check_duplicates_marketing_product_dealer_key(self):\n",
        "        analyzer.__check_duplicates(data = self.marketing_product_dealer_key,\n",
        "                                    dataset_name ='marketing_product_dealer_key')\n",
        "    #endregion\n",
        "\n",
        "\n",
        "    def merger(self):\n",
        "\n",
        "        self.merged_df = self.marketing_dealer_price.merge(self.marketing_dealer,\n",
        "                                                           left_on='dealer_id',\n",
        "                                                            right_index=True)\n",
        "        self.merged_df  = self.marketing_dealer_price.merge(self.marketing_dealer, left_on='dealer_id', right_index=True)\n",
        "        self.merged_df  = self.merged_df.merge(self.marketing_product_dealer_key,\n",
        "                            left_on='product_key',\n",
        "                            right_on='key')\n",
        "        self.merged_df = self.merged_df.merge(self.marketing_product,\n",
        "                            left_on='product_id',\n",
        "                            right_on='id')\n",
        "        self.merged_df.drop(columns=['product_key','dealer_id_x','name_x',\n",
        "                                     'key','dealer_id_y',], inplace=True)\n",
        "        self.merged_df.rename(columns={'name_y':'original_name'}, inplace=True)\n",
        "\n",
        "\n",
        "\n",
        "\n",
        "\n",
        "    #region helper\n",
        "    @staticmethod\n",
        "    def __count_misses(data):\n",
        "        spaced_data = (\n",
        "            (data.isna().mean()*100)\n",
        "            .to_frame()\n",
        "            .rename(columns = {0:'space'})\n",
        "            .query('space > 0')\n",
        "            .sort_values(by = 'space', ascending=True)\n",
        "        )\n",
        "        return spaced_data\n",
        "\n",
        "\n",
        "    @staticmethod\n",
        "    def __plot_misses(spaced_data, dataset_name):\n",
        "        if spaced_data.empty:\n",
        "            print(f'Пропуски в датасете \"{dataset_name}\" не обнаружены')\n",
        "        else:\n",
        "            ax = (\n",
        "                spaced_data\n",
        "                .plot\n",
        "                .barh(y='space', figsize = (12,8), rot = 0, legend = False, fontsize = 16, color='firebrick'))\n",
        "            ax.xaxis.set_ticks([10,20,30,40,50,60,70,80,90])\n",
        "            ax.set_title(f'Количество пропусков в {dataset_name}' + '\\n', fontsize = 20, color='black')\n",
        "            ax.set_xlabel('Пропуски по колонкам')\n",
        "            for i, v in enumerate(spaced_data.space):\n",
        "                ax.text(v + 0.5, i - .1, '{:,.2f}%'.format((v)), color='black', fontweight='bold')\n",
        "\n",
        "    @staticmethod\n",
        "    def __check_duplicates(data, dataset_name):\n",
        "        duplicates = data[data.duplicated()]\n",
        "        if duplicates.empty:\n",
        "            print(f'Дубликаты в \"{dataset_name}\" не обнаружены')\n",
        "        else:\n",
        "            print(f'Количество дубликатов в \"{dataset_name}\": {duplicates.shape[0]}')\n",
        "    #endregion\n",
        "\n",
        "    @classmethod\n",
        "    def plot_hist(cls, data_col):\n",
        "        fig = plt.figure(figsize=(12,12))\n",
        "\n",
        "        ax_1 = fig.add_subplot(2, 1, 1)\n",
        "        ax_2 = fig.add_subplot(2, 2, 3)\n",
        "        ax_3 = fig.add_subplot(2, 2, 4)\n",
        "\n",
        "        fig.suptitle(f'Колонка: {data_col.name} \\n', fontsize=18)\n",
        "\n",
        "        sns.histplot(data_col, kde=False, ax=ax_1)\n",
        "        ax_1.set_title('Histogram - \"Price\"')\n",
        "\n",
        "        sns.histplot(data_col, kde=False, ax=ax_2)\n",
        "        ax_2.set_title('Histogram - Right Tail')\n",
        "        ax_2.set_xlim(0, np.percentile(data_col[data_col.notna()], 95))\n",
        "\n",
        "        sns.boxplot(x=data_col, ax=ax_3)\n",
        "        ax_3.set_title('Box-and-Whiskers Plot')\n",
        "\n",
        "        plt.tight_layout()\n",
        "        plt.show()"
      ]
    },
    {
      "cell_type": "code",
      "execution_count": 7,
      "metadata": {
        "id": "QI0ILtMxwF6m"
      },
      "outputs": [],
      "source": [
        "prosept = analyzer(folder_path)"
      ]
    },
    {
      "cell_type": "markdown",
      "metadata": {
        "id": "l7JiFYMwwF6m"
      },
      "source": [
        "### Marketing_dealer"
      ]
    },
    {
      "cell_type": "code",
      "execution_count": 8,
      "metadata": {
        "colab": {
          "base_uri": "https://localhost:8080/"
        },
        "id": "m0ki80liwF6m",
        "outputId": "eef62973-f676-450f-9bb2-09cdd41e9a59"
      },
      "outputs": [
        {
          "name": "stdout",
          "output_type": "stream",
          "text": [
            "<class 'pandas.core.frame.DataFrame'>\n",
            "Int64Index: 18 entries, 1 to 18\n",
            "Data columns (total 1 columns):\n",
            " #   Column  Non-Null Count  Dtype \n",
            "---  ------  --------------  ----- \n",
            " 0   name    18 non-null     object\n",
            "dtypes: object(1)\n",
            "memory usage: 288.0+ bytes\n"
          ]
        }
      ],
      "source": [
        "prosept.marketing_dealer.info()"
      ]
    },
    {
      "cell_type": "code",
      "execution_count": 9,
      "metadata": {
        "colab": {
          "base_uri": "https://localhost:8080/",
          "height": 238
        },
        "id": "Fc4zATWOwF6o",
        "outputId": "02074f6e-19e7-47fb-d11c-b0ff78005978"
      },
      "outputs": [
        {
          "data": {
            "text/html": [
              "\n",
              "  <div id=\"df-181906d5-4fc1-47f4-980d-163076ba71f7\" class=\"colab-df-container\">\n",
              "    <div>\n",
              "<style scoped>\n",
              "    .dataframe tbody tr th:only-of-type {\n",
              "        vertical-align: middle;\n",
              "    }\n",
              "\n",
              "    .dataframe tbody tr th {\n",
              "        vertical-align: top;\n",
              "    }\n",
              "\n",
              "    .dataframe thead th {\n",
              "        text-align: right;\n",
              "    }\n",
              "</style>\n",
              "<table border=\"1\" class=\"dataframe\">\n",
              "  <thead>\n",
              "    <tr style=\"text-align: right;\">\n",
              "      <th></th>\n",
              "      <th>name</th>\n",
              "    </tr>\n",
              "    <tr>\n",
              "      <th>id</th>\n",
              "      <th></th>\n",
              "    </tr>\n",
              "  </thead>\n",
              "  <tbody>\n",
              "    <tr>\n",
              "      <th>5</th>\n",
              "      <td>Castorama</td>\n",
              "    </tr>\n",
              "    <tr>\n",
              "      <th>15</th>\n",
              "      <td>Vse_instrumeni</td>\n",
              "    </tr>\n",
              "    <tr>\n",
              "      <th>3</th>\n",
              "      <td>Bafus</td>\n",
              "    </tr>\n",
              "    <tr>\n",
              "      <th>16</th>\n",
              "      <td>Vimos</td>\n",
              "    </tr>\n",
              "    <tr>\n",
              "      <th>10</th>\n",
              "      <td>OnlineTrade</td>\n",
              "    </tr>\n",
              "  </tbody>\n",
              "</table>\n",
              "</div>\n",
              "    <div class=\"colab-df-buttons\">\n",
              "\n",
              "  <div class=\"colab-df-container\">\n",
              "    <button class=\"colab-df-convert\" onclick=\"convertToInteractive('df-181906d5-4fc1-47f4-980d-163076ba71f7')\"\n",
              "            title=\"Convert this dataframe to an interactive table.\"\n",
              "            style=\"display:none;\">\n",
              "\n",
              "  <svg xmlns=\"http://www.w3.org/2000/svg\" height=\"24px\" viewBox=\"0 -960 960 960\">\n",
              "    <path d=\"M120-120v-720h720v720H120Zm60-500h600v-160H180v160Zm220 220h160v-160H400v160Zm0 220h160v-160H400v160ZM180-400h160v-160H180v160Zm440 0h160v-160H620v160ZM180-180h160v-160H180v160Zm440 0h160v-160H620v160Z\"/>\n",
              "  </svg>\n",
              "    </button>\n",
              "\n",
              "  <style>\n",
              "    .colab-df-container {\n",
              "      display:flex;\n",
              "      gap: 12px;\n",
              "    }\n",
              "\n",
              "    .colab-df-convert {\n",
              "      background-color: #E8F0FE;\n",
              "      border: none;\n",
              "      border-radius: 50%;\n",
              "      cursor: pointer;\n",
              "      display: none;\n",
              "      fill: #1967D2;\n",
              "      height: 32px;\n",
              "      padding: 0 0 0 0;\n",
              "      width: 32px;\n",
              "    }\n",
              "\n",
              "    .colab-df-convert:hover {\n",
              "      background-color: #E2EBFA;\n",
              "      box-shadow: 0px 1px 2px rgba(60, 64, 67, 0.3), 0px 1px 3px 1px rgba(60, 64, 67, 0.15);\n",
              "      fill: #174EA6;\n",
              "    }\n",
              "\n",
              "    .colab-df-buttons div {\n",
              "      margin-bottom: 4px;\n",
              "    }\n",
              "\n",
              "    [theme=dark] .colab-df-convert {\n",
              "      background-color: #3B4455;\n",
              "      fill: #D2E3FC;\n",
              "    }\n",
              "\n",
              "    [theme=dark] .colab-df-convert:hover {\n",
              "      background-color: #434B5C;\n",
              "      box-shadow: 0px 1px 3px 1px rgba(0, 0, 0, 0.15);\n",
              "      filter: drop-shadow(0px 1px 2px rgba(0, 0, 0, 0.3));\n",
              "      fill: #FFFFFF;\n",
              "    }\n",
              "  </style>\n",
              "\n",
              "    <script>\n",
              "      const buttonEl =\n",
              "        document.querySelector('#df-181906d5-4fc1-47f4-980d-163076ba71f7 button.colab-df-convert');\n",
              "      buttonEl.style.display =\n",
              "        google.colab.kernel.accessAllowed ? 'block' : 'none';\n",
              "\n",
              "      async function convertToInteractive(key) {\n",
              "        const element = document.querySelector('#df-181906d5-4fc1-47f4-980d-163076ba71f7');\n",
              "        const dataTable =\n",
              "          await google.colab.kernel.invokeFunction('convertToInteractive',\n",
              "                                                    [key], {});\n",
              "        if (!dataTable) return;\n",
              "\n",
              "        const docLinkHtml = 'Like what you see? Visit the ' +\n",
              "          '<a target=\"_blank\" href=https://colab.research.google.com/notebooks/data_table.ipynb>data table notebook</a>'\n",
              "          + ' to learn more about interactive tables.';\n",
              "        element.innerHTML = '';\n",
              "        dataTable['output_type'] = 'display_data';\n",
              "        await google.colab.output.renderOutput(dataTable, element);\n",
              "        const docLink = document.createElement('div');\n",
              "        docLink.innerHTML = docLinkHtml;\n",
              "        element.appendChild(docLink);\n",
              "      }\n",
              "    </script>\n",
              "  </div>\n",
              "\n",
              "\n",
              "<div id=\"df-be26a8f2-fc16-4e39-8b54-8e5ba3f46c56\">\n",
              "  <button class=\"colab-df-quickchart\" onclick=\"quickchart('df-be26a8f2-fc16-4e39-8b54-8e5ba3f46c56')\"\n",
              "            title=\"Suggest charts\"\n",
              "            style=\"display:none;\">\n",
              "\n",
              "<svg xmlns=\"http://www.w3.org/2000/svg\" height=\"24px\"viewBox=\"0 0 24 24\"\n",
              "     width=\"24px\">\n",
              "    <g>\n",
              "        <path d=\"M19 3H5c-1.1 0-2 .9-2 2v14c0 1.1.9 2 2 2h14c1.1 0 2-.9 2-2V5c0-1.1-.9-2-2-2zM9 17H7v-7h2v7zm4 0h-2V7h2v10zm4 0h-2v-4h2v4z\"/>\n",
              "    </g>\n",
              "</svg>\n",
              "  </button>\n",
              "\n",
              "<style>\n",
              "  .colab-df-quickchart {\n",
              "      --bg-color: #E8F0FE;\n",
              "      --fill-color: #1967D2;\n",
              "      --hover-bg-color: #E2EBFA;\n",
              "      --hover-fill-color: #174EA6;\n",
              "      --disabled-fill-color: #AAA;\n",
              "      --disabled-bg-color: #DDD;\n",
              "  }\n",
              "\n",
              "  [theme=dark] .colab-df-quickchart {\n",
              "      --bg-color: #3B4455;\n",
              "      --fill-color: #D2E3FC;\n",
              "      --hover-bg-color: #434B5C;\n",
              "      --hover-fill-color: #FFFFFF;\n",
              "      --disabled-bg-color: #3B4455;\n",
              "      --disabled-fill-color: #666;\n",
              "  }\n",
              "\n",
              "  .colab-df-quickchart {\n",
              "    background-color: var(--bg-color);\n",
              "    border: none;\n",
              "    border-radius: 50%;\n",
              "    cursor: pointer;\n",
              "    display: none;\n",
              "    fill: var(--fill-color);\n",
              "    height: 32px;\n",
              "    padding: 0;\n",
              "    width: 32px;\n",
              "  }\n",
              "\n",
              "  .colab-df-quickchart:hover {\n",
              "    background-color: var(--hover-bg-color);\n",
              "    box-shadow: 0 1px 2px rgba(60, 64, 67, 0.3), 0 1px 3px 1px rgba(60, 64, 67, 0.15);\n",
              "    fill: var(--button-hover-fill-color);\n",
              "  }\n",
              "\n",
              "  .colab-df-quickchart-complete:disabled,\n",
              "  .colab-df-quickchart-complete:disabled:hover {\n",
              "    background-color: var(--disabled-bg-color);\n",
              "    fill: var(--disabled-fill-color);\n",
              "    box-shadow: none;\n",
              "  }\n",
              "\n",
              "  .colab-df-spinner {\n",
              "    border: 2px solid var(--fill-color);\n",
              "    border-color: transparent;\n",
              "    border-bottom-color: var(--fill-color);\n",
              "    animation:\n",
              "      spin 1s steps(1) infinite;\n",
              "  }\n",
              "\n",
              "  @keyframes spin {\n",
              "    0% {\n",
              "      border-color: transparent;\n",
              "      border-bottom-color: var(--fill-color);\n",
              "      border-left-color: var(--fill-color);\n",
              "    }\n",
              "    20% {\n",
              "      border-color: transparent;\n",
              "      border-left-color: var(--fill-color);\n",
              "      border-top-color: var(--fill-color);\n",
              "    }\n",
              "    30% {\n",
              "      border-color: transparent;\n",
              "      border-left-color: var(--fill-color);\n",
              "      border-top-color: var(--fill-color);\n",
              "      border-right-color: var(--fill-color);\n",
              "    }\n",
              "    40% {\n",
              "      border-color: transparent;\n",
              "      border-right-color: var(--fill-color);\n",
              "      border-top-color: var(--fill-color);\n",
              "    }\n",
              "    60% {\n",
              "      border-color: transparent;\n",
              "      border-right-color: var(--fill-color);\n",
              "    }\n",
              "    80% {\n",
              "      border-color: transparent;\n",
              "      border-right-color: var(--fill-color);\n",
              "      border-bottom-color: var(--fill-color);\n",
              "    }\n",
              "    90% {\n",
              "      border-color: transparent;\n",
              "      border-bottom-color: var(--fill-color);\n",
              "    }\n",
              "  }\n",
              "</style>\n",
              "\n",
              "  <script>\n",
              "    async function quickchart(key) {\n",
              "      const quickchartButtonEl =\n",
              "        document.querySelector('#' + key + ' button');\n",
              "      quickchartButtonEl.disabled = true;  // To prevent multiple clicks.\n",
              "      quickchartButtonEl.classList.add('colab-df-spinner');\n",
              "      try {\n",
              "        const charts = await google.colab.kernel.invokeFunction(\n",
              "            'suggestCharts', [key], {});\n",
              "      } catch (error) {\n",
              "        console.error('Error during call to suggestCharts:', error);\n",
              "      }\n",
              "      quickchartButtonEl.classList.remove('colab-df-spinner');\n",
              "      quickchartButtonEl.classList.add('colab-df-quickchart-complete');\n",
              "    }\n",
              "    (() => {\n",
              "      let quickchartButtonEl =\n",
              "        document.querySelector('#df-be26a8f2-fc16-4e39-8b54-8e5ba3f46c56 button');\n",
              "      quickchartButtonEl.style.display =\n",
              "        google.colab.kernel.accessAllowed ? 'block' : 'none';\n",
              "    })();\n",
              "  </script>\n",
              "</div>\n",
              "\n",
              "    </div>\n",
              "  </div>\n"
            ],
            "text/plain": [
              "              name\n",
              "id                \n",
              "5        Castorama\n",
              "15  Vse_instrumeni\n",
              "3            Bafus\n",
              "16           Vimos\n",
              "10     OnlineTrade"
            ]
          },
          "execution_count": 9,
          "metadata": {},
          "output_type": "execute_result"
        }
      ],
      "source": [
        "prosept.marketing_dealer.sample(5, random_state=RANDOM_SEED)"
      ]
    },
    {
      "cell_type": "markdown",
      "metadata": {
        "id": "ioVFu3CywF6o"
      },
      "source": [
        "Датасет `marketing_dealer` представляет собой наименование диллерсих сетей. Всего в датасете находится 18 уникальных значений, котороым соответсвует уникальный ключ - `id`"
      ]
    },
    {
      "cell_type": "code",
      "execution_count": 10,
      "metadata": {
        "colab": {
          "base_uri": "https://localhost:8080/"
        },
        "id": "byf6K9hjwF6o",
        "outputId": "cd77dd57-8a85-43cc-de23-0046cba9b1b5"
      },
      "outputs": [
        {
          "name": "stdout",
          "output_type": "stream",
          "text": [
            "Пропуски в датасете \"marketing_dealer\" не обнаружены\n"
          ]
        }
      ],
      "source": [
        "prosept.check_misses_marketing_dealer()"
      ]
    },
    {
      "cell_type": "markdown",
      "metadata": {
        "id": "Htk4fBzhwF6o"
      },
      "source": [
        "Пропусков в данных нет. Посмотрим на дубликаты:"
      ]
    },
    {
      "cell_type": "code",
      "execution_count": 11,
      "metadata": {
        "colab": {
          "base_uri": "https://localhost:8080/"
        },
        "id": "vMFz3x1uwF6o",
        "outputId": "c614233c-348c-48f5-c06d-d0ff1570b3a8"
      },
      "outputs": [
        {
          "name": "stdout",
          "output_type": "stream",
          "text": [
            "Дубликаты в \"marketing_dealer\" не обнаружены\n"
          ]
        }
      ],
      "source": [
        "prosept.check_duplicates_marketing_dealer()"
      ]
    },
    {
      "cell_type": "markdown",
      "metadata": {
        "id": "6XvuEVAJwF6p"
      },
      "source": [
        "## Marketing_dealer_price"
      ]
    },
    {
      "cell_type": "code",
      "execution_count": 12,
      "metadata": {
        "colab": {
          "base_uri": "https://localhost:8080/"
        },
        "id": "nGhZCIQiwF6p",
        "outputId": "22849505-a56a-438e-808f-a16f9cc337c3"
      },
      "outputs": [
        {
          "name": "stdout",
          "output_type": "stream",
          "text": [
            "<class 'pandas.core.frame.DataFrame'>\n",
            "RangeIndex: 20416 entries, 0 to 20415\n",
            "Data columns (total 7 columns):\n",
            " #   Column        Non-Null Count  Dtype         \n",
            "---  ------        --------------  -----         \n",
            " 0   id            20416 non-null  int64         \n",
            " 1   product_key   20416 non-null  object        \n",
            " 2   price         20416 non-null  float64       \n",
            " 3   product_url   20182 non-null  object        \n",
            " 4   product_name  20416 non-null  object        \n",
            " 5   date          20416 non-null  datetime64[ns]\n",
            " 6   dealer_id     20416 non-null  int64         \n",
            "dtypes: datetime64[ns](1), float64(1), int64(2), object(3)\n",
            "memory usage: 1.1+ MB\n"
          ]
        }
      ],
      "source": [
        "prosept.marketing_dealer_price.info()"
      ]
    },
    {
      "cell_type": "code",
      "execution_count": 13,
      "metadata": {
        "colab": {
          "base_uri": "https://localhost:8080/",
          "height": 206
        },
        "id": "HlNeSGX1wF6p",
        "outputId": "c37b26dd-b552-4cb3-fdf5-f9ac7bd23490"
      },
      "outputs": [
        {
          "data": {
            "text/html": [
              "\n",
              "  <div id=\"df-6df60946-743b-489a-85f7-ed07804bda0c\" class=\"colab-df-container\">\n",
              "    <div>\n",
              "<style scoped>\n",
              "    .dataframe tbody tr th:only-of-type {\n",
              "        vertical-align: middle;\n",
              "    }\n",
              "\n",
              "    .dataframe tbody tr th {\n",
              "        vertical-align: top;\n",
              "    }\n",
              "\n",
              "    .dataframe thead th {\n",
              "        text-align: right;\n",
              "    }\n",
              "</style>\n",
              "<table border=\"1\" class=\"dataframe\">\n",
              "  <thead>\n",
              "    <tr style=\"text-align: right;\">\n",
              "      <th></th>\n",
              "      <th>id</th>\n",
              "      <th>product_key</th>\n",
              "      <th>price</th>\n",
              "      <th>product_url</th>\n",
              "      <th>product_name</th>\n",
              "      <th>date</th>\n",
              "      <th>dealer_id</th>\n",
              "    </tr>\n",
              "  </thead>\n",
              "  <tbody>\n",
              "    <tr>\n",
              "      <th>19187</th>\n",
              "      <td>19338</td>\n",
              "      <td>https://kub02.ru/catalog/prosept/antiseptik_ne...</td>\n",
              "      <td>858.0</td>\n",
              "      <td>https://kub02.ru/catalog/prosept/antiseptik_ne...</td>\n",
              "      <td>Антисептик невымываемый (коричневый) PROSEPT U...</td>\n",
              "      <td>2023-07-31</td>\n",
              "      <td>6</td>\n",
              "    </tr>\n",
              "    <tr>\n",
              "      <th>8621</th>\n",
              "      <td>8682</td>\n",
              "      <td>200375969</td>\n",
              "      <td>5401.0</td>\n",
              "      <td>https://www.bafus.ru/200375969/</td>\n",
              "      <td>Просепт Огнебио Prof 1 огнебиозащита для древе...</td>\n",
              "      <td>2023-07-18</td>\n",
              "      <td>3</td>\n",
              "    </tr>\n",
              "    <tr>\n",
              "      <th>1288</th>\n",
              "      <td>1281</td>\n",
              "      <td>15881559</td>\n",
              "      <td>585.0</td>\n",
              "      <td>https://www.vseinstrumenti.ru/product/zhidkoe-...</td>\n",
              "      <td>Жидкое гель-мыло с перламутром без красителей ...</td>\n",
              "      <td>2023-07-11</td>\n",
              "      <td>15</td>\n",
              "    </tr>\n",
              "    <tr>\n",
              "      <th>9217</th>\n",
              "      <td>9246</td>\n",
              "      <td>2717033</td>\n",
              "      <td>550.0</td>\n",
              "      <td>https://www.onlinetrade.ru/catalogue/propitki_...</td>\n",
              "      <td>Антисептик невымываемый PROSEPT ULTRA, 1 литр,...</td>\n",
              "      <td>2023-07-18</td>\n",
              "      <td>10</td>\n",
              "    </tr>\n",
              "    <tr>\n",
              "      <th>17609</th>\n",
              "      <td>17761</td>\n",
              "      <td>1001472283</td>\n",
              "      <td>414.0</td>\n",
              "      <td>https://www.castorama.ru/sr_vo_dlya_stir_chyer...</td>\n",
              "      <td>Жидкое средство для стирки черных тканей Prose...</td>\n",
              "      <td>2023-07-28</td>\n",
              "      <td>5</td>\n",
              "    </tr>\n",
              "  </tbody>\n",
              "</table>\n",
              "</div>\n",
              "    <div class=\"colab-df-buttons\">\n",
              "\n",
              "  <div class=\"colab-df-container\">\n",
              "    <button class=\"colab-df-convert\" onclick=\"convertToInteractive('df-6df60946-743b-489a-85f7-ed07804bda0c')\"\n",
              "            title=\"Convert this dataframe to an interactive table.\"\n",
              "            style=\"display:none;\">\n",
              "\n",
              "  <svg xmlns=\"http://www.w3.org/2000/svg\" height=\"24px\" viewBox=\"0 -960 960 960\">\n",
              "    <path d=\"M120-120v-720h720v720H120Zm60-500h600v-160H180v160Zm220 220h160v-160H400v160Zm0 220h160v-160H400v160ZM180-400h160v-160H180v160Zm440 0h160v-160H620v160ZM180-180h160v-160H180v160Zm440 0h160v-160H620v160Z\"/>\n",
              "  </svg>\n",
              "    </button>\n",
              "\n",
              "  <style>\n",
              "    .colab-df-container {\n",
              "      display:flex;\n",
              "      gap: 12px;\n",
              "    }\n",
              "\n",
              "    .colab-df-convert {\n",
              "      background-color: #E8F0FE;\n",
              "      border: none;\n",
              "      border-radius: 50%;\n",
              "      cursor: pointer;\n",
              "      display: none;\n",
              "      fill: #1967D2;\n",
              "      height: 32px;\n",
              "      padding: 0 0 0 0;\n",
              "      width: 32px;\n",
              "    }\n",
              "\n",
              "    .colab-df-convert:hover {\n",
              "      background-color: #E2EBFA;\n",
              "      box-shadow: 0px 1px 2px rgba(60, 64, 67, 0.3), 0px 1px 3px 1px rgba(60, 64, 67, 0.15);\n",
              "      fill: #174EA6;\n",
              "    }\n",
              "\n",
              "    .colab-df-buttons div {\n",
              "      margin-bottom: 4px;\n",
              "    }\n",
              "\n",
              "    [theme=dark] .colab-df-convert {\n",
              "      background-color: #3B4455;\n",
              "      fill: #D2E3FC;\n",
              "    }\n",
              "\n",
              "    [theme=dark] .colab-df-convert:hover {\n",
              "      background-color: #434B5C;\n",
              "      box-shadow: 0px 1px 3px 1px rgba(0, 0, 0, 0.15);\n",
              "      filter: drop-shadow(0px 1px 2px rgba(0, 0, 0, 0.3));\n",
              "      fill: #FFFFFF;\n",
              "    }\n",
              "  </style>\n",
              "\n",
              "    <script>\n",
              "      const buttonEl =\n",
              "        document.querySelector('#df-6df60946-743b-489a-85f7-ed07804bda0c button.colab-df-convert');\n",
              "      buttonEl.style.display =\n",
              "        google.colab.kernel.accessAllowed ? 'block' : 'none';\n",
              "\n",
              "      async function convertToInteractive(key) {\n",
              "        const element = document.querySelector('#df-6df60946-743b-489a-85f7-ed07804bda0c');\n",
              "        const dataTable =\n",
              "          await google.colab.kernel.invokeFunction('convertToInteractive',\n",
              "                                                    [key], {});\n",
              "        if (!dataTable) return;\n",
              "\n",
              "        const docLinkHtml = 'Like what you see? Visit the ' +\n",
              "          '<a target=\"_blank\" href=https://colab.research.google.com/notebooks/data_table.ipynb>data table notebook</a>'\n",
              "          + ' to learn more about interactive tables.';\n",
              "        element.innerHTML = '';\n",
              "        dataTable['output_type'] = 'display_data';\n",
              "        await google.colab.output.renderOutput(dataTable, element);\n",
              "        const docLink = document.createElement('div');\n",
              "        docLink.innerHTML = docLinkHtml;\n",
              "        element.appendChild(docLink);\n",
              "      }\n",
              "    </script>\n",
              "  </div>\n",
              "\n",
              "\n",
              "<div id=\"df-3f06afa5-58b6-47c6-88f9-765443fb5467\">\n",
              "  <button class=\"colab-df-quickchart\" onclick=\"quickchart('df-3f06afa5-58b6-47c6-88f9-765443fb5467')\"\n",
              "            title=\"Suggest charts\"\n",
              "            style=\"display:none;\">\n",
              "\n",
              "<svg xmlns=\"http://www.w3.org/2000/svg\" height=\"24px\"viewBox=\"0 0 24 24\"\n",
              "     width=\"24px\">\n",
              "    <g>\n",
              "        <path d=\"M19 3H5c-1.1 0-2 .9-2 2v14c0 1.1.9 2 2 2h14c1.1 0 2-.9 2-2V5c0-1.1-.9-2-2-2zM9 17H7v-7h2v7zm4 0h-2V7h2v10zm4 0h-2v-4h2v4z\"/>\n",
              "    </g>\n",
              "</svg>\n",
              "  </button>\n",
              "\n",
              "<style>\n",
              "  .colab-df-quickchart {\n",
              "      --bg-color: #E8F0FE;\n",
              "      --fill-color: #1967D2;\n",
              "      --hover-bg-color: #E2EBFA;\n",
              "      --hover-fill-color: #174EA6;\n",
              "      --disabled-fill-color: #AAA;\n",
              "      --disabled-bg-color: #DDD;\n",
              "  }\n",
              "\n",
              "  [theme=dark] .colab-df-quickchart {\n",
              "      --bg-color: #3B4455;\n",
              "      --fill-color: #D2E3FC;\n",
              "      --hover-bg-color: #434B5C;\n",
              "      --hover-fill-color: #FFFFFF;\n",
              "      --disabled-bg-color: #3B4455;\n",
              "      --disabled-fill-color: #666;\n",
              "  }\n",
              "\n",
              "  .colab-df-quickchart {\n",
              "    background-color: var(--bg-color);\n",
              "    border: none;\n",
              "    border-radius: 50%;\n",
              "    cursor: pointer;\n",
              "    display: none;\n",
              "    fill: var(--fill-color);\n",
              "    height: 32px;\n",
              "    padding: 0;\n",
              "    width: 32px;\n",
              "  }\n",
              "\n",
              "  .colab-df-quickchart:hover {\n",
              "    background-color: var(--hover-bg-color);\n",
              "    box-shadow: 0 1px 2px rgba(60, 64, 67, 0.3), 0 1px 3px 1px rgba(60, 64, 67, 0.15);\n",
              "    fill: var(--button-hover-fill-color);\n",
              "  }\n",
              "\n",
              "  .colab-df-quickchart-complete:disabled,\n",
              "  .colab-df-quickchart-complete:disabled:hover {\n",
              "    background-color: var(--disabled-bg-color);\n",
              "    fill: var(--disabled-fill-color);\n",
              "    box-shadow: none;\n",
              "  }\n",
              "\n",
              "  .colab-df-spinner {\n",
              "    border: 2px solid var(--fill-color);\n",
              "    border-color: transparent;\n",
              "    border-bottom-color: var(--fill-color);\n",
              "    animation:\n",
              "      spin 1s steps(1) infinite;\n",
              "  }\n",
              "\n",
              "  @keyframes spin {\n",
              "    0% {\n",
              "      border-color: transparent;\n",
              "      border-bottom-color: var(--fill-color);\n",
              "      border-left-color: var(--fill-color);\n",
              "    }\n",
              "    20% {\n",
              "      border-color: transparent;\n",
              "      border-left-color: var(--fill-color);\n",
              "      border-top-color: var(--fill-color);\n",
              "    }\n",
              "    30% {\n",
              "      border-color: transparent;\n",
              "      border-left-color: var(--fill-color);\n",
              "      border-top-color: var(--fill-color);\n",
              "      border-right-color: var(--fill-color);\n",
              "    }\n",
              "    40% {\n",
              "      border-color: transparent;\n",
              "      border-right-color: var(--fill-color);\n",
              "      border-top-color: var(--fill-color);\n",
              "    }\n",
              "    60% {\n",
              "      border-color: transparent;\n",
              "      border-right-color: var(--fill-color);\n",
              "    }\n",
              "    80% {\n",
              "      border-color: transparent;\n",
              "      border-right-color: var(--fill-color);\n",
              "      border-bottom-color: var(--fill-color);\n",
              "    }\n",
              "    90% {\n",
              "      border-color: transparent;\n",
              "      border-bottom-color: var(--fill-color);\n",
              "    }\n",
              "  }\n",
              "</style>\n",
              "\n",
              "  <script>\n",
              "    async function quickchart(key) {\n",
              "      const quickchartButtonEl =\n",
              "        document.querySelector('#' + key + ' button');\n",
              "      quickchartButtonEl.disabled = true;  // To prevent multiple clicks.\n",
              "      quickchartButtonEl.classList.add('colab-df-spinner');\n",
              "      try {\n",
              "        const charts = await google.colab.kernel.invokeFunction(\n",
              "            'suggestCharts', [key], {});\n",
              "      } catch (error) {\n",
              "        console.error('Error during call to suggestCharts:', error);\n",
              "      }\n",
              "      quickchartButtonEl.classList.remove('colab-df-spinner');\n",
              "      quickchartButtonEl.classList.add('colab-df-quickchart-complete');\n",
              "    }\n",
              "    (() => {\n",
              "      let quickchartButtonEl =\n",
              "        document.querySelector('#df-3f06afa5-58b6-47c6-88f9-765443fb5467 button');\n",
              "      quickchartButtonEl.style.display =\n",
              "        google.colab.kernel.accessAllowed ? 'block' : 'none';\n",
              "    })();\n",
              "  </script>\n",
              "</div>\n",
              "\n",
              "    </div>\n",
              "  </div>\n"
            ],
            "text/plain": [
              "          id                                        product_key   price  \\\n",
              "19187  19338  https://kub02.ru/catalog/prosept/antiseptik_ne...   858.0   \n",
              "8621    8682                                          200375969  5401.0   \n",
              "1288    1281                                           15881559   585.0   \n",
              "9217    9246                                            2717033   550.0   \n",
              "17609  17761                                         1001472283   414.0   \n",
              "\n",
              "                                             product_url  \\\n",
              "19187  https://kub02.ru/catalog/prosept/antiseptik_ne...   \n",
              "8621                     https://www.bafus.ru/200375969/   \n",
              "1288   https://www.vseinstrumenti.ru/product/zhidkoe-...   \n",
              "9217   https://www.onlinetrade.ru/catalogue/propitki_...   \n",
              "17609  https://www.castorama.ru/sr_vo_dlya_stir_chyer...   \n",
              "\n",
              "                                            product_name       date  dealer_id  \n",
              "19187  Антисептик невымываемый (коричневый) PROSEPT U... 2023-07-31          6  \n",
              "8621   Просепт Огнебио Prof 1 огнебиозащита для древе... 2023-07-18          3  \n",
              "1288   Жидкое гель-мыло с перламутром без красителей ... 2023-07-11         15  \n",
              "9217   Антисептик невымываемый PROSEPT ULTRA, 1 литр,... 2023-07-18         10  \n",
              "17609  Жидкое средство для стирки черных тканей Prose... 2023-07-28          5  "
            ]
          },
          "execution_count": 13,
          "metadata": {},
          "output_type": "execute_result"
        }
      ],
      "source": [
        "prosept.marketing_dealer_price.sample(5, random_state=RANDOM_SEED)"
      ]
    },
    {
      "cell_type": "markdown",
      "metadata": {
        "id": "CtzxCHiUwF6p"
      },
      "source": [
        "### Неверные значения в product_key"
      ]
    },
    {
      "cell_type": "code",
      "execution_count": 14,
      "metadata": {
        "colab": {
          "base_uri": "https://localhost:8080/"
        },
        "id": "ip7ZXll_wF6p",
        "outputId": "9b2d90e8-cdb2-4d44-98a1-06c77c34358b"
      },
      "outputs": [
        {
          "data": {
            "text/plain": [
              "703    https://kub02.ru/catalog/professionalnaya_byto...\n",
              "704    https://kub02.ru/catalog/prosept/antiseptik_un...\n",
              "705    https://kub02.ru/catalog/professionalnaya_byto...\n",
              "706    https://kub02.ru/catalog/kraska_i_gruntovka/kr...\n",
              "707    https://kub02.ru/catalog/professionalnaya_byto...\n",
              "Name: product_key, dtype: object"
            ]
          },
          "execution_count": 14,
          "metadata": {},
          "output_type": "execute_result"
        }
      ],
      "source": [
        "prosept.marketing_dealer_price['product_key'][~prosept.marketing_dealer_price['product_key'].str.isdigit()].head(5)"
      ]
    },
    {
      "cell_type": "markdown",
      "metadata": {
        "id": "ZFMGNEGNwF6p"
      },
      "source": [
        "В строке `product_key` есть ссылки. Данная строка нужна нам для получения ключей продукта, следовательно данные значения можно удалять. Отчистим лишние пробелы, затем посмотрим ещё раз:"
      ]
    },
    {
      "cell_type": "code",
      "execution_count": 15,
      "metadata": {
        "colab": {
          "base_uri": "https://localhost:8080/"
        },
        "id": "XKTjMwnYwF6q",
        "outputId": "2241dc81-e25e-422b-8932-99605c11c363"
      },
      "outputs": [
        {
          "data": {
            "text/plain": [
              "240"
            ]
          },
          "execution_count": 15,
          "metadata": {},
          "output_type": "execute_result"
        }
      ],
      "source": [
        "prosept.marketing_dealer_price['product_key'] = prosept.marketing_dealer_price['product_key'].str.strip()\n",
        "prosept.marketing_dealer_price['product_key'][~prosept.marketing_dealer_price['product_key'].str.isdigit()].shape[0]"
      ]
    },
    {
      "cell_type": "markdown",
      "metadata": {
        "id": "KG6z08dcwF6q"
      },
      "source": [
        "Всего найдено 240 объектов, где `product_key` является ссылкой. Удаляем некорректные значения:"
      ]
    },
    {
      "cell_type": "code",
      "execution_count": 16,
      "metadata": {
        "colab": {
          "base_uri": "https://localhost:8080/"
        },
        "id": "vS5s6kNDwF6q",
        "outputId": "b5c86056-f894-4c97-fd08-3c39842fc0a3"
      },
      "outputs": [
        {
          "data": {
            "text/plain": [
              "0"
            ]
          },
          "execution_count": 16,
          "metadata": {},
          "output_type": "execute_result"
        }
      ],
      "source": [
        "prosept.marketing_dealer_price = prosept.marketing_dealer_price[prosept.marketing_dealer_price['product_key'].str.isdigit()]\n",
        "prosept.marketing_dealer_price.reset_index(drop=True, inplace=True)\n",
        "prosept.marketing_dealer_price['product_key'][~prosept.marketing_dealer_price['product_key'].str.isdigit()].shape[0]"
      ]
    },
    {
      "cell_type": "code",
      "execution_count": 17,
      "metadata": {
        "colab": {
          "base_uri": "https://localhost:8080/",
          "height": 424
        },
        "id": "GI8BTYPVwF6q",
        "outputId": "50496750-15e8-47fa-aec2-7291e0226f48"
      },
      "outputs": [
        {
          "data": {
            "text/html": [
              "\n",
              "  <div id=\"df-0accc339-83a8-4aca-8811-1ae95d6b0395\" class=\"colab-df-container\">\n",
              "    <div>\n",
              "<style scoped>\n",
              "    .dataframe tbody tr th:only-of-type {\n",
              "        vertical-align: middle;\n",
              "    }\n",
              "\n",
              "    .dataframe tbody tr th {\n",
              "        vertical-align: top;\n",
              "    }\n",
              "\n",
              "    .dataframe thead th {\n",
              "        text-align: right;\n",
              "    }\n",
              "</style>\n",
              "<table border=\"1\" class=\"dataframe\">\n",
              "  <thead>\n",
              "    <tr style=\"text-align: right;\">\n",
              "      <th></th>\n",
              "      <th>id</th>\n",
              "      <th>product_key</th>\n",
              "      <th>price</th>\n",
              "      <th>product_url</th>\n",
              "      <th>product_name</th>\n",
              "      <th>date</th>\n",
              "      <th>dealer_id</th>\n",
              "    </tr>\n",
              "  </thead>\n",
              "  <tbody>\n",
              "    <tr>\n",
              "      <th>0</th>\n",
              "      <td>2</td>\n",
              "      <td>546227</td>\n",
              "      <td>233.0</td>\n",
              "      <td>https://akson.ru//p/sredstvo_universalnoe_pros...</td>\n",
              "      <td>Средство универсальное Prosept Universal Spray...</td>\n",
              "      <td>2023-07-11</td>\n",
              "      <td>2</td>\n",
              "    </tr>\n",
              "    <tr>\n",
              "      <th>1</th>\n",
              "      <td>3</td>\n",
              "      <td>546408</td>\n",
              "      <td>175.0</td>\n",
              "      <td>https://akson.ru//p/kontsentrat_prosept_multip...</td>\n",
              "      <td>Концентрат Prosept Multipower для мытья полов,...</td>\n",
              "      <td>2023-07-11</td>\n",
              "      <td>2</td>\n",
              "    </tr>\n",
              "    <tr>\n",
              "      <th>2</th>\n",
              "      <td>4</td>\n",
              "      <td>546234</td>\n",
              "      <td>285.0</td>\n",
              "      <td>https://akson.ru//p/sredstvo_dlya_chistki_lyus...</td>\n",
              "      <td>Средство для чистки люстр Prosept Universal An...</td>\n",
              "      <td>2023-07-11</td>\n",
              "      <td>2</td>\n",
              "    </tr>\n",
              "    <tr>\n",
              "      <th>3</th>\n",
              "      <td>5</td>\n",
              "      <td>651258</td>\n",
              "      <td>362.0</td>\n",
              "      <td>https://akson.ru//p/udalitel_rzhavchiny_prosep...</td>\n",
              "      <td>Удалитель ржавчины PROSEPT RUST REMOVER 0,5л 0...</td>\n",
              "      <td>2023-07-11</td>\n",
              "      <td>2</td>\n",
              "    </tr>\n",
              "    <tr>\n",
              "      <th>4</th>\n",
              "      <td>6</td>\n",
              "      <td>546355</td>\n",
              "      <td>205.0</td>\n",
              "      <td>https://akson.ru//p/sredstvo_moyushchee_dlya_b...</td>\n",
              "      <td>Средство моющее для бани и сауны Prosept Multi...</td>\n",
              "      <td>2023-07-11</td>\n",
              "      <td>2</td>\n",
              "    </tr>\n",
              "    <tr>\n",
              "      <th>...</th>\n",
              "      <td>...</td>\n",
              "      <td>...</td>\n",
              "      <td>...</td>\n",
              "      <td>...</td>\n",
              "      <td>...</td>\n",
              "      <td>...</td>\n",
              "      <td>...</td>\n",
              "    </tr>\n",
              "    <tr>\n",
              "      <th>20171</th>\n",
              "      <td>20566</td>\n",
              "      <td>534517451</td>\n",
              "      <td>823.0</td>\n",
              "      <td>https://www.ozon.ru/product/534517451</td>\n",
              "      <td>Огнебиозащита для древесины PROSEPT 2 группа, ...</td>\n",
              "      <td>2023-07-31</td>\n",
              "      <td>18</td>\n",
              "    </tr>\n",
              "    <tr>\n",
              "      <th>20172</th>\n",
              "      <td>20567</td>\n",
              "      <td>530308963</td>\n",
              "      <td>418.0</td>\n",
              "      <td>https://www.ozon.ru/product/530308963</td>\n",
              "      <td>Антисептик многофункциональный ФБС, ГОСТ 5 л</td>\n",
              "      <td>2023-07-31</td>\n",
              "      <td>18</td>\n",
              "    </tr>\n",
              "    <tr>\n",
              "      <th>20173</th>\n",
              "      <td>20568</td>\n",
              "      <td>531730388</td>\n",
              "      <td>2986.0</td>\n",
              "      <td>https://www.ozon.ru/product/531730388</td>\n",
              "      <td>Средство для удаления ржавчины PROSEPT, 1 шт</td>\n",
              "      <td>2023-07-31</td>\n",
              "      <td>18</td>\n",
              "    </tr>\n",
              "    <tr>\n",
              "      <th>20174</th>\n",
              "      <td>20569</td>\n",
              "      <td>1090913025</td>\n",
              "      <td>579.0</td>\n",
              "      <td>https://www.ozon.ru/product/1090913025</td>\n",
              "      <td>Герметик акриловый межшовный для деревянных ко...</td>\n",
              "      <td>2023-07-31</td>\n",
              "      <td>18</td>\n",
              "    </tr>\n",
              "    <tr>\n",
              "      <th>20175</th>\n",
              "      <td>20570</td>\n",
              "      <td>1077090171</td>\n",
              "      <td>2623.0</td>\n",
              "      <td>https://www.ozon.ru/product/1077090171</td>\n",
              "      <td>Краска-грунт фасадная для плит OSB Proff 3 в 1...</td>\n",
              "      <td>2023-07-31</td>\n",
              "      <td>18</td>\n",
              "    </tr>\n",
              "  </tbody>\n",
              "</table>\n",
              "<p>20176 rows × 7 columns</p>\n",
              "</div>\n",
              "    <div class=\"colab-df-buttons\">\n",
              "\n",
              "  <div class=\"colab-df-container\">\n",
              "    <button class=\"colab-df-convert\" onclick=\"convertToInteractive('df-0accc339-83a8-4aca-8811-1ae95d6b0395')\"\n",
              "            title=\"Convert this dataframe to an interactive table.\"\n",
              "            style=\"display:none;\">\n",
              "\n",
              "  <svg xmlns=\"http://www.w3.org/2000/svg\" height=\"24px\" viewBox=\"0 -960 960 960\">\n",
              "    <path d=\"M120-120v-720h720v720H120Zm60-500h600v-160H180v160Zm220 220h160v-160H400v160Zm0 220h160v-160H400v160ZM180-400h160v-160H180v160Zm440 0h160v-160H620v160ZM180-180h160v-160H180v160Zm440 0h160v-160H620v160Z\"/>\n",
              "  </svg>\n",
              "    </button>\n",
              "\n",
              "  <style>\n",
              "    .colab-df-container {\n",
              "      display:flex;\n",
              "      gap: 12px;\n",
              "    }\n",
              "\n",
              "    .colab-df-convert {\n",
              "      background-color: #E8F0FE;\n",
              "      border: none;\n",
              "      border-radius: 50%;\n",
              "      cursor: pointer;\n",
              "      display: none;\n",
              "      fill: #1967D2;\n",
              "      height: 32px;\n",
              "      padding: 0 0 0 0;\n",
              "      width: 32px;\n",
              "    }\n",
              "\n",
              "    .colab-df-convert:hover {\n",
              "      background-color: #E2EBFA;\n",
              "      box-shadow: 0px 1px 2px rgba(60, 64, 67, 0.3), 0px 1px 3px 1px rgba(60, 64, 67, 0.15);\n",
              "      fill: #174EA6;\n",
              "    }\n",
              "\n",
              "    .colab-df-buttons div {\n",
              "      margin-bottom: 4px;\n",
              "    }\n",
              "\n",
              "    [theme=dark] .colab-df-convert {\n",
              "      background-color: #3B4455;\n",
              "      fill: #D2E3FC;\n",
              "    }\n",
              "\n",
              "    [theme=dark] .colab-df-convert:hover {\n",
              "      background-color: #434B5C;\n",
              "      box-shadow: 0px 1px 3px 1px rgba(0, 0, 0, 0.15);\n",
              "      filter: drop-shadow(0px 1px 2px rgba(0, 0, 0, 0.3));\n",
              "      fill: #FFFFFF;\n",
              "    }\n",
              "  </style>\n",
              "\n",
              "    <script>\n",
              "      const buttonEl =\n",
              "        document.querySelector('#df-0accc339-83a8-4aca-8811-1ae95d6b0395 button.colab-df-convert');\n",
              "      buttonEl.style.display =\n",
              "        google.colab.kernel.accessAllowed ? 'block' : 'none';\n",
              "\n",
              "      async function convertToInteractive(key) {\n",
              "        const element = document.querySelector('#df-0accc339-83a8-4aca-8811-1ae95d6b0395');\n",
              "        const dataTable =\n",
              "          await google.colab.kernel.invokeFunction('convertToInteractive',\n",
              "                                                    [key], {});\n",
              "        if (!dataTable) return;\n",
              "\n",
              "        const docLinkHtml = 'Like what you see? Visit the ' +\n",
              "          '<a target=\"_blank\" href=https://colab.research.google.com/notebooks/data_table.ipynb>data table notebook</a>'\n",
              "          + ' to learn more about interactive tables.';\n",
              "        element.innerHTML = '';\n",
              "        dataTable['output_type'] = 'display_data';\n",
              "        await google.colab.output.renderOutput(dataTable, element);\n",
              "        const docLink = document.createElement('div');\n",
              "        docLink.innerHTML = docLinkHtml;\n",
              "        element.appendChild(docLink);\n",
              "      }\n",
              "    </script>\n",
              "  </div>\n",
              "\n",
              "\n",
              "<div id=\"df-781d3b48-8dd9-4999-92df-eb552be13346\">\n",
              "  <button class=\"colab-df-quickchart\" onclick=\"quickchart('df-781d3b48-8dd9-4999-92df-eb552be13346')\"\n",
              "            title=\"Suggest charts\"\n",
              "            style=\"display:none;\">\n",
              "\n",
              "<svg xmlns=\"http://www.w3.org/2000/svg\" height=\"24px\"viewBox=\"0 0 24 24\"\n",
              "     width=\"24px\">\n",
              "    <g>\n",
              "        <path d=\"M19 3H5c-1.1 0-2 .9-2 2v14c0 1.1.9 2 2 2h14c1.1 0 2-.9 2-2V5c0-1.1-.9-2-2-2zM9 17H7v-7h2v7zm4 0h-2V7h2v10zm4 0h-2v-4h2v4z\"/>\n",
              "    </g>\n",
              "</svg>\n",
              "  </button>\n",
              "\n",
              "<style>\n",
              "  .colab-df-quickchart {\n",
              "      --bg-color: #E8F0FE;\n",
              "      --fill-color: #1967D2;\n",
              "      --hover-bg-color: #E2EBFA;\n",
              "      --hover-fill-color: #174EA6;\n",
              "      --disabled-fill-color: #AAA;\n",
              "      --disabled-bg-color: #DDD;\n",
              "  }\n",
              "\n",
              "  [theme=dark] .colab-df-quickchart {\n",
              "      --bg-color: #3B4455;\n",
              "      --fill-color: #D2E3FC;\n",
              "      --hover-bg-color: #434B5C;\n",
              "      --hover-fill-color: #FFFFFF;\n",
              "      --disabled-bg-color: #3B4455;\n",
              "      --disabled-fill-color: #666;\n",
              "  }\n",
              "\n",
              "  .colab-df-quickchart {\n",
              "    background-color: var(--bg-color);\n",
              "    border: none;\n",
              "    border-radius: 50%;\n",
              "    cursor: pointer;\n",
              "    display: none;\n",
              "    fill: var(--fill-color);\n",
              "    height: 32px;\n",
              "    padding: 0;\n",
              "    width: 32px;\n",
              "  }\n",
              "\n",
              "  .colab-df-quickchart:hover {\n",
              "    background-color: var(--hover-bg-color);\n",
              "    box-shadow: 0 1px 2px rgba(60, 64, 67, 0.3), 0 1px 3px 1px rgba(60, 64, 67, 0.15);\n",
              "    fill: var(--button-hover-fill-color);\n",
              "  }\n",
              "\n",
              "  .colab-df-quickchart-complete:disabled,\n",
              "  .colab-df-quickchart-complete:disabled:hover {\n",
              "    background-color: var(--disabled-bg-color);\n",
              "    fill: var(--disabled-fill-color);\n",
              "    box-shadow: none;\n",
              "  }\n",
              "\n",
              "  .colab-df-spinner {\n",
              "    border: 2px solid var(--fill-color);\n",
              "    border-color: transparent;\n",
              "    border-bottom-color: var(--fill-color);\n",
              "    animation:\n",
              "      spin 1s steps(1) infinite;\n",
              "  }\n",
              "\n",
              "  @keyframes spin {\n",
              "    0% {\n",
              "      border-color: transparent;\n",
              "      border-bottom-color: var(--fill-color);\n",
              "      border-left-color: var(--fill-color);\n",
              "    }\n",
              "    20% {\n",
              "      border-color: transparent;\n",
              "      border-left-color: var(--fill-color);\n",
              "      border-top-color: var(--fill-color);\n",
              "    }\n",
              "    30% {\n",
              "      border-color: transparent;\n",
              "      border-left-color: var(--fill-color);\n",
              "      border-top-color: var(--fill-color);\n",
              "      border-right-color: var(--fill-color);\n",
              "    }\n",
              "    40% {\n",
              "      border-color: transparent;\n",
              "      border-right-color: var(--fill-color);\n",
              "      border-top-color: var(--fill-color);\n",
              "    }\n",
              "    60% {\n",
              "      border-color: transparent;\n",
              "      border-right-color: var(--fill-color);\n",
              "    }\n",
              "    80% {\n",
              "      border-color: transparent;\n",
              "      border-right-color: var(--fill-color);\n",
              "      border-bottom-color: var(--fill-color);\n",
              "    }\n",
              "    90% {\n",
              "      border-color: transparent;\n",
              "      border-bottom-color: var(--fill-color);\n",
              "    }\n",
              "  }\n",
              "</style>\n",
              "\n",
              "  <script>\n",
              "    async function quickchart(key) {\n",
              "      const quickchartButtonEl =\n",
              "        document.querySelector('#' + key + ' button');\n",
              "      quickchartButtonEl.disabled = true;  // To prevent multiple clicks.\n",
              "      quickchartButtonEl.classList.add('colab-df-spinner');\n",
              "      try {\n",
              "        const charts = await google.colab.kernel.invokeFunction(\n",
              "            'suggestCharts', [key], {});\n",
              "      } catch (error) {\n",
              "        console.error('Error during call to suggestCharts:', error);\n",
              "      }\n",
              "      quickchartButtonEl.classList.remove('colab-df-spinner');\n",
              "      quickchartButtonEl.classList.add('colab-df-quickchart-complete');\n",
              "    }\n",
              "    (() => {\n",
              "      let quickchartButtonEl =\n",
              "        document.querySelector('#df-781d3b48-8dd9-4999-92df-eb552be13346 button');\n",
              "      quickchartButtonEl.style.display =\n",
              "        google.colab.kernel.accessAllowed ? 'block' : 'none';\n",
              "    })();\n",
              "  </script>\n",
              "</div>\n",
              "\n",
              "    </div>\n",
              "  </div>\n"
            ],
            "text/plain": [
              "          id product_key   price  \\\n",
              "0          2      546227   233.0   \n",
              "1          3      546408   175.0   \n",
              "2          4      546234   285.0   \n",
              "3          5      651258   362.0   \n",
              "4          6      546355   205.0   \n",
              "...      ...         ...     ...   \n",
              "20171  20566   534517451   823.0   \n",
              "20172  20567   530308963   418.0   \n",
              "20173  20568   531730388  2986.0   \n",
              "20174  20569  1090913025   579.0   \n",
              "20175  20570  1077090171  2623.0   \n",
              "\n",
              "                                             product_url  \\\n",
              "0      https://akson.ru//p/sredstvo_universalnoe_pros...   \n",
              "1      https://akson.ru//p/kontsentrat_prosept_multip...   \n",
              "2      https://akson.ru//p/sredstvo_dlya_chistki_lyus...   \n",
              "3      https://akson.ru//p/udalitel_rzhavchiny_prosep...   \n",
              "4      https://akson.ru//p/sredstvo_moyushchee_dlya_b...   \n",
              "...                                                  ...   \n",
              "20171              https://www.ozon.ru/product/534517451   \n",
              "20172              https://www.ozon.ru/product/530308963   \n",
              "20173              https://www.ozon.ru/product/531730388   \n",
              "20174             https://www.ozon.ru/product/1090913025   \n",
              "20175             https://www.ozon.ru/product/1077090171   \n",
              "\n",
              "                                            product_name       date  dealer_id  \n",
              "0      Средство универсальное Prosept Universal Spray... 2023-07-11          2  \n",
              "1      Концентрат Prosept Multipower для мытья полов,... 2023-07-11          2  \n",
              "2      Средство для чистки люстр Prosept Universal An... 2023-07-11          2  \n",
              "3      Удалитель ржавчины PROSEPT RUST REMOVER 0,5л 0... 2023-07-11          2  \n",
              "4      Средство моющее для бани и сауны Prosept Multi... 2023-07-11          2  \n",
              "...                                                  ...        ...        ...  \n",
              "20171  Огнебиозащита для древесины PROSEPT 2 группа, ... 2023-07-31         18  \n",
              "20172       Антисептик многофункциональный ФБС, ГОСТ 5 л 2023-07-31         18  \n",
              "20173       Средство для удаления ржавчины PROSEPT, 1 шт 2023-07-31         18  \n",
              "20174  Герметик акриловый межшовный для деревянных ко... 2023-07-31         18  \n",
              "20175  Краска-грунт фасадная для плит OSB Proff 3 в 1... 2023-07-31         18  \n",
              "\n",
              "[20176 rows x 7 columns]"
            ]
          },
          "execution_count": 17,
          "metadata": {},
          "output_type": "execute_result"
        }
      ],
      "source": [
        "prosept.marketing_dealer_price"
      ]
    },
    {
      "cell_type": "code",
      "execution_count": 18,
      "metadata": {
        "colab": {
          "base_uri": "https://localhost:8080/"
        },
        "id": "PYz8EBOowF6q",
        "outputId": "636a1c0f-9356-400f-a9f1-56ad1bfb3a4d"
      },
      "outputs": [
        {
          "data": {
            "text/plain": [
              "count                                                 20176\n",
              "unique                                                 1930\n",
              "top       Просепт Bio Lasur антисептик лессирующий защит...\n",
              "freq                                                    117\n",
              "Name: product_name, dtype: object"
            ]
          },
          "execution_count": 18,
          "metadata": {},
          "output_type": "execute_result"
        }
      ],
      "source": [
        "prosept.marketing_dealer_price['product_name'].describe()"
      ]
    },
    {
      "cell_type": "markdown",
      "metadata": {
        "id": "h5T9723UwF6q"
      },
      "source": [
        "В тексте имеется `20176` значений и всего `1930` уникальных для колонки `product_name`. Отчистим дубликаты позже. Посмотрим на количество пропусков:"
      ]
    },
    {
      "cell_type": "code",
      "execution_count": 19,
      "metadata": {
        "colab": {
          "base_uri": "https://localhost:8080/",
          "height": 766
        },
        "id": "V_-RzaU3wF6r",
        "outputId": "c0d4df61-231e-4648-a9f6-3b0ac6034c79"
      },
      "outputs": [
        {
          "data": {
            "image/png": "[encoded data removed]",
            "text/plain": [
              "<Figure size 1200x800 with 1 Axes>"
            ]
          },
          "metadata": {},
          "output_type": "display_data"
        }
      ],
      "source": [
        "prosept.check_misses_marketing_dealer_price()"
      ]
    },
    {
      "cell_type": "markdown",
      "metadata": {
        "id": "V2cY6nAqwF6r"
      },
      "source": [
        "В датафрейме всего `1.16%` в колонке `product_url`. Их можно пропустить. Вернемся к дубликатам:"
      ]
    },
    {
      "cell_type": "code",
      "execution_count": 20,
      "metadata": {
        "colab": {
          "base_uri": "https://localhost:8080/"
        },
        "id": "gi_O_XrywF6r",
        "outputId": "5f8b6f76-bbf0-4c78-a75d-4b88427fdc41"
      },
      "outputs": [
        {
          "name": "stdout",
          "output_type": "stream",
          "text": [
            "Дубликаты в \"marketing_dealer_price\" не обнаружены\n"
          ]
        }
      ],
      "source": [
        "prosept.check_duplicates_marketing_dealer_price()"
      ]
    },
    {
      "cell_type": "markdown",
      "metadata": {
        "id": "b_synNcZwF6r"
      },
      "source": [
        "В датасете найдено полных 726 дубликатов. Скорее всего их больше. Посмотрим на них без колонки `date`:"
      ]
    },
    {
      "cell_type": "code",
      "execution_count": 21,
      "metadata": {
        "colab": {
          "base_uri": "https://localhost:8080/",
          "height": 53
        },
        "id": "npYPN_OWwF6r",
        "outputId": "b829e8dd-eac0-44b1-8811-f72504c94e93"
      },
      "outputs": [
        {
          "data": {
            "text/html": [
              "\n",
              "  <div id=\"df-b43aee8d-10d5-434d-8eef-d7a1b467cb05\" class=\"colab-df-container\">\n",
              "    <div>\n",
              "<style scoped>\n",
              "    .dataframe tbody tr th:only-of-type {\n",
              "        vertical-align: middle;\n",
              "    }\n",
              "\n",
              "    .dataframe tbody tr th {\n",
              "        vertical-align: top;\n",
              "    }\n",
              "\n",
              "    .dataframe thead th {\n",
              "        text-align: right;\n",
              "    }\n",
              "</style>\n",
              "<table border=\"1\" class=\"dataframe\">\n",
              "  <thead>\n",
              "    <tr style=\"text-align: right;\">\n",
              "      <th></th>\n",
              "      <th>id</th>\n",
              "      <th>product_key</th>\n",
              "      <th>price</th>\n",
              "      <th>product_url</th>\n",
              "      <th>product_name</th>\n",
              "      <th>date</th>\n",
              "      <th>dealer_id</th>\n",
              "    </tr>\n",
              "  </thead>\n",
              "  <tbody>\n",
              "  </tbody>\n",
              "</table>\n",
              "</div>\n",
              "    <div class=\"colab-df-buttons\">\n",
              "\n",
              "  <div class=\"colab-df-container\">\n",
              "    <button class=\"colab-df-convert\" onclick=\"convertToInteractive('df-b43aee8d-10d5-434d-8eef-d7a1b467cb05')\"\n",
              "            title=\"Convert this dataframe to an interactive table.\"\n",
              "            style=\"display:none;\">\n",
              "\n",
              "  <svg xmlns=\"http://www.w3.org/2000/svg\" height=\"24px\" viewBox=\"0 -960 960 960\">\n",
              "    <path d=\"M120-120v-720h720v720H120Zm60-500h600v-160H180v160Zm220 220h160v-160H400v160Zm0 220h160v-160H400v160ZM180-400h160v-160H180v160Zm440 0h160v-160H620v160ZM180-180h160v-160H180v160Zm440 0h160v-160H620v160Z\"/>\n",
              "  </svg>\n",
              "    </button>\n",
              "\n",
              "  <style>\n",
              "    .colab-df-container {\n",
              "      display:flex;\n",
              "      gap: 12px;\n",
              "    }\n",
              "\n",
              "    .colab-df-convert {\n",
              "      background-color: #E8F0FE;\n",
              "      border: none;\n",
              "      border-radius: 50%;\n",
              "      cursor: pointer;\n",
              "      display: none;\n",
              "      fill: #1967D2;\n",
              "      height: 32px;\n",
              "      padding: 0 0 0 0;\n",
              "      width: 32px;\n",
              "    }\n",
              "\n",
              "    .colab-df-convert:hover {\n",
              "      background-color: #E2EBFA;\n",
              "      box-shadow: 0px 1px 2px rgba(60, 64, 67, 0.3), 0px 1px 3px 1px rgba(60, 64, 67, 0.15);\n",
              "      fill: #174EA6;\n",
              "    }\n",
              "\n",
              "    .colab-df-buttons div {\n",
              "      margin-bottom: 4px;\n",
              "    }\n",
              "\n",
              "    [theme=dark] .colab-df-convert {\n",
              "      background-color: #3B4455;\n",
              "      fill: #D2E3FC;\n",
              "    }\n",
              "\n",
              "    [theme=dark] .colab-df-convert:hover {\n",
              "      background-color: #434B5C;\n",
              "      box-shadow: 0px 1px 3px 1px rgba(0, 0, 0, 0.15);\n",
              "      filter: drop-shadow(0px 1px 2px rgba(0, 0, 0, 0.3));\n",
              "      fill: #FFFFFF;\n",
              "    }\n",
              "  </style>\n",
              "\n",
              "    <script>\n",
              "      const buttonEl =\n",
              "        document.querySelector('#df-b43aee8d-10d5-434d-8eef-d7a1b467cb05 button.colab-df-convert');\n",
              "      buttonEl.style.display =\n",
              "        google.colab.kernel.accessAllowed ? 'block' : 'none';\n",
              "\n",
              "      async function convertToInteractive(key) {\n",
              "        const element = document.querySelector('#df-b43aee8d-10d5-434d-8eef-d7a1b467cb05');\n",
              "        const dataTable =\n",
              "          await google.colab.kernel.invokeFunction('convertToInteractive',\n",
              "                                                    [key], {});\n",
              "        if (!dataTable) return;\n",
              "\n",
              "        const docLinkHtml = 'Like what you see? Visit the ' +\n",
              "          '<a target=\"_blank\" href=https://colab.research.google.com/notebooks/data_table.ipynb>data table notebook</a>'\n",
              "          + ' to learn more about interactive tables.';\n",
              "        element.innerHTML = '';\n",
              "        dataTable['output_type'] = 'display_data';\n",
              "        await google.colab.output.renderOutput(dataTable, element);\n",
              "        const docLink = document.createElement('div');\n",
              "        docLink.innerHTML = docLinkHtml;\n",
              "        element.appendChild(docLink);\n",
              "      }\n",
              "    </script>\n",
              "  </div>\n",
              "\n",
              "\n",
              "    </div>\n",
              "  </div>\n"
            ],
            "text/plain": [
              "Empty DataFrame\n",
              "Columns: [id, product_key, price, product_url, product_name, date, dealer_id]\n",
              "Index: []"
            ]
          },
          "execution_count": 21,
          "metadata": {},
          "output_type": "execute_result"
        }
      ],
      "source": [
        "prosept.marketing_dealer_price[prosept.marketing_dealer_price\n",
        "                               .drop(columns=['date'])\n",
        "                               .duplicated(keep=False)].sort_values(by='product_key').head(10)"
      ]
    },
    {
      "cell_type": "code",
      "execution_count": 22,
      "metadata": {
        "id": "dtALTmGBwF6r"
      },
      "outputs": [],
      "source": [
        "duplicates = prosept.marketing_dealer_price[prosept.marketing_dealer_price\n",
        "                               .drop(columns=['date'])\n",
        "                               .duplicated(keep=False)].sort_values(by='product_key').shape[0]"
      ]
    },
    {
      "cell_type": "markdown",
      "metadata": {
        "id": "vUe-UOdXwF6s"
      },
      "source": [
        "Количество дубликатов составляет:\n",
        "1. `726` полных дубликатов - парсинг был осуществлен в один и тот же день;\n",
        "2. `19092` неполных дубликатов (без колонки `date`) - одни и те же товары, парсинг которых состоялся в разный день."
      ]
    },
    {
      "cell_type": "markdown",
      "metadata": {
        "id": "BTyumYKBwF6s"
      },
      "source": [
        "Оставим только уникальные запросы:"
      ]
    },
    {
      "cell_type": "code",
      "execution_count": 23,
      "metadata": {
        "colab": {
          "base_uri": "https://localhost:8080/"
        },
        "id": "cqE8nNUMwF6s",
        "outputId": "fc071ddb-b59d-4c64-e081-5ce5bf5e256b"
      },
      "outputs": [
        {
          "data": {
            "text/plain": [
              "array(['Средство универсальное Prosept Universal Spray, 500мл',\n",
              "       'Концентрат Prosept Multipower для мытья полов, цитрус 1л',\n",
              "       'Средство для чистки люстр Prosept Universal Anti-dust, 500мл',\n",
              "       ...,\n",
              "       'Средство для удаления клейкой ленты, клея, наклеек 0,4л PROSEPT Duty Universal готовый состав',\n",
              "       'Отбеливатель для древесины PROSEPT ECO 50 готовый состав 1 кг',\n",
              "       'Герметик акриловый межшовный для деревянных конструкций, цвет \"Орех\" готовый состав 0,6 кг'],\n",
              "      dtype=object)"
            ]
          },
          "execution_count": 23,
          "metadata": {},
          "output_type": "execute_result"
        }
      ],
      "source": [
        "prosept.marketing_dealer_price['product_name'].unique()"
      ]
    },
    {
      "cell_type": "code",
      "execution_count": 24,
      "metadata": {
        "id": "LM7j2NiUwF6s"
      },
      "outputs": [],
      "source": [
        "prosept.marketing_dealer_price.drop_duplicates(subset=['product_name'] ,\n",
        "                                               keep='last',\n",
        "                                               inplace=True)"
      ]
    },
    {
      "cell_type": "code",
      "execution_count": 25,
      "metadata": {
        "colab": {
          "base_uri": "https://localhost:8080/"
        },
        "id": "wPs_R83OwF6s",
        "outputId": "30a67125-19f7-421a-9a36-20220110c0b6"
      },
      "outputs": [
        {
          "data": {
            "text/plain": [
              "1930"
            ]
          },
          "execution_count": 25,
          "metadata": {},
          "output_type": "execute_result"
        }
      ],
      "source": [
        "prosept.marketing_dealer_price.shape[0]"
      ]
    },
    {
      "cell_type": "markdown",
      "metadata": {
        "id": "5CZ42rFswF6s"
      },
      "source": [
        "Проверим, остались ли дубликаты:"
      ]
    },
    {
      "cell_type": "code",
      "execution_count": 26,
      "metadata": {
        "colab": {
          "base_uri": "https://localhost:8080/"
        },
        "id": "aFDY1z9FwF6s",
        "outputId": "56fb6a0e-90fd-4e85-f69f-bf811e61b922"
      },
      "outputs": [
        {
          "data": {
            "text/plain": [
              "0"
            ]
          },
          "execution_count": 26,
          "metadata": {},
          "output_type": "execute_result"
        }
      ],
      "source": [
        "prosept.marketing_dealer_price[prosept.marketing_dealer_price\n",
        "                               .drop(columns=['date'])\n",
        "                               .duplicated(keep=False)].sort_values(by='product_key').shape[0]"
      ]
    },
    {
      "cell_type": "markdown",
      "metadata": {
        "id": "iagpvlfGwF6x"
      },
      "source": [
        "Посмотрим на диапазон дат:"
      ]
    },
    {
      "cell_type": "code",
      "execution_count": 27,
      "metadata": {
        "colab": {
          "base_uri": "https://localhost:8080/"
        },
        "id": "RmTF5il4wF6x",
        "outputId": "6515037a-ec4d-42a8-aa65-8c238030f679"
      },
      "outputs": [
        {
          "data": {
            "text/plain": [
              "2023-07-31    1710\n",
              "2023-07-12      65\n",
              "2023-07-18      41\n",
              "2023-07-21      37\n",
              "2023-07-28      32\n",
              "2023-07-17      18\n",
              "2023-07-26       9\n",
              "2023-07-19       6\n",
              "2023-07-14       5\n",
              "2023-07-25       3\n",
              "2023-07-11       2\n",
              "2023-07-24       2\n",
              "Name: date, dtype: int64"
            ]
          },
          "execution_count": 27,
          "metadata": {},
          "output_type": "execute_result"
        }
      ],
      "source": [
        "prosept.marketing_dealer_price.date.value_counts()"
      ]
    },
    {
      "cell_type": "code",
      "execution_count": 28,
      "metadata": {
        "colab": {
          "base_uri": "https://localhost:8080/"
        },
        "id": "VJbLa_TfwF6x",
        "outputId": "1fdcb55c-e2b1-4b41-a769-ed698ee7ceb8"
      },
      "outputs": [
        {
          "data": {
            "text/plain": [
              "0.89"
            ]
          },
          "execution_count": 28,
          "metadata": {},
          "output_type": "execute_result"
        }
      ],
      "source": [
        "round(prosept.marketing_dealer_price.date.value_counts()[0] /\n",
        "      (prosept.marketing_dealer_price.date.value_counts()[0] +\n",
        "       prosept.marketing_dealer_price.date.value_counts()[1:].sum()), 2)"
      ]
    },
    {
      "cell_type": "markdown",
      "metadata": {
        "id": "Z4h2Q_qZwF6y"
      },
      "source": [
        "Больше половины данных были, а имеено `89%` были добыты в одинь день - `2023-07-31`."
      ]
    },
    {
      "cell_type": "markdown",
      "metadata": {
        "id": "X2BZCQtywF6y"
      },
      "source": [
        "Посмотрим на цены"
      ]
    },
    {
      "cell_type": "code",
      "execution_count": 29,
      "metadata": {
        "colab": {
          "base_uri": "https://localhost:8080/",
          "height": 1000
        },
        "id": "mzaC71jRwF6y",
        "outputId": "56f54678-b0e4-4a26-b232-a614221592b9"
      },
      "outputs": [
        {
          "data": {
            "image/png": "[encoded data removed]",
            "text/plain": [
              "<Figure size 1200x1200 with 3 Axes>"
            ]
          },
          "metadata": {},
          "output_type": "display_data"
        }
      ],
      "source": [
        "analyzer.plot_hist(prosept.marketing_dealer_price['price'])"
      ]
    },
    {
      "cell_type": "code",
      "execution_count": 30,
      "metadata": {
        "colab": {
          "base_uri": "https://localhost:8080/"
        },
        "id": "5m3ZUcI1wF6y",
        "outputId": "0f28d40f-be9d-4338-d3f6-83eb4aa26c43"
      },
      "outputs": [
        {
          "data": {
            "text/plain": [
              "count     1930.000000\n",
              "mean      1285.336788\n",
              "std       2079.956125\n",
              "min          0.000000\n",
              "25%        319.000000\n",
              "50%        626.000000\n",
              "75%       1314.750000\n",
              "max      34500.000000\n",
              "Name: price, dtype: float64"
            ]
          },
          "execution_count": 30,
          "metadata": {},
          "output_type": "execute_result"
        }
      ],
      "source": [
        "prosept.marketing_dealer_price['price'].describe()"
      ]
    },
    {
      "cell_type": "code",
      "execution_count": 31,
      "metadata": {
        "colab": {
          "base_uri": "https://localhost:8080/"
        },
        "id": "GBPYZuuVwF6y",
        "outputId": "993cb66a-3508-41fd-9e6d-04ea6e8e37dc"
      },
      "outputs": [
        {
          "data": {
            "text/plain": [
              "11528.36"
            ]
          },
          "execution_count": 31,
          "metadata": {},
          "output_type": "execute_result"
        }
      ],
      "source": [
        "round(prosept.marketing_dealer_price['price'].quantile(.995),2)"
      ]
    },
    {
      "cell_type": "markdown",
      "metadata": {
        "id": "89lMlhW1wF6y"
      },
      "source": [
        "Можно сделать следующие выводы:\n",
        "1. `95% данных` лежит в деапазоне до ~5 тысяч.\n",
        "2. `Среднее` больше `медианы` в 2 раза, что говорит нам о длинном правом хвосте.\n",
        "3. Цена до `10050.1` содержит в себе 99,5% всего товара.\n",
        "\n",
        "Следовательно, либо есть редкие, но очень дорогие позиции, либо это аномалии. Стоит это учитывать при использовании цены как признака. Посмотрим на данные:"
      ]
    },
    {
      "cell_type": "code",
      "execution_count": 32,
      "metadata": {
        "id": "9skTyQ9nwF6z"
      },
      "outputs": [],
      "source": [
        "anomalies = (prosept.marketing_dealer_price.loc[\n",
        "    prosept.marketing_dealer_price['price'] >\n",
        "    prosept.marketing_dealer_price['price'].quantile(.995)]\n",
        ")"
      ]
    },
    {
      "cell_type": "code",
      "execution_count": 33,
      "metadata": {
        "colab": {
          "base_uri": "https://localhost:8080/",
          "height": 206
        },
        "id": "0syPIVa4wF6z",
        "outputId": "d3e248f5-297d-406a-888c-8d87f0c92cf1"
      },
      "outputs": [
        {
          "data": {
            "text/html": [
              "\n",
              "  <div id=\"df-1c72daf7-79bf-4e63-86bb-fb3821e89574\" class=\"colab-df-container\">\n",
              "    <div>\n",
              "<style scoped>\n",
              "    .dataframe tbody tr th:only-of-type {\n",
              "        vertical-align: middle;\n",
              "    }\n",
              "\n",
              "    .dataframe tbody tr th {\n",
              "        vertical-align: top;\n",
              "    }\n",
              "\n",
              "    .dataframe thead th {\n",
              "        text-align: right;\n",
              "    }\n",
              "</style>\n",
              "<table border=\"1\" class=\"dataframe\">\n",
              "  <thead>\n",
              "    <tr style=\"text-align: right;\">\n",
              "      <th></th>\n",
              "      <th>id</th>\n",
              "      <th>product_key</th>\n",
              "      <th>price</th>\n",
              "      <th>product_url</th>\n",
              "      <th>product_name</th>\n",
              "      <th>date</th>\n",
              "      <th>dealer_id</th>\n",
              "    </tr>\n",
              "  </thead>\n",
              "  <tbody>\n",
              "    <tr>\n",
              "      <th>18432</th>\n",
              "      <td>18803</td>\n",
              "      <td>100156075</td>\n",
              "      <td>34500.0</td>\n",
              "      <td>https://www.bafus.ru/100156075/</td>\n",
              "      <td>Просепт 46 антисептик транспортный для пиломат...</td>\n",
              "      <td>2023-07-31</td>\n",
              "      <td>3</td>\n",
              "    </tr>\n",
              "    <tr>\n",
              "      <th>18430</th>\n",
              "      <td>18801</td>\n",
              "      <td>200671196</td>\n",
              "      <td>26400.0</td>\n",
              "      <td>https://www.bafus.ru/200671196/</td>\n",
              "      <td>Просепт 42 антисептик для консервации круглого...</td>\n",
              "      <td>2023-07-31</td>\n",
              "      <td>3</td>\n",
              "    </tr>\n",
              "    <tr>\n",
              "      <th>18724</th>\n",
              "      <td>19093</td>\n",
              "      <td>200544322</td>\n",
              "      <td>21500.0</td>\n",
              "      <td>https://www.bafus.ru/200544322/</td>\n",
              "      <td>Просепт Bath Krot Bio биосредство для жироулов...</td>\n",
              "      <td>2023-07-31</td>\n",
              "      <td>3</td>\n",
              "    </tr>\n",
              "    <tr>\n",
              "      <th>18602</th>\n",
              "      <td>18972</td>\n",
              "      <td>200671222</td>\n",
              "      <td>14979.0</td>\n",
              "      <td>https://www.bafus.ru/200671222/</td>\n",
              "      <td>Просепт Ultra антисептик невымываемый для отве...</td>\n",
              "      <td>2023-07-31</td>\n",
              "      <td>3</td>\n",
              "    </tr>\n",
              "    <tr>\n",
              "      <th>18603</th>\n",
              "      <td>18973</td>\n",
              "      <td>200711438</td>\n",
              "      <td>14979.0</td>\n",
              "      <td>https://www.bafus.ru/200711438/</td>\n",
              "      <td>Просепт Ultra антисептик невымываемый для отве...</td>\n",
              "      <td>2023-07-31</td>\n",
              "      <td>3</td>\n",
              "    </tr>\n",
              "  </tbody>\n",
              "</table>\n",
              "</div>\n",
              "    <div class=\"colab-df-buttons\">\n",
              "\n",
              "  <div class=\"colab-df-container\">\n",
              "    <button class=\"colab-df-convert\" onclick=\"convertToInteractive('df-1c72daf7-79bf-4e63-86bb-fb3821e89574')\"\n",
              "            title=\"Convert this dataframe to an interactive table.\"\n",
              "            style=\"display:none;\">\n",
              "\n",
              "  <svg xmlns=\"http://www.w3.org/2000/svg\" height=\"24px\" viewBox=\"0 -960 960 960\">\n",
              "    <path d=\"M120-120v-720h720v720H120Zm60-500h600v-160H180v160Zm220 220h160v-160H400v160Zm0 220h160v-160H400v160ZM180-400h160v-160H180v160Zm440 0h160v-160H620v160ZM180-180h160v-160H180v160Zm440 0h160v-160H620v160Z\"/>\n",
              "  </svg>\n",
              "    </button>\n",
              "\n",
              "  <style>\n",
              "    .colab-df-container {\n",
              "      display:flex;\n",
              "      gap: 12px;\n",
              "    }\n",
              "\n",
              "    .colab-df-convert {\n",
              "      background-color: #E8F0FE;\n",
              "      border: none;\n",
              "      border-radius: 50%;\n",
              "      cursor: pointer;\n",
              "      display: none;\n",
              "      fill: #1967D2;\n",
              "      height: 32px;\n",
              "      padding: 0 0 0 0;\n",
              "      width: 32px;\n",
              "    }\n",
              "\n",
              "    .colab-df-convert:hover {\n",
              "      background-color: #E2EBFA;\n",
              "      box-shadow: 0px 1px 2px rgba(60, 64, 67, 0.3), 0px 1px 3px 1px rgba(60, 64, 67, 0.15);\n",
              "      fill: #174EA6;\n",
              "    }\n",
              "\n",
              "    .colab-df-buttons div {\n",
              "      margin-bottom: 4px;\n",
              "    }\n",
              "\n",
              "    [theme=dark] .colab-df-convert {\n",
              "      background-color: #3B4455;\n",
              "      fill: #D2E3FC;\n",
              "    }\n",
              "\n",
              "    [theme=dark] .colab-df-convert:hover {\n",
              "      background-color: #434B5C;\n",
              "      box-shadow: 0px 1px 3px 1px rgba(0, 0, 0, 0.15);\n",
              "      filter: drop-shadow(0px 1px 2px rgba(0, 0, 0, 0.3));\n",
              "      fill: #FFFFFF;\n",
              "    }\n",
              "  </style>\n",
              "\n",
              "    <script>\n",
              "      const buttonEl =\n",
              "        document.querySelector('#df-1c72daf7-79bf-4e63-86bb-fb3821e89574 button.colab-df-convert');\n",
              "      buttonEl.style.display =\n",
              "        google.colab.kernel.accessAllowed ? 'block' : 'none';\n",
              "\n",
              "      async function convertToInteractive(key) {\n",
              "        const element = document.querySelector('#df-1c72daf7-79bf-4e63-86bb-fb3821e89574');\n",
              "        const dataTable =\n",
              "          await google.colab.kernel.invokeFunction('convertToInteractive',\n",
              "                                                    [key], {});\n",
              "        if (!dataTable) return;\n",
              "\n",
              "        const docLinkHtml = 'Like what you see? Visit the ' +\n",
              "          '<a target=\"_blank\" href=https://colab.research.google.com/notebooks/data_table.ipynb>data table notebook</a>'\n",
              "          + ' to learn more about interactive tables.';\n",
              "        element.innerHTML = '';\n",
              "        dataTable['output_type'] = 'display_data';\n",
              "        await google.colab.output.renderOutput(dataTable, element);\n",
              "        const docLink = document.createElement('div');\n",
              "        docLink.innerHTML = docLinkHtml;\n",
              "        element.appendChild(docLink);\n",
              "      }\n",
              "    </script>\n",
              "  </div>\n",
              "\n",
              "\n",
              "<div id=\"df-e671b175-2128-4b62-89ab-44e23563adcc\">\n",
              "  <button class=\"colab-df-quickchart\" onclick=\"quickchart('df-e671b175-2128-4b62-89ab-44e23563adcc')\"\n",
              "            title=\"Suggest charts\"\n",
              "            style=\"display:none;\">\n",
              "\n",
              "<svg xmlns=\"http://www.w3.org/2000/svg\" height=\"24px\"viewBox=\"0 0 24 24\"\n",
              "     width=\"24px\">\n",
              "    <g>\n",
              "        <path d=\"M19 3H5c-1.1 0-2 .9-2 2v14c0 1.1.9 2 2 2h14c1.1 0 2-.9 2-2V5c0-1.1-.9-2-2-2zM9 17H7v-7h2v7zm4 0h-2V7h2v10zm4 0h-2v-4h2v4z\"/>\n",
              "    </g>\n",
              "</svg>\n",
              "  </button>\n",
              "\n",
              "<style>\n",
              "  .colab-df-quickchart {\n",
              "      --bg-color: #E8F0FE;\n",
              "      --fill-color: #1967D2;\n",
              "      --hover-bg-color: #E2EBFA;\n",
              "      --hover-fill-color: #174EA6;\n",
              "      --disabled-fill-color: #AAA;\n",
              "      --disabled-bg-color: #DDD;\n",
              "  }\n",
              "\n",
              "  [theme=dark] .colab-df-quickchart {\n",
              "      --bg-color: #3B4455;\n",
              "      --fill-color: #D2E3FC;\n",
              "      --hover-bg-color: #434B5C;\n",
              "      --hover-fill-color: #FFFFFF;\n",
              "      --disabled-bg-color: #3B4455;\n",
              "      --disabled-fill-color: #666;\n",
              "  }\n",
              "\n",
              "  .colab-df-quickchart {\n",
              "    background-color: var(--bg-color);\n",
              "    border: none;\n",
              "    border-radius: 50%;\n",
              "    cursor: pointer;\n",
              "    display: none;\n",
              "    fill: var(--fill-color);\n",
              "    height: 32px;\n",
              "    padding: 0;\n",
              "    width: 32px;\n",
              "  }\n",
              "\n",
              "  .colab-df-quickchart:hover {\n",
              "    background-color: var(--hover-bg-color);\n",
              "    box-shadow: 0 1px 2px rgba(60, 64, 67, 0.3), 0 1px 3px 1px rgba(60, 64, 67, 0.15);\n",
              "    fill: var(--button-hover-fill-color);\n",
              "  }\n",
              "\n",
              "  .colab-df-quickchart-complete:disabled,\n",
              "  .colab-df-quickchart-complete:disabled:hover {\n",
              "    background-color: var(--disabled-bg-color);\n",
              "    fill: var(--disabled-fill-color);\n",
              "    box-shadow: none;\n",
              "  }\n",
              "\n",
              "  .colab-df-spinner {\n",
              "    border: 2px solid var(--fill-color);\n",
              "    border-color: transparent;\n",
              "    border-bottom-color: var(--fill-color);\n",
              "    animation:\n",
              "      spin 1s steps(1) infinite;\n",
              "  }\n",
              "\n",
              "  @keyframes spin {\n",
              "    0% {\n",
              "      border-color: transparent;\n",
              "      border-bottom-color: var(--fill-color);\n",
              "      border-left-color: var(--fill-color);\n",
              "    }\n",
              "    20% {\n",
              "      border-color: transparent;\n",
              "      border-left-color: var(--fill-color);\n",
              "      border-top-color: var(--fill-color);\n",
              "    }\n",
              "    30% {\n",
              "      border-color: transparent;\n",
              "      border-left-color: var(--fill-color);\n",
              "      border-top-color: var(--fill-color);\n",
              "      border-right-color: var(--fill-color);\n",
              "    }\n",
              "    40% {\n",
              "      border-color: transparent;\n",
              "      border-right-color: var(--fill-color);\n",
              "      border-top-color: var(--fill-color);\n",
              "    }\n",
              "    60% {\n",
              "      border-color: transparent;\n",
              "      border-right-color: var(--fill-color);\n",
              "    }\n",
              "    80% {\n",
              "      border-color: transparent;\n",
              "      border-right-color: var(--fill-color);\n",
              "      border-bottom-color: var(--fill-color);\n",
              "    }\n",
              "    90% {\n",
              "      border-color: transparent;\n",
              "      border-bottom-color: var(--fill-color);\n",
              "    }\n",
              "  }\n",
              "</style>\n",
              "\n",
              "  <script>\n",
              "    async function quickchart(key) {\n",
              "      const quickchartButtonEl =\n",
              "        document.querySelector('#' + key + ' button');\n",
              "      quickchartButtonEl.disabled = true;  // To prevent multiple clicks.\n",
              "      quickchartButtonEl.classList.add('colab-df-spinner');\n",
              "      try {\n",
              "        const charts = await google.colab.kernel.invokeFunction(\n",
              "            'suggestCharts', [key], {});\n",
              "      } catch (error) {\n",
              "        console.error('Error during call to suggestCharts:', error);\n",
              "      }\n",
              "      quickchartButtonEl.classList.remove('colab-df-spinner');\n",
              "      quickchartButtonEl.classList.add('colab-df-quickchart-complete');\n",
              "    }\n",
              "    (() => {\n",
              "      let quickchartButtonEl =\n",
              "        document.querySelector('#df-e671b175-2128-4b62-89ab-44e23563adcc button');\n",
              "      quickchartButtonEl.style.display =\n",
              "        google.colab.kernel.accessAllowed ? 'block' : 'none';\n",
              "    })();\n",
              "  </script>\n",
              "</div>\n",
              "\n",
              "    </div>\n",
              "  </div>\n"
            ],
            "text/plain": [
              "          id product_key    price                      product_url  \\\n",
              "18432  18803   100156075  34500.0  https://www.bafus.ru/100156075/   \n",
              "18430  18801   200671196  26400.0  https://www.bafus.ru/200671196/   \n",
              "18724  19093   200544322  21500.0  https://www.bafus.ru/200544322/   \n",
              "18602  18972   200671222  14979.0  https://www.bafus.ru/200671222/   \n",
              "18603  18973   200711438  14979.0  https://www.bafus.ru/200711438/   \n",
              "\n",
              "                                            product_name       date  dealer_id  \n",
              "18432  Просепт 46 антисептик транспортный для пиломат... 2023-07-31          3  \n",
              "18430  Просепт 42 антисептик для консервации круглого... 2023-07-31          3  \n",
              "18724  Просепт Bath Krot Bio биосредство для жироулов... 2023-07-31          3  \n",
              "18602  Просепт Ultra антисептик невымываемый для отве... 2023-07-31          3  \n",
              "18603  Просепт Ultra антисептик невымываемый для отве... 2023-07-31          3  "
            ]
          },
          "execution_count": 33,
          "metadata": {},
          "output_type": "execute_result"
        }
      ],
      "source": [
        "anomalies.sort_values(by='price', ascending=False).head()"
      ]
    },
    {
      "cell_type": "markdown",
      "metadata": {
        "id": "qeXCI6XnwF6z"
      },
      "source": [
        "Можно обратить внимание, что данные с одного сайта. Посмотрим на другие сайты в анамалиях:"
      ]
    },
    {
      "cell_type": "code",
      "execution_count": 34,
      "metadata": {
        "colab": {
          "base_uri": "https://localhost:8080/"
        },
        "id": "YXmIQMmmwF6z",
        "outputId": "2d15bddc-2a57-4746-c1ce-4d61223e74a4"
      },
      "outputs": [
        {
          "data": {
            "text/plain": [
              "https://www.bafus.ru             8\n",
              "https://www.vseinstrumenti.ru    2\n",
              "Name: product_url, dtype: int64"
            ]
          },
          "execution_count": 34,
          "metadata": {},
          "output_type": "execute_result"
        }
      ],
      "source": [
        "anomalies_url = anomalies['product_url'].apply(lambda x: urlparse(x).scheme + \"://\" + urlparse(x).netloc)\n",
        "anomalies_url.value_counts()"
      ]
    },
    {
      "cell_type": "markdown",
      "metadata": {
        "id": "tox676m6wF6z"
      },
      "source": [
        "Все данные с двух сайтов. Исследуем всю доступную информацию о сайтах:"
      ]
    },
    {
      "cell_type": "code",
      "execution_count": 35,
      "metadata": {
        "colab": {
          "base_uri": "https://localhost:8080/"
        },
        "id": "IEe57VJpwF6z",
        "outputId": "35ed009b-a1b3-499d-a8c4-7aeeb76a279c"
      },
      "outputs": [
        {
          "data": {
            "text/plain": [
              "https://www.bafus.ru             410\n",
              "https://www.vseinstrumenti.ru    299\n",
              "https://www.ozon.ru              239\n",
              "https://vimos.ru                 175\n",
              "https://www.sima-land.ru         137\n",
              "https://www.castorama.ru         126\n",
              "https://www.onlinetrade.ru       104\n",
              "https://spb.leroymerlin.ru        99\n",
              "https://www.wildberries.ru        82\n",
              "https://akson.ru                  77\n",
              "https://baucenter.ru              51\n",
              "https://kazan.megastroy.com       45\n",
              "https://vegosm.ru                 27\n",
              "https://www.sdvor.com             20\n",
              "https://moscow.petrovich.ru       12\n",
              "https://api.ozon.ru                2\n",
              "Name: product_url, dtype: int64"
            ]
          },
          "execution_count": 35,
          "metadata": {},
          "output_type": "execute_result"
        }
      ],
      "source": [
        "urls = (prosept.marketing_dealer_price['product_url']\n",
        "        .dropna()\n",
        "        .apply(lambda x: urlparse(x).scheme + \"://\" + urlparse(x).netloc))\n",
        "urls.value_counts()"
      ]
    },
    {
      "cell_type": "markdown",
      "metadata": {
        "id": "Qx0eoe__wF60"
      },
      "source": [
        "Первые два места занимают сайты, где наблюдаются аномалии. Так что, можно сделать вывод, что это нечастое явление."
      ]
    },
    {
      "cell_type": "markdown",
      "metadata": {
        "id": "zrw5bGgcwF60"
      },
      "source": [
        "Удалим лишние колонки:"
      ]
    },
    {
      "cell_type": "code",
      "execution_count": 36,
      "metadata": {
        "id": "zHTsyPcowF60"
      },
      "outputs": [],
      "source": [
        "prosept.marketing_dealer_price.drop(columns=['price','product_url','date'], inplace=True)"
      ]
    },
    {
      "cell_type": "markdown",
      "metadata": {
        "id": "GQhY8SRjwF60"
      },
      "source": [
        "### Вывод\n",
        "\n",
        "Данные представляют собой датафрейм с данными, которые были получены в результате парсинга данных с сайтов диллеров. В датасете было найдено множество дубликатов, которые возникали в результате парсинга в разные дни одних и тех же значений.\n",
        "В некоторых местах, где не было найдено значения `product_key`, данные заменены на `product_url`.\n",
        "\n",
        "В конечном результате, после обработки df остались:\n",
        "1. `1930` строк;\n",
        "2. 3 колонки - `product_key`, `product_name`, `dealer_id`."
      ]
    },
    {
      "cell_type": "markdown",
      "metadata": {
        "id": "TSGUAAyBwF60"
      },
      "source": [
        "## Marketing_product"
      ]
    },
    {
      "cell_type": "markdown",
      "metadata": {
        "id": "m_Y_YDMDwF60"
      },
      "source": [
        "Датасет представляет собой список товаров, которые производит и распространяет заказчик."
      ]
    },
    {
      "cell_type": "code",
      "execution_count": 37,
      "metadata": {
        "colab": {
          "base_uri": "https://localhost:8080/"
        },
        "id": "Q9WfMCY3wF61",
        "outputId": "c7e1b321-3719-4595-fa2a-2fe09fcd8e3e"
      },
      "outputs": [
        {
          "name": "stdout",
          "output_type": "stream",
          "text": [
            "<class 'pandas.core.frame.DataFrame'>\n",
            "Int64Index: 496 entries, 1 to 513\n",
            "Data columns (total 14 columns):\n",
            " #   Column             Non-Null Count  Dtype  \n",
            "---  ------             --------------  -----  \n",
            " 0   Unnamed: 0         496 non-null    int64  \n",
            " 1   article            496 non-null    object \n",
            " 2   ean_13             464 non-null    float64\n",
            " 3   name               494 non-null    object \n",
            " 4   cost               491 non-null    float64\n",
            " 5   recommended_price  491 non-null    float64\n",
            " 6   category_id        447 non-null    float64\n",
            " 7   ozon_name          458 non-null    object \n",
            " 8   name_1c            485 non-null    object \n",
            " 9   wb_name            455 non-null    object \n",
            " 10  ozon_article       365 non-null    float64\n",
            " 11  wb_article         340 non-null    float64\n",
            " 12  ym_article         337 non-null    object \n",
            " 13  wb_article_td      32 non-null     object \n",
            "dtypes: float64(6), int64(1), object(7)\n",
            "memory usage: 58.1+ KB\n"
          ]
        }
      ],
      "source": [
        "prosept.marketing_product.info()"
      ]
    },
    {
      "cell_type": "markdown",
      "metadata": {
        "id": "Iu2yQCyOwF61"
      },
      "source": [
        "У нас есть колонка `Unnamed:0`, которая возникает из-за того, что в файле есть безымянная колонка с индексом. Её можно сразу удалить:"
      ]
    },
    {
      "cell_type": "code",
      "execution_count": 38,
      "metadata": {
        "id": "9lzFpQXgwF61"
      },
      "outputs": [],
      "source": [
        "prosept.marketing_product.drop(columns='Unnamed: 0', inplace=True)"
      ]
    },
    {
      "cell_type": "code",
      "execution_count": 39,
      "metadata": {
        "colab": {
          "base_uri": "https://localhost:8080/",
          "height": 307
        },
        "id": "8ITo95TrwF61",
        "outputId": "fd753196-46e4-4092-d8cc-c490edc958ea"
      },
      "outputs": [
        {
          "data": {
            "text/html": [
              "\n",
              "  <div id=\"df-b5a8c6df-2967-4574-a31b-1d7fc840662f\" class=\"colab-df-container\">\n",
              "    <div>\n",
              "<style scoped>\n",
              "    .dataframe tbody tr th:only-of-type {\n",
              "        vertical-align: middle;\n",
              "    }\n",
              "\n",
              "    .dataframe tbody tr th {\n",
              "        vertical-align: top;\n",
              "    }\n",
              "\n",
              "    .dataframe thead th {\n",
              "        text-align: right;\n",
              "    }\n",
              "</style>\n",
              "<table border=\"1\" class=\"dataframe\">\n",
              "  <thead>\n",
              "    <tr style=\"text-align: right;\">\n",
              "      <th></th>\n",
              "      <th>article</th>\n",
              "      <th>ean_13</th>\n",
              "      <th>name</th>\n",
              "      <th>cost</th>\n",
              "      <th>recommended_price</th>\n",
              "      <th>category_id</th>\n",
              "      <th>ozon_name</th>\n",
              "      <th>name_1c</th>\n",
              "      <th>wb_name</th>\n",
              "      <th>ozon_article</th>\n",
              "      <th>wb_article</th>\n",
              "      <th>ym_article</th>\n",
              "      <th>wb_article_td</th>\n",
              "    </tr>\n",
              "    <tr>\n",
              "      <th>id</th>\n",
              "      <th></th>\n",
              "      <th></th>\n",
              "      <th></th>\n",
              "      <th></th>\n",
              "      <th></th>\n",
              "      <th></th>\n",
              "      <th></th>\n",
              "      <th></th>\n",
              "      <th></th>\n",
              "      <th></th>\n",
              "      <th></th>\n",
              "      <th></th>\n",
              "      <th></th>\n",
              "    </tr>\n",
              "  </thead>\n",
              "  <tbody>\n",
              "    <tr>\n",
              "      <th>57</th>\n",
              "      <td>110-1</td>\n",
              "      <td>4.680008e+12</td>\n",
              "      <td>Гелеобразное средство усиленного действия для ...</td>\n",
              "      <td>122.54</td>\n",
              "      <td>286.0</td>\n",
              "      <td>52.0</td>\n",
              "      <td>Гель для удаления ржавчины и минеральных отлож...</td>\n",
              "      <td>Гель для удаления ржавчины и минеральных отлож...</td>\n",
              "      <td>Гель для удаления ржавчины и минеральных отлож...</td>\n",
              "      <td>413264550.0</td>\n",
              "      <td>149811020.0</td>\n",
              "      <td>110-1</td>\n",
              "      <td>110-10</td>\n",
              "    </tr>\n",
              "    <tr>\n",
              "      <th>493</th>\n",
              "      <td>М029-2</td>\n",
              "      <td>4.610093e+12</td>\n",
              "      <td>Набор Duty Leather, 0.4 л, 2 шт</td>\n",
              "      <td>207.36</td>\n",
              "      <td>462.0</td>\n",
              "      <td>NaN</td>\n",
              "      <td>Набор Duty Leather, 0.4 л, 2 шт</td>\n",
              "      <td>Набор Duty Leather, 0.4 л, 2 шт</td>\n",
              "      <td>Набор Duty Leather, 0.4 л, 2 шт</td>\n",
              "      <td>NaN</td>\n",
              "      <td>NaN</td>\n",
              "      <td>NaN</td>\n",
              "      <td>NaN</td>\n",
              "    </tr>\n",
              "    <tr>\n",
              "      <th>147</th>\n",
              "      <td>305-2</td>\n",
              "      <td>4.610093e+12</td>\n",
              "      <td>Кондиционер для белья с ароматом  королевского...</td>\n",
              "      <td>157.73</td>\n",
              "      <td>342.0</td>\n",
              "      <td>29.0</td>\n",
              "      <td>Кондиционер для белья \"Королевский Ирис\" Prose...</td>\n",
              "      <td>Кондиционер для белья \"Королевский Ирис\" Prose...</td>\n",
              "      <td>Кондиционер для белья \"Королевский Ирис\" Prose...</td>\n",
              "      <td>339377922.0</td>\n",
              "      <td>150032962.0</td>\n",
              "      <td>305-2</td>\n",
              "      <td>NaN</td>\n",
              "    </tr>\n",
              "    <tr>\n",
              "      <th>97</th>\n",
              "      <td>306-5</td>\n",
              "      <td>4.680008e+12</td>\n",
              "      <td>Средство для мытья посуды в посудомоечной маши...</td>\n",
              "      <td>742.88</td>\n",
              "      <td>1611.0</td>\n",
              "      <td>42.0</td>\n",
              "      <td>Гель для посудомоечных машин, для мягкой воды,...</td>\n",
              "      <td>Гель для посудомоечных машин, для мягкой воды,...</td>\n",
              "      <td>Гель для посудомоечных машин, для мягкой воды,...</td>\n",
              "      <td>451705905.0</td>\n",
              "      <td>150088969.0</td>\n",
              "      <td>306-5</td>\n",
              "      <td>NaN</td>\n",
              "    </tr>\n",
              "    <tr>\n",
              "      <th>178</th>\n",
              "      <td>144-5/5</td>\n",
              "      <td>4.680008e+12</td>\n",
              "      <td>жидкое гель-мыло эконом-класса. C ароматом ябл...</td>\n",
              "      <td>176.86</td>\n",
              "      <td>384.0</td>\n",
              "      <td>33.0</td>\n",
              "      <td>жидкое гель-мыло эконом-класса. C ароматом ябл...</td>\n",
              "      <td>жидкое гель-мыло эконом-класса. C ароматом ябл...</td>\n",
              "      <td>жидкое гель-мыло эконом-класса. C ароматом ябл...</td>\n",
              "      <td>NaN</td>\n",
              "      <td>NaN</td>\n",
              "      <td>NaN</td>\n",
              "      <td>NaN</td>\n",
              "    </tr>\n",
              "  </tbody>\n",
              "</table>\n",
              "</div>\n",
              "    <div class=\"colab-df-buttons\">\n",
              "\n",
              "  <div class=\"colab-df-container\">\n",
              "    <button class=\"colab-df-convert\" onclick=\"convertToInteractive('df-b5a8c6df-2967-4574-a31b-1d7fc840662f')\"\n",
              "            title=\"Convert this dataframe to an interactive table.\"\n",
              "            style=\"display:none;\">\n",
              "\n",
              "  <svg xmlns=\"http://www.w3.org/2000/svg\" height=\"24px\" viewBox=\"0 -960 960 960\">\n",
              "    <path d=\"M120-120v-720h720v720H120Zm60-500h600v-160H180v160Zm220 220h160v-160H400v160Zm0 220h160v-160H400v160ZM180-400h160v-160H180v160Zm440 0h160v-160H620v160ZM180-180h160v-160H180v160Zm440 0h160v-160H620v160Z\"/>\n",
              "  </svg>\n",
              "    </button>\n",
              "\n",
              "  <style>\n",
              "    .colab-df-container {\n",
              "      display:flex;\n",
              "      gap: 12px;\n",
              "    }\n",
              "\n",
              "    .colab-df-convert {\n",
              "      background-color: #E8F0FE;\n",
              "      border: none;\n",
              "      border-radius: 50%;\n",
              "      cursor: pointer;\n",
              "      display: none;\n",
              "      fill: #1967D2;\n",
              "      height: 32px;\n",
              "      padding: 0 0 0 0;\n",
              "      width: 32px;\n",
              "    }\n",
              "\n",
              "    .colab-df-convert:hover {\n",
              "      background-color: #E2EBFA;\n",
              "      box-shadow: 0px 1px 2px rgba(60, 64, 67, 0.3), 0px 1px 3px 1px rgba(60, 64, 67, 0.15);\n",
              "      fill: #174EA6;\n",
              "    }\n",
              "\n",
              "    .colab-df-buttons div {\n",
              "      margin-bottom: 4px;\n",
              "    }\n",
              "\n",
              "    [theme=dark] .colab-df-convert {\n",
              "      background-color: #3B4455;\n",
              "      fill: #D2E3FC;\n",
              "    }\n",
              "\n",
              "    [theme=dark] .colab-df-convert:hover {\n",
              "      background-color: #434B5C;\n",
              "      box-shadow: 0px 1px 3px 1px rgba(0, 0, 0, 0.15);\n",
              "      filter: drop-shadow(0px 1px 2px rgba(0, 0, 0, 0.3));\n",
              "      fill: #FFFFFF;\n",
              "    }\n",
              "  </style>\n",
              "\n",
              "    <script>\n",
              "      const buttonEl =\n",
              "        document.querySelector('#df-b5a8c6df-2967-4574-a31b-1d7fc840662f button.colab-df-convert');\n",
              "      buttonEl.style.display =\n",
              "        google.colab.kernel.accessAllowed ? 'block' : 'none';\n",
              "\n",
              "      async function convertToInteractive(key) {\n",
              "        const element = document.querySelector('#df-b5a8c6df-2967-4574-a31b-1d7fc840662f');\n",
              "        const dataTable =\n",
              "          await google.colab.kernel.invokeFunction('convertToInteractive',\n",
              "                                                    [key], {});\n",
              "        if (!dataTable) return;\n",
              "\n",
              "        const docLinkHtml = 'Like what you see? Visit the ' +\n",
              "          '<a target=\"_blank\" href=https://colab.research.google.com/notebooks/data_table.ipynb>data table notebook</a>'\n",
              "          + ' to learn more about interactive tables.';\n",
              "        element.innerHTML = '';\n",
              "        dataTable['output_type'] = 'display_data';\n",
              "        await google.colab.output.renderOutput(dataTable, element);\n",
              "        const docLink = document.createElement('div');\n",
              "        docLink.innerHTML = docLinkHtml;\n",
              "        element.appendChild(docLink);\n",
              "      }\n",
              "    </script>\n",
              "  </div>\n",
              "\n",
              "\n",
              "<div id=\"df-42a41560-eb80-468e-aaba-c86ca1ee4dec\">\n",
              "  <button class=\"colab-df-quickchart\" onclick=\"quickchart('df-42a41560-eb80-468e-aaba-c86ca1ee4dec')\"\n",
              "            title=\"Suggest charts\"\n",
              "            style=\"display:none;\">\n",
              "\n",
              "<svg xmlns=\"http://www.w3.org/2000/svg\" height=\"24px\"viewBox=\"0 0 24 24\"\n",
              "     width=\"24px\">\n",
              "    <g>\n",
              "        <path d=\"M19 3H5c-1.1 0-2 .9-2 2v14c0 1.1.9 2 2 2h14c1.1 0 2-.9 2-2V5c0-1.1-.9-2-2-2zM9 17H7v-7h2v7zm4 0h-2V7h2v10zm4 0h-2v-4h2v4z\"/>\n",
              "    </g>\n",
              "</svg>\n",
              "  </button>\n",
              "\n",
              "<style>\n",
              "  .colab-df-quickchart {\n",
              "      --bg-color: #E8F0FE;\n",
              "      --fill-color: #1967D2;\n",
              "      --hover-bg-color: #E2EBFA;\n",
              "      --hover-fill-color: #174EA6;\n",
              "      --disabled-fill-color: #AAA;\n",
              "      --disabled-bg-color: #DDD;\n",
              "  }\n",
              "\n",
              "  [theme=dark] .colab-df-quickchart {\n",
              "      --bg-color: #3B4455;\n",
              "      --fill-color: #D2E3FC;\n",
              "      --hover-bg-color: #434B5C;\n",
              "      --hover-fill-color: #FFFFFF;\n",
              "      --disabled-bg-color: #3B4455;\n",
              "      --disabled-fill-color: #666;\n",
              "  }\n",
              "\n",
              "  .colab-df-quickchart {\n",
              "    background-color: var(--bg-color);\n",
              "    border: none;\n",
              "    border-radius: 50%;\n",
              "    cursor: pointer;\n",
              "    display: none;\n",
              "    fill: var(--fill-color);\n",
              "    height: 32px;\n",
              "    padding: 0;\n",
              "    width: 32px;\n",
              "  }\n",
              "\n",
              "  .colab-df-quickchart:hover {\n",
              "    background-color: var(--hover-bg-color);\n",
              "    box-shadow: 0 1px 2px rgba(60, 64, 67, 0.3), 0 1px 3px 1px rgba(60, 64, 67, 0.15);\n",
              "    fill: var(--button-hover-fill-color);\n",
              "  }\n",
              "\n",
              "  .colab-df-quickchart-complete:disabled,\n",
              "  .colab-df-quickchart-complete:disabled:hover {\n",
              "    background-color: var(--disabled-bg-color);\n",
              "    fill: var(--disabled-fill-color);\n",
              "    box-shadow: none;\n",
              "  }\n",
              "\n",
              "  .colab-df-spinner {\n",
              "    border: 2px solid var(--fill-color);\n",
              "    border-color: transparent;\n",
              "    border-bottom-color: var(--fill-color);\n",
              "    animation:\n",
              "      spin 1s steps(1) infinite;\n",
              "  }\n",
              "\n",
              "  @keyframes spin {\n",
              "    0% {\n",
              "      border-color: transparent;\n",
              "      border-bottom-color: var(--fill-color);\n",
              "      border-left-color: var(--fill-color);\n",
              "    }\n",
              "    20% {\n",
              "      border-color: transparent;\n",
              "      border-left-color: var(--fill-color);\n",
              "      border-top-color: var(--fill-color);\n",
              "    }\n",
              "    30% {\n",
              "      border-color: transparent;\n",
              "      border-left-color: var(--fill-color);\n",
              "      border-top-color: var(--fill-color);\n",
              "      border-right-color: var(--fill-color);\n",
              "    }\n",
              "    40% {\n",
              "      border-color: transparent;\n",
              "      border-right-color: var(--fill-color);\n",
              "      border-top-color: var(--fill-color);\n",
              "    }\n",
              "    60% {\n",
              "      border-color: transparent;\n",
              "      border-right-color: var(--fill-color);\n",
              "    }\n",
              "    80% {\n",
              "      border-color: transparent;\n",
              "      border-right-color: var(--fill-color);\n",
              "      border-bottom-color: var(--fill-color);\n",
              "    }\n",
              "    90% {\n",
              "      border-color: transparent;\n",
              "      border-bottom-color: var(--fill-color);\n",
              "    }\n",
              "  }\n",
              "</style>\n",
              "\n",
              "  <script>\n",
              "    async function quickchart(key) {\n",
              "      const quickchartButtonEl =\n",
              "        document.querySelector('#' + key + ' button');\n",
              "      quickchartButtonEl.disabled = true;  // To prevent multiple clicks.\n",
              "      quickchartButtonEl.classList.add('colab-df-spinner');\n",
              "      try {\n",
              "        const charts = await google.colab.kernel.invokeFunction(\n",
              "            'suggestCharts', [key], {});\n",
              "      } catch (error) {\n",
              "        console.error('Error during call to suggestCharts:', error);\n",
              "      }\n",
              "      quickchartButtonEl.classList.remove('colab-df-spinner');\n",
              "      quickchartButtonEl.classList.add('colab-df-quickchart-complete');\n",
              "    }\n",
              "    (() => {\n",
              "      let quickchartButtonEl =\n",
              "        document.querySelector('#df-42a41560-eb80-468e-aaba-c86ca1ee4dec button');\n",
              "      quickchartButtonEl.style.display =\n",
              "        google.colab.kernel.accessAllowed ? 'block' : 'none';\n",
              "    })();\n",
              "  </script>\n",
              "</div>\n",
              "\n",
              "    </div>\n",
              "  </div>\n"
            ],
            "text/plain": [
              "     article        ean_13                                               name  \\\n",
              "id                                                                              \n",
              "57     110-1  4.680008e+12  Гелеобразное средство усиленного действия для ...   \n",
              "493   М029-2  4.610093e+12                    Набор Duty Leather, 0.4 л, 2 шт   \n",
              "147    305-2  4.610093e+12  Кондиционер для белья с ароматом  королевского...   \n",
              "97     306-5  4.680008e+12  Средство для мытья посуды в посудомоечной маши...   \n",
              "178  144-5/5  4.680008e+12  жидкое гель-мыло эконом-класса. C ароматом ябл...   \n",
              "\n",
              "       cost  recommended_price  category_id  \\\n",
              "id                                            \n",
              "57   122.54              286.0         52.0   \n",
              "493  207.36              462.0          NaN   \n",
              "147  157.73              342.0         29.0   \n",
              "97   742.88             1611.0         42.0   \n",
              "178  176.86              384.0         33.0   \n",
              "\n",
              "                                             ozon_name  \\\n",
              "id                                                       \n",
              "57   Гель для удаления ржавчины и минеральных отлож...   \n",
              "493                    Набор Duty Leather, 0.4 л, 2 шт   \n",
              "147  Кондиционер для белья \"Королевский Ирис\" Prose...   \n",
              "97   Гель для посудомоечных машин, для мягкой воды,...   \n",
              "178  жидкое гель-мыло эконом-класса. C ароматом ябл...   \n",
              "\n",
              "                                               name_1c  \\\n",
              "id                                                       \n",
              "57   Гель для удаления ржавчины и минеральных отлож...   \n",
              "493                    Набор Duty Leather, 0.4 л, 2 шт   \n",
              "147  Кондиционер для белья \"Королевский Ирис\" Prose...   \n",
              "97   Гель для посудомоечных машин, для мягкой воды,...   \n",
              "178  жидкое гель-мыло эконом-класса. C ароматом ябл...   \n",
              "\n",
              "                                               wb_name  ozon_article  \\\n",
              "id                                                                     \n",
              "57   Гель для удаления ржавчины и минеральных отлож...   413264550.0   \n",
              "493                    Набор Duty Leather, 0.4 л, 2 шт           NaN   \n",
              "147  Кондиционер для белья \"Королевский Ирис\" Prose...   339377922.0   \n",
              "97   Гель для посудомоечных машин, для мягкой воды,...   451705905.0   \n",
              "178  жидкое гель-мыло эконом-класса. C ароматом ябл...           NaN   \n",
              "\n",
              "      wb_article ym_article wb_article_td  \n",
              "id                                         \n",
              "57   149811020.0      110-1        110-10  \n",
              "493          NaN        NaN           NaN  \n",
              "147  150032962.0      305-2           NaN  \n",
              "97   150088969.0      306-5           NaN  \n",
              "178          NaN        NaN           NaN  "
            ]
          },
          "execution_count": 39,
          "metadata": {},
          "output_type": "execute_result"
        }
      ],
      "source": [
        "prosept.marketing_product.sample(5, random_state=RANDOM_SEED)"
      ]
    },
    {
      "cell_type": "code",
      "execution_count": 40,
      "metadata": {
        "colab": {
          "base_uri": "https://localhost:8080/",
          "height": 766
        },
        "id": "Dhe8gGodwF61",
        "outputId": "21c2ff1d-65d9-4c35-f657-3755e5ee907a"
      },
      "outputs": [
        {
          "data": {
            "image/png": "[encoded data removed]",
            "text/plain": [
              "<Figure size 1200x800 with 1 Axes>"
            ]
          },
          "metadata": {},
          "output_type": "display_data"
        }
      ],
      "source": [
        "prosept.check_misses_marketing_product()"
      ]
    },
    {
      "cell_type": "markdown",
      "metadata": {
        "id": "UT6KigeKwF61"
      },
      "source": [
        "В данных есть много пропусков.\n",
        "\n",
        "1. Первая группа пропусков - это `article` маркетплейсов. На первом месте `wb_article_td` - вероятно, это калонка имеет связь с `wb_article`, а `td` = `to discuss`;\n",
        "2. ~`10%` пропусков;\n",
        "3. Далее идут имена товаров в `wb` и `ozon`;\n",
        "4. Затем `European Article Number`;\n",
        "5. Далее незначительное количество пропусков в цене, рекомендованной цене и названии товара.\n",
        "\n",
        "Стоит отметить, что в целях анализа нас точно интересуют колонки `name_1c` и `name`. В первой - `2.22%` пропусков, во второй - `name`. Так как строки отражают один и тот же товар, целесообразно, по-возможности, заменить пропуски на значения друг друга."
      ]
    },
    {
      "cell_type": "code",
      "execution_count": 41,
      "metadata": {
        "colab": {
          "base_uri": "https://localhost:8080/"
        },
        "id": "okoA2pOTwF62",
        "outputId": "9aef0160-e51e-4bce-deca-89064323a4d4"
      },
      "outputs": [
        {
          "name": "stdout",
          "output_type": "stream",
          "text": [
            "Дубликаты в \"marketing_product\" не обнаружены\n"
          ]
        }
      ],
      "source": [
        "prosept.check_duplicates_marketing_product()"
      ]
    },
    {
      "cell_type": "markdown",
      "metadata": {
        "id": "ijrynf2uwF62"
      },
      "source": [
        "Посмотрим на дубликаты по колонкам:"
      ]
    },
    {
      "cell_type": "code",
      "execution_count": 42,
      "metadata": {
        "colab": {
          "base_uri": "https://localhost:8080/"
        },
        "id": "9pQBViwSwF62",
        "outputId": "c1d1d91c-a50c-47a5-e524-d994bb674407"
      },
      "outputs": [
        {
          "data": {
            "text/plain": [
              "8"
            ]
          },
          "execution_count": 42,
          "metadata": {},
          "output_type": "execute_result"
        }
      ],
      "source": [
        "prosept.marketing_product[prosept.marketing_product['name'].duplicated()].shape[0]"
      ]
    },
    {
      "cell_type": "code",
      "execution_count": 43,
      "metadata": {
        "colab": {
          "base_uri": "https://localhost:8080/",
          "height": 756
        },
        "id": "WIr3aWnuwF62",
        "outputId": "95240ee3-74ee-4df7-b54f-eb4c2dee88ae"
      },
      "outputs": [
        {
          "data": {
            "text/html": [
              "\n",
              "  <div id=\"df-09d3c14c-5e2e-4ad2-805b-b6ab47c42577\" class=\"colab-df-container\">\n",
              "    <div>\n",
              "<style scoped>\n",
              "    .dataframe tbody tr th:only-of-type {\n",
              "        vertical-align: middle;\n",
              "    }\n",
              "\n",
              "    .dataframe tbody tr th {\n",
              "        vertical-align: top;\n",
              "    }\n",
              "\n",
              "    .dataframe thead th {\n",
              "        text-align: right;\n",
              "    }\n",
              "</style>\n",
              "<table border=\"1\" class=\"dataframe\">\n",
              "  <thead>\n",
              "    <tr style=\"text-align: right;\">\n",
              "      <th></th>\n",
              "      <th>article</th>\n",
              "      <th>ean_13</th>\n",
              "      <th>name</th>\n",
              "      <th>cost</th>\n",
              "      <th>recommended_price</th>\n",
              "      <th>category_id</th>\n",
              "      <th>ozon_name</th>\n",
              "      <th>name_1c</th>\n",
              "      <th>wb_name</th>\n",
              "      <th>ozon_article</th>\n",
              "      <th>wb_article</th>\n",
              "      <th>ym_article</th>\n",
              "      <th>wb_article_td</th>\n",
              "    </tr>\n",
              "    <tr>\n",
              "      <th>id</th>\n",
              "      <th></th>\n",
              "      <th></th>\n",
              "      <th></th>\n",
              "      <th></th>\n",
              "      <th></th>\n",
              "      <th></th>\n",
              "      <th></th>\n",
              "      <th></th>\n",
              "      <th></th>\n",
              "      <th></th>\n",
              "      <th></th>\n",
              "      <th></th>\n",
              "      <th></th>\n",
              "    </tr>\n",
              "  </thead>\n",
              "  <tbody>\n",
              "    <tr>\n",
              "      <th>363</th>\n",
              "      <td>0024-7б</td>\n",
              "      <td>4.680008e+12</td>\n",
              "      <td>Герметик акриловой  цвет Белый, 7 кг</td>\n",
              "      <td>3149.0</td>\n",
              "      <td>5492.0</td>\n",
              "      <td>25.0</td>\n",
              "      <td>Герметик акриловый для швов для деревянных дом...</td>\n",
              "      <td>Герметик акриловой  цвет Белый, 7 кг</td>\n",
              "      <td>Герметик акриловый для швов для деревянных дом...</td>\n",
              "      <td>NaN</td>\n",
              "      <td>NaN</td>\n",
              "      <td>NaN</td>\n",
              "      <td>NaN</td>\n",
              "    </tr>\n",
              "    <tr>\n",
              "      <th>502</th>\n",
              "      <td>0024-7 б</td>\n",
              "      <td>NaN</td>\n",
              "      <td>Герметик акриловой  цвет Белый, 7 кг</td>\n",
              "      <td>NaN</td>\n",
              "      <td>NaN</td>\n",
              "      <td>NaN</td>\n",
              "      <td>NaN</td>\n",
              "      <td>NaN</td>\n",
              "      <td>NaN</td>\n",
              "      <td>189522867.0</td>\n",
              "      <td>150126216.0</td>\n",
              "      <td>0024-7-б</td>\n",
              "      <td>NaN</td>\n",
              "    </tr>\n",
              "    <tr>\n",
              "      <th>223</th>\n",
              "      <td>0024-3 б</td>\n",
              "      <td>4.610093e+12</td>\n",
              "      <td>Герметик акриловый цвет Белый, 3 кг</td>\n",
              "      <td>1251.0</td>\n",
              "      <td>2145.0</td>\n",
              "      <td>25.0</td>\n",
              "      <td>Герметик акриловый для швов для деревянных дом...</td>\n",
              "      <td>Герметик акриловый цвет Белый, 3 кг</td>\n",
              "      <td>Герметик акриловый для швов для деревянных дом...</td>\n",
              "      <td>453200111.0</td>\n",
              "      <td>150126218.0</td>\n",
              "      <td>0024-3-б</td>\n",
              "      <td>NaN</td>\n",
              "    </tr>\n",
              "    <tr>\n",
              "      <th>362</th>\n",
              "      <td>0024-3б</td>\n",
              "      <td>NaN</td>\n",
              "      <td>Герметик акриловый цвет Белый, 3 кг</td>\n",
              "      <td>1251.0</td>\n",
              "      <td>2145.0</td>\n",
              "      <td>25.0</td>\n",
              "      <td>NaN</td>\n",
              "      <td>Герметик акриловый цвет Белый, 3 кг</td>\n",
              "      <td>NaN</td>\n",
              "      <td>NaN</td>\n",
              "      <td>NaN</td>\n",
              "      <td>NaN</td>\n",
              "      <td>NaN</td>\n",
              "    </tr>\n",
              "    <tr>\n",
              "      <th>225</th>\n",
              "      <td>0024-3 м</td>\n",
              "      <td>4.610093e+12</td>\n",
              "      <td>Герметик акриловый цвет Медовый, 3 кг</td>\n",
              "      <td>1251.0</td>\n",
              "      <td>2145.0</td>\n",
              "      <td>25.0</td>\n",
              "      <td>Герметик акриловый для швов для деревянных дом...</td>\n",
              "      <td>Герметик акриловый цвет Медовый, 3 кг</td>\n",
              "      <td>Герметик акриловый для швов для деревянных дом...</td>\n",
              "      <td>453214675.0</td>\n",
              "      <td>150126205.0</td>\n",
              "      <td>0024-3-м</td>\n",
              "      <td>NaN</td>\n",
              "    </tr>\n",
              "    <tr>\n",
              "      <th>366</th>\n",
              "      <td>0024-3м</td>\n",
              "      <td>NaN</td>\n",
              "      <td>Герметик акриловый цвет Медовый, 3 кг</td>\n",
              "      <td>1251.0</td>\n",
              "      <td>2145.0</td>\n",
              "      <td>25.0</td>\n",
              "      <td>NaN</td>\n",
              "      <td>Герметик акриловый цвет Медовый, 3 кг</td>\n",
              "      <td>NaN</td>\n",
              "      <td>NaN</td>\n",
              "      <td>NaN</td>\n",
              "      <td>NaN</td>\n",
              "      <td>NaN</td>\n",
              "    </tr>\n",
              "    <tr>\n",
              "      <th>224</th>\n",
              "      <td>0024-3 о</td>\n",
              "      <td>4.610093e+12</td>\n",
              "      <td>Герметик акриловый цвет Орех, 3 кг</td>\n",
              "      <td>1251.0</td>\n",
              "      <td>2145.0</td>\n",
              "      <td>25.0</td>\n",
              "      <td>Герметик акриловый для швов для деревянных дом...</td>\n",
              "      <td>Герметик акриловый цвет Орех, 3 кг</td>\n",
              "      <td>Герметик акриловый для швов для деревянных дом...</td>\n",
              "      <td>453205718.0</td>\n",
              "      <td>150126215.0</td>\n",
              "      <td>0024-3-о</td>\n",
              "      <td>NaN</td>\n",
              "    </tr>\n",
              "    <tr>\n",
              "      <th>374</th>\n",
              "      <td>0024-3о</td>\n",
              "      <td>NaN</td>\n",
              "      <td>Герметик акриловый цвет Орех, 3 кг</td>\n",
              "      <td>1251.0</td>\n",
              "      <td>2145.0</td>\n",
              "      <td>25.0</td>\n",
              "      <td>NaN</td>\n",
              "      <td>Герметик акриловый цвет Орех, 3 кг</td>\n",
              "      <td>NaN</td>\n",
              "      <td>NaN</td>\n",
              "      <td>NaN</td>\n",
              "      <td>NaN</td>\n",
              "      <td>NaN</td>\n",
              "    </tr>\n",
              "    <tr>\n",
              "      <th>226</th>\n",
              "      <td>0024-3 с</td>\n",
              "      <td>4.610093e+12</td>\n",
              "      <td>Герметик акриловый цвет Сосна, 3 кг</td>\n",
              "      <td>1251.0</td>\n",
              "      <td>2145.0</td>\n",
              "      <td>25.0</td>\n",
              "      <td>Герметик акриловый для швов для деревянных дом...</td>\n",
              "      <td>Герметик акриловый цвет Сосна, 3 кг</td>\n",
              "      <td>Герметик акриловый для швов для деревянных дом...</td>\n",
              "      <td>453215204.0</td>\n",
              "      <td>150126208.0</td>\n",
              "      <td>0024-3-с</td>\n",
              "      <td>NaN</td>\n",
              "    </tr>\n",
              "    <tr>\n",
              "      <th>370</th>\n",
              "      <td>0024-3с</td>\n",
              "      <td>NaN</td>\n",
              "      <td>Герметик акриловый цвет Сосна, 3 кг</td>\n",
              "      <td>1251.0</td>\n",
              "      <td>2145.0</td>\n",
              "      <td>25.0</td>\n",
              "      <td>NaN</td>\n",
              "      <td>Герметик акриловый цвет Сосна, 3 кг</td>\n",
              "      <td>NaN</td>\n",
              "      <td>NaN</td>\n",
              "      <td>NaN</td>\n",
              "      <td>NaN</td>\n",
              "      <td>NaN</td>\n",
              "    </tr>\n",
              "    <tr>\n",
              "      <th>227</th>\n",
              "      <td>0024-3т</td>\n",
              "      <td>NaN</td>\n",
              "      <td>Герметик акриловый цвет тик, 3 кг.</td>\n",
              "      <td>1251.0</td>\n",
              "      <td>2145.0</td>\n",
              "      <td>25.0</td>\n",
              "      <td>Герметик акриловый для швов для деревянных дом...</td>\n",
              "      <td>Герметик акриловый цвет тик, 3 кг.</td>\n",
              "      <td>Герметик акриловый для швов для деревянных дом...</td>\n",
              "      <td>NaN</td>\n",
              "      <td>NaN</td>\n",
              "      <td>NaN</td>\n",
              "      <td>NaN</td>\n",
              "    </tr>\n",
              "    <tr>\n",
              "      <th>463</th>\n",
              "      <td>0024-3 т</td>\n",
              "      <td>4.610093e+12</td>\n",
              "      <td>Герметик акриловый цвет тик, 3 кг.</td>\n",
              "      <td>1251.0</td>\n",
              "      <td>2145.0</td>\n",
              "      <td>25.0</td>\n",
              "      <td>Герметик акриловый для швов для деревянных дом...</td>\n",
              "      <td>Герметик акриловый цвет тик, 3 кг.</td>\n",
              "      <td>Герметик акриловый для швов для деревянных дом...</td>\n",
              "      <td>453216309.0</td>\n",
              "      <td>150126206.0</td>\n",
              "      <td>0024-3-т</td>\n",
              "      <td>NaN</td>\n",
              "    </tr>\n",
              "    <tr>\n",
              "      <th>222</th>\n",
              "      <td>0024-06т</td>\n",
              "      <td>NaN</td>\n",
              "      <td>Герметик акриловый цвет тик, ф/п 600мл</td>\n",
              "      <td>376.0</td>\n",
              "      <td>643.0</td>\n",
              "      <td>25.0</td>\n",
              "      <td>NaN</td>\n",
              "      <td>Герметик акриловый цвет тик, ф/п 600мл</td>\n",
              "      <td>NaN</td>\n",
              "      <td>NaN</td>\n",
              "      <td>NaN</td>\n",
              "      <td>NaN</td>\n",
              "      <td>NaN</td>\n",
              "    </tr>\n",
              "    <tr>\n",
              "      <th>440</th>\n",
              "      <td>0024-06 т</td>\n",
              "      <td>4.610093e+12</td>\n",
              "      <td>Герметик акриловый цвет тик, ф/п 600мл</td>\n",
              "      <td>307.0</td>\n",
              "      <td>644.0</td>\n",
              "      <td>25.0</td>\n",
              "      <td>Герметик акриловый для швов для деревянных дом...</td>\n",
              "      <td>Герметик акриловый цвет тик, ф/п 600мл</td>\n",
              "      <td>Герметик акриловый для швов для деревянных дом...</td>\n",
              "      <td>453196408.0</td>\n",
              "      <td>150126203.0</td>\n",
              "      <td>0024-06-т</td>\n",
              "      <td>NaN</td>\n",
              "    </tr>\n",
              "    <tr>\n",
              "      <th>503</th>\n",
              "      <td>0024-7 о</td>\n",
              "      <td>NaN</td>\n",
              "      <td>NaN</td>\n",
              "      <td>NaN</td>\n",
              "      <td>NaN</td>\n",
              "      <td>NaN</td>\n",
              "      <td>NaN</td>\n",
              "      <td>NaN</td>\n",
              "      <td>NaN</td>\n",
              "      <td>NaN</td>\n",
              "      <td>150126213.0</td>\n",
              "      <td>NaN</td>\n",
              "      <td>NaN</td>\n",
              "    </tr>\n",
              "    <tr>\n",
              "      <th>504</th>\n",
              "      <td>w022-05</td>\n",
              "      <td>NaN</td>\n",
              "      <td>NaN</td>\n",
              "      <td>NaN</td>\n",
              "      <td>NaN</td>\n",
              "      <td>NaN</td>\n",
              "      <td>NaN</td>\n",
              "      <td>NaN</td>\n",
              "      <td>NaN</td>\n",
              "      <td>NaN</td>\n",
              "      <td>NaN</td>\n",
              "      <td>NaN</td>\n",
              "      <td>NaN</td>\n",
              "    </tr>\n",
              "  </tbody>\n",
              "</table>\n",
              "</div>\n",
              "    <div class=\"colab-df-buttons\">\n",
              "\n",
              "  <div class=\"colab-df-container\">\n",
              "    <button class=\"colab-df-convert\" onclick=\"convertToInteractive('df-09d3c14c-5e2e-4ad2-805b-b6ab47c42577')\"\n",
              "            title=\"Convert this dataframe to an interactive table.\"\n",
              "            style=\"display:none;\">\n",
              "\n",
              "  <svg xmlns=\"http://www.w3.org/2000/svg\" height=\"24px\" viewBox=\"0 -960 960 960\">\n",
              "    <path d=\"M120-120v-720h720v720H120Zm60-500h600v-160H180v160Zm220 220h160v-160H400v160Zm0 220h160v-160H400v160ZM180-400h160v-160H180v160Zm440 0h160v-160H620v160ZM180-180h160v-160H180v160Zm440 0h160v-160H620v160Z\"/>\n",
              "  </svg>\n",
              "    </button>\n",
              "\n",
              "  <style>\n",
              "    .colab-df-container {\n",
              "      display:flex;\n",
              "      gap: 12px;\n",
              "    }\n",
              "\n",
              "    .colab-df-convert {\n",
              "      background-color: #E8F0FE;\n",
              "      border: none;\n",
              "      border-radius: 50%;\n",
              "      cursor: pointer;\n",
              "      display: none;\n",
              "      fill: #1967D2;\n",
              "      height: 32px;\n",
              "      padding: 0 0 0 0;\n",
              "      width: 32px;\n",
              "    }\n",
              "\n",
              "    .colab-df-convert:hover {\n",
              "      background-color: #E2EBFA;\n",
              "      box-shadow: 0px 1px 2px rgba(60, 64, 67, 0.3), 0px 1px 3px 1px rgba(60, 64, 67, 0.15);\n",
              "      fill: #174EA6;\n",
              "    }\n",
              "\n",
              "    .colab-df-buttons div {\n",
              "      margin-bottom: 4px;\n",
              "    }\n",
              "\n",
              "    [theme=dark] .colab-df-convert {\n",
              "      background-color: #3B4455;\n",
              "      fill: #D2E3FC;\n",
              "    }\n",
              "\n",
              "    [theme=dark] .colab-df-convert:hover {\n",
              "      background-color: #434B5C;\n",
              "      box-shadow: 0px 1px 3px 1px rgba(0, 0, 0, 0.15);\n",
              "      filter: drop-shadow(0px 1px 2px rgba(0, 0, 0, 0.3));\n",
              "      fill: #FFFFFF;\n",
              "    }\n",
              "  </style>\n",
              "\n",
              "    <script>\n",
              "      const buttonEl =\n",
              "        document.querySelector('#df-09d3c14c-5e2e-4ad2-805b-b6ab47c42577 button.colab-df-convert');\n",
              "      buttonEl.style.display =\n",
              "        google.colab.kernel.accessAllowed ? 'block' : 'none';\n",
              "\n",
              "      async function convertToInteractive(key) {\n",
              "        const element = document.querySelector('#df-09d3c14c-5e2e-4ad2-805b-b6ab47c42577');\n",
              "        const dataTable =\n",
              "          await google.colab.kernel.invokeFunction('convertToInteractive',\n",
              "                                                    [key], {});\n",
              "        if (!dataTable) return;\n",
              "\n",
              "        const docLinkHtml = 'Like what you see? Visit the ' +\n",
              "          '<a target=\"_blank\" href=https://colab.research.google.com/notebooks/data_table.ipynb>data table notebook</a>'\n",
              "          + ' to learn more about interactive tables.';\n",
              "        element.innerHTML = '';\n",
              "        dataTable['output_type'] = 'display_data';\n",
              "        await google.colab.output.renderOutput(dataTable, element);\n",
              "        const docLink = document.createElement('div');\n",
              "        docLink.innerHTML = docLinkHtml;\n",
              "        element.appendChild(docLink);\n",
              "      }\n",
              "    </script>\n",
              "  </div>\n",
              "\n",
              "\n",
              "<div id=\"df-2fedbd44-1a71-4a42-94ac-50273f0816ab\">\n",
              "  <button class=\"colab-df-quickchart\" onclick=\"quickchart('df-2fedbd44-1a71-4a42-94ac-50273f0816ab')\"\n",
              "            title=\"Suggest charts\"\n",
              "            style=\"display:none;\">\n",
              "\n",
              "<svg xmlns=\"http://www.w3.org/2000/svg\" height=\"24px\"viewBox=\"0 0 24 24\"\n",
              "     width=\"24px\">\n",
              "    <g>\n",
              "        <path d=\"M19 3H5c-1.1 0-2 .9-2 2v14c0 1.1.9 2 2 2h14c1.1 0 2-.9 2-2V5c0-1.1-.9-2-2-2zM9 17H7v-7h2v7zm4 0h-2V7h2v10zm4 0h-2v-4h2v4z\"/>\n",
              "    </g>\n",
              "</svg>\n",
              "  </button>\n",
              "\n",
              "<style>\n",
              "  .colab-df-quickchart {\n",
              "      --bg-color: #E8F0FE;\n",
              "      --fill-color: #1967D2;\n",
              "      --hover-bg-color: #E2EBFA;\n",
              "      --hover-fill-color: #174EA6;\n",
              "      --disabled-fill-color: #AAA;\n",
              "      --disabled-bg-color: #DDD;\n",
              "  }\n",
              "\n",
              "  [theme=dark] .colab-df-quickchart {\n",
              "      --bg-color: #3B4455;\n",
              "      --fill-color: #D2E3FC;\n",
              "      --hover-bg-color: #434B5C;\n",
              "      --hover-fill-color: #FFFFFF;\n",
              "      --disabled-bg-color: #3B4455;\n",
              "      --disabled-fill-color: #666;\n",
              "  }\n",
              "\n",
              "  .colab-df-quickchart {\n",
              "    background-color: var(--bg-color);\n",
              "    border: none;\n",
              "    border-radius: 50%;\n",
              "    cursor: pointer;\n",
              "    display: none;\n",
              "    fill: var(--fill-color);\n",
              "    height: 32px;\n",
              "    padding: 0;\n",
              "    width: 32px;\n",
              "  }\n",
              "\n",
              "  .colab-df-quickchart:hover {\n",
              "    background-color: var(--hover-bg-color);\n",
              "    box-shadow: 0 1px 2px rgba(60, 64, 67, 0.3), 0 1px 3px 1px rgba(60, 64, 67, 0.15);\n",
              "    fill: var(--button-hover-fill-color);\n",
              "  }\n",
              "\n",
              "  .colab-df-quickchart-complete:disabled,\n",
              "  .colab-df-quickchart-complete:disabled:hover {\n",
              "    background-color: var(--disabled-bg-color);\n",
              "    fill: var(--disabled-fill-color);\n",
              "    box-shadow: none;\n",
              "  }\n",
              "\n",
              "  .colab-df-spinner {\n",
              "    border: 2px solid var(--fill-color);\n",
              "    border-color: transparent;\n",
              "    border-bottom-color: var(--fill-color);\n",
              "    animation:\n",
              "      spin 1s steps(1) infinite;\n",
              "  }\n",
              "\n",
              "  @keyframes spin {\n",
              "    0% {\n",
              "      border-color: transparent;\n",
              "      border-bottom-color: var(--fill-color);\n",
              "      border-left-color: var(--fill-color);\n",
              "    }\n",
              "    20% {\n",
              "      border-color: transparent;\n",
              "      border-left-color: var(--fill-color);\n",
              "      border-top-color: var(--fill-color);\n",
              "    }\n",
              "    30% {\n",
              "      border-color: transparent;\n",
              "      border-left-color: var(--fill-color);\n",
              "      border-top-color: var(--fill-color);\n",
              "      border-right-color: var(--fill-color);\n",
              "    }\n",
              "    40% {\n",
              "      border-color: transparent;\n",
              "      border-right-color: var(--fill-color);\n",
              "      border-top-color: var(--fill-color);\n",
              "    }\n",
              "    60% {\n",
              "      border-color: transparent;\n",
              "      border-right-color: var(--fill-color);\n",
              "    }\n",
              "    80% {\n",
              "      border-color: transparent;\n",
              "      border-right-color: var(--fill-color);\n",
              "      border-bottom-color: var(--fill-color);\n",
              "    }\n",
              "    90% {\n",
              "      border-color: transparent;\n",
              "      border-bottom-color: var(--fill-color);\n",
              "    }\n",
              "  }\n",
              "</style>\n",
              "\n",
              "  <script>\n",
              "    async function quickchart(key) {\n",
              "      const quickchartButtonEl =\n",
              "        document.querySelector('#' + key + ' button');\n",
              "      quickchartButtonEl.disabled = true;  // To prevent multiple clicks.\n",
              "      quickchartButtonEl.classList.add('colab-df-spinner');\n",
              "      try {\n",
              "        const charts = await google.colab.kernel.invokeFunction(\n",
              "            'suggestCharts', [key], {});\n",
              "      } catch (error) {\n",
              "        console.error('Error during call to suggestCharts:', error);\n",
              "      }\n",
              "      quickchartButtonEl.classList.remove('colab-df-spinner');\n",
              "      quickchartButtonEl.classList.add('colab-df-quickchart-complete');\n",
              "    }\n",
              "    (() => {\n",
              "      let quickchartButtonEl =\n",
              "        document.querySelector('#df-2fedbd44-1a71-4a42-94ac-50273f0816ab button');\n",
              "      quickchartButtonEl.style.display =\n",
              "        google.colab.kernel.accessAllowed ? 'block' : 'none';\n",
              "    })();\n",
              "  </script>\n",
              "</div>\n",
              "\n",
              "    </div>\n",
              "  </div>\n"
            ],
            "text/plain": [
              "       article        ean_13                                    name    cost  \\\n",
              "id                                                                             \n",
              "363    0024-7б  4.680008e+12    Герметик акриловой  цвет Белый, 7 кг  3149.0   \n",
              "502   0024-7 б           NaN    Герметик акриловой  цвет Белый, 7 кг     NaN   \n",
              "223   0024-3 б  4.610093e+12     Герметик акриловый цвет Белый, 3 кг  1251.0   \n",
              "362    0024-3б           NaN     Герметик акриловый цвет Белый, 3 кг  1251.0   \n",
              "225   0024-3 м  4.610093e+12   Герметик акриловый цвет Медовый, 3 кг  1251.0   \n",
              "366    0024-3м           NaN   Герметик акриловый цвет Медовый, 3 кг  1251.0   \n",
              "224   0024-3 о  4.610093e+12      Герметик акриловый цвет Орех, 3 кг  1251.0   \n",
              "374    0024-3о           NaN      Герметик акриловый цвет Орех, 3 кг  1251.0   \n",
              "226   0024-3 с  4.610093e+12     Герметик акриловый цвет Сосна, 3 кг  1251.0   \n",
              "370    0024-3с           NaN     Герметик акриловый цвет Сосна, 3 кг  1251.0   \n",
              "227    0024-3т           NaN      Герметик акриловый цвет тик, 3 кг.  1251.0   \n",
              "463   0024-3 т  4.610093e+12      Герметик акриловый цвет тик, 3 кг.  1251.0   \n",
              "222   0024-06т           NaN  Герметик акриловый цвет тик, ф/п 600мл   376.0   \n",
              "440  0024-06 т  4.610093e+12  Герметик акриловый цвет тик, ф/п 600мл   307.0   \n",
              "503   0024-7 о           NaN                                     NaN     NaN   \n",
              "504    w022-05           NaN                                     NaN     NaN   \n",
              "\n",
              "     recommended_price  category_id  \\\n",
              "id                                    \n",
              "363             5492.0         25.0   \n",
              "502                NaN          NaN   \n",
              "223             2145.0         25.0   \n",
              "362             2145.0         25.0   \n",
              "225             2145.0         25.0   \n",
              "366             2145.0         25.0   \n",
              "224             2145.0         25.0   \n",
              "374             2145.0         25.0   \n",
              "226             2145.0         25.0   \n",
              "370             2145.0         25.0   \n",
              "227             2145.0         25.0   \n",
              "463             2145.0         25.0   \n",
              "222              643.0         25.0   \n",
              "440              644.0         25.0   \n",
              "503                NaN          NaN   \n",
              "504                NaN          NaN   \n",
              "\n",
              "                                             ozon_name  \\\n",
              "id                                                       \n",
              "363  Герметик акриловый для швов для деревянных дом...   \n",
              "502                                                NaN   \n",
              "223  Герметик акриловый для швов для деревянных дом...   \n",
              "362                                                NaN   \n",
              "225  Герметик акриловый для швов для деревянных дом...   \n",
              "366                                                NaN   \n",
              "224  Герметик акриловый для швов для деревянных дом...   \n",
              "374                                                NaN   \n",
              "226  Герметик акриловый для швов для деревянных дом...   \n",
              "370                                                NaN   \n",
              "227  Герметик акриловый для швов для деревянных дом...   \n",
              "463  Герметик акриловый для швов для деревянных дом...   \n",
              "222                                                NaN   \n",
              "440  Герметик акриловый для швов для деревянных дом...   \n",
              "503                                                NaN   \n",
              "504                                                NaN   \n",
              "\n",
              "                                    name_1c  \\\n",
              "id                                            \n",
              "363    Герметик акриловой  цвет Белый, 7 кг   \n",
              "502                                     NaN   \n",
              "223     Герметик акриловый цвет Белый, 3 кг   \n",
              "362     Герметик акриловый цвет Белый, 3 кг   \n",
              "225   Герметик акриловый цвет Медовый, 3 кг   \n",
              "366   Герметик акриловый цвет Медовый, 3 кг   \n",
              "224      Герметик акриловый цвет Орех, 3 кг   \n",
              "374      Герметик акриловый цвет Орех, 3 кг   \n",
              "226     Герметик акриловый цвет Сосна, 3 кг   \n",
              "370     Герметик акриловый цвет Сосна, 3 кг   \n",
              "227      Герметик акриловый цвет тик, 3 кг.   \n",
              "463      Герметик акриловый цвет тик, 3 кг.   \n",
              "222  Герметик акриловый цвет тик, ф/п 600мл   \n",
              "440  Герметик акриловый цвет тик, ф/п 600мл   \n",
              "503                                     NaN   \n",
              "504                                     NaN   \n",
              "\n",
              "                                               wb_name  ozon_article  \\\n",
              "id                                                                     \n",
              "363  Герметик акриловый для швов для деревянных дом...           NaN   \n",
              "502                                                NaN   189522867.0   \n",
              "223  Герметик акриловый для швов для деревянных дом...   453200111.0   \n",
              "362                                                NaN           NaN   \n",
              "225  Герметик акриловый для швов для деревянных дом...   453214675.0   \n",
              "366                                                NaN           NaN   \n",
              "224  Герметик акриловый для швов для деревянных дом...   453205718.0   \n",
              "374                                                NaN           NaN   \n",
              "226  Герметик акриловый для швов для деревянных дом...   453215204.0   \n",
              "370                                                NaN           NaN   \n",
              "227  Герметик акриловый для швов для деревянных дом...           NaN   \n",
              "463  Герметик акриловый для швов для деревянных дом...   453216309.0   \n",
              "222                                                NaN           NaN   \n",
              "440  Герметик акриловый для швов для деревянных дом...   453196408.0   \n",
              "503                                                NaN           NaN   \n",
              "504                                                NaN           NaN   \n",
              "\n",
              "      wb_article ym_article wb_article_td  \n",
              "id                                         \n",
              "363          NaN        NaN           NaN  \n",
              "502  150126216.0   0024-7-б           NaN  \n",
              "223  150126218.0   0024-3-б           NaN  \n",
              "362          NaN        NaN           NaN  \n",
              "225  150126205.0   0024-3-м           NaN  \n",
              "366          NaN        NaN           NaN  \n",
              "224  150126215.0   0024-3-о           NaN  \n",
              "374          NaN        NaN           NaN  \n",
              "226  150126208.0   0024-3-с           NaN  \n",
              "370          NaN        NaN           NaN  \n",
              "227          NaN        NaN           NaN  \n",
              "463  150126206.0   0024-3-т           NaN  \n",
              "222          NaN        NaN           NaN  \n",
              "440  150126203.0  0024-06-т           NaN  \n",
              "503  150126213.0        NaN           NaN  \n",
              "504          NaN        NaN           NaN  "
            ]
          },
          "execution_count": 43,
          "metadata": {},
          "output_type": "execute_result"
        }
      ],
      "source": [
        "prosept.marketing_product[prosept.marketing_product['name'].duplicated(keep=False)].sort_values(by='name')"
      ]
    },
    {
      "cell_type": "markdown",
      "metadata": {
        "id": "LWdWH4UTwF62"
      },
      "source": [
        "Нужно избавиться от дубликатов. Однако перед этим сохраним индексы. Получим словарь со значением которое осталось и значение, которое удалили:"
      ]
    },
    {
      "cell_type": "code",
      "execution_count": 44,
      "metadata": {
        "id": "N9G4AUd3wF63"
      },
      "outputs": [],
      "source": [
        "keep_dict = dict(zip(prosept.marketing_product[prosept.marketing_product['name'].duplicated(keep='last')].index,\n",
        "                     prosept.marketing_product[prosept.marketing_product['name'].duplicated(keep='first')].index))"
      ]
    },
    {
      "cell_type": "markdown",
      "metadata": {
        "id": "YIGuktKZwF63"
      },
      "source": [
        "Удалим дубликаты и пропуски:"
      ]
    },
    {
      "cell_type": "code",
      "execution_count": 45,
      "metadata": {
        "id": "VqL0EzmPwF63"
      },
      "outputs": [],
      "source": [
        "prosept.marketing_product.drop_duplicates(subset=['name'], inplace=True)\n",
        "prosept.marketing_product.dropna(subset=['name'],inplace=True)"
      ]
    },
    {
      "cell_type": "markdown",
      "metadata": {
        "id": "_RhOnWjXwF63"
      },
      "source": [
        "Проверим корректность удаления дубликов:"
      ]
    },
    {
      "cell_type": "code",
      "execution_count": 46,
      "metadata": {
        "colab": {
          "base_uri": "https://localhost:8080/"
        },
        "id": "yYqtWExywF63",
        "outputId": "91b7c559-57da-49e7-82c4-420a2460a831"
      },
      "outputs": [
        {
          "data": {
            "text/plain": [
              "0"
            ]
          },
          "execution_count": 46,
          "metadata": {},
          "output_type": "execute_result"
        }
      ],
      "source": [
        "prosept.marketing_product[prosept.marketing_product['name'].duplicated()].shape[0]"
      ]
    },
    {
      "cell_type": "markdown",
      "metadata": {
        "id": "a7SgEWVVwF63"
      },
      "source": [
        "### Заполняем name_1c & name"
      ]
    },
    {
      "cell_type": "markdown",
      "metadata": {
        "id": "QbCMsfFHwF63"
      },
      "source": [
        "Посмотрим на схожесть этих колонок:"
      ]
    },
    {
      "cell_type": "code",
      "execution_count": 47,
      "metadata": {
        "colab": {
          "base_uri": "https://localhost:8080/"
        },
        "id": "gv7IhnDgwF64",
        "outputId": "225f8580-4d3d-454a-d581-0455b5a40aba"
      },
      "outputs": [
        {
          "data": {
            "text/plain": [
              "145"
            ]
          },
          "execution_count": 47,
          "metadata": {},
          "output_type": "execute_result"
        }
      ],
      "source": [
        "prosept.marketing_product[prosept.marketing_product['name'] == prosept.marketing_product['name_1c']].shape[0]"
      ]
    },
    {
      "cell_type": "markdown",
      "metadata": {
        "id": "2xgnuiYCwF64"
      },
      "source": [
        "`151` значения идентичные, остальные отличаются. Заменим пропуски в `name_1c` на значения из `name`:"
      ]
    },
    {
      "cell_type": "code",
      "execution_count": 48,
      "metadata": {
        "id": "wiB7GTunwF64"
      },
      "outputs": [],
      "source": [
        "prosept.marketing_product['name_1c'] = np.where(prosept.marketing_product['name_1c'].isna(),\n",
        "                                                  prosept.marketing_product['name_1c'].fillna(prosept.marketing_product['name']),\n",
        "                                                  prosept.marketing_product['name_1c'])"
      ]
    },
    {
      "cell_type": "markdown",
      "metadata": {
        "id": "l0yFqspYwF64"
      },
      "source": [
        "Проверим корректности замены пропусков пропусков:"
      ]
    },
    {
      "cell_type": "code",
      "execution_count": 49,
      "metadata": {
        "colab": {
          "base_uri": "https://localhost:8080/"
        },
        "id": "xvhzbX2XwF64",
        "outputId": "a216c269-1f9a-49e7-f611-42e8c1d481e8"
      },
      "outputs": [
        {
          "data": {
            "text/plain": [
              "0"
            ]
          },
          "execution_count": 49,
          "metadata": {},
          "output_type": "execute_result"
        }
      ],
      "source": [
        "prosept.marketing_product['name_1c'][prosept.marketing_product['name_1c'].isna()].shape[0]"
      ]
    },
    {
      "cell_type": "markdown",
      "metadata": {
        "id": "XO_mH3TuwF64"
      },
      "source": [
        "Замена произведена корректно"
      ]
    },
    {
      "cell_type": "code",
      "execution_count": 50,
      "metadata": {
        "colab": {
          "base_uri": "https://localhost:8080/",
          "height": 1000
        },
        "id": "eSDSmR_wwF65",
        "outputId": "6f2bbd2d-31fd-4a46-d6b3-1cb40980e378"
      },
      "outputs": [
        {
          "data": {
            "image/png": "[encoded data removed]",
            "text/plain": [
              "<Figure size 1200x1200 with 3 Axes>"
            ]
          },
          "metadata": {},
          "output_type": "display_data"
        }
      ],
      "source": [
        "analyzer.plot_hist(prosept.marketing_product['cost'])"
      ]
    },
    {
      "cell_type": "code",
      "execution_count": 51,
      "metadata": {
        "colab": {
          "base_uri": "https://localhost:8080/",
          "height": 1000
        },
        "id": "E9DxT6XQwF65",
        "outputId": "fabb9be4-b7a6-4254-eb01-fa44fcb7d29d"
      },
      "outputs": [
        {
          "data": {
            "image/png": "[encoded data removed]",
            "text/plain": [
              "<Figure size 1200x1200 with 3 Axes>"
            ]
          },
          "metadata": {},
          "output_type": "display_data"
        }
      ],
      "source": [
        "analyzer.plot_hist(prosept.marketing_product['recommended_price'])"
      ]
    },
    {
      "cell_type": "markdown",
      "metadata": {
        "id": "3VJDcR5XwF65"
      },
      "source": [
        "Вероятно, столбцы ~ похожи между собой. Логично предположить, что коэффициент наценки должен быть +- одинаковый. Проверим:"
      ]
    },
    {
      "cell_type": "code",
      "execution_count": 52,
      "metadata": {
        "colab": {
          "base_uri": "https://localhost:8080/"
        },
        "id": "-UvbVqYkwF65",
        "outputId": "1b90d51d-7894-42a3-dd6b-7e4a921bdbbc"
      },
      "outputs": [
        {
          "data": {
            "text/plain": [
              "0.99"
            ]
          },
          "execution_count": 52,
          "metadata": {},
          "output_type": "execute_result"
        }
      ],
      "source": [
        "round(prosept.marketing_product['recommended_price'].corr(prosept.marketing_product['cost']), 2)"
      ]
    },
    {
      "cell_type": "markdown",
      "metadata": {
        "id": "6zOo2qRIwF65"
      },
      "source": [
        "Коэффициент корреляции - `0.99`. Что говорит о том, что столбец `cost`, скорее всего, не будет представлять для нас никакой полезной информации.\n",
        "\n",
        "Удалим ненужные колонки:"
      ]
    },
    {
      "cell_type": "code",
      "execution_count": 53,
      "metadata": {
        "id": "VEr4MJcowF65"
      },
      "outputs": [],
      "source": [
        "prosept.marketing_product = prosept.marketing_product[['name','name_1c']]"
      ]
    },
    {
      "cell_type": "code",
      "execution_count": 54,
      "metadata": {
        "colab": {
          "base_uri": "https://localhost:8080/"
        },
        "id": "F5-XJloewF66",
        "outputId": "a12ee1aa-02af-4e5d-f1a1-4bdab0722296"
      },
      "outputs": [
        {
          "name": "stdout",
          "output_type": "stream",
          "text": [
            "<class 'pandas.core.frame.DataFrame'>\n",
            "Int64Index: 487 entries, 1 to 513\n",
            "Data columns (total 2 columns):\n",
            " #   Column   Non-Null Count  Dtype \n",
            "---  ------   --------------  ----- \n",
            " 0   name     487 non-null    object\n",
            " 1   name_1c  487 non-null    object\n",
            "dtypes: object(2)\n",
            "memory usage: 11.4+ KB\n"
          ]
        }
      ],
      "source": [
        "prosept.marketing_product.info()"
      ]
    },
    {
      "cell_type": "markdown",
      "metadata": {
        "id": "g7E-IedZwF66"
      },
      "source": [
        "### Вывод:\n",
        "\n",
        "Данные представляют собой данные о позициях клиента. Изначальный датафрейм состоял из `496` строк.\n",
        "\n",
        "В ходе анализа были обнаружены следующие обстоятельства:\n",
        "1. В данных есть дубликаты по колонке `article`, которые были вызваны лишними пробелами. В связи с этим возникают различные аномалии и пропуски. Удалили неверные значения;\n",
        "2. Данные из `name` и `name_1c` похожи на `30%`. При этом в колонке `name_1c` наблюдаются `2.22%` пропусков, заполнили их значениями из `name`"
      ]
    },
    {
      "cell_type": "markdown",
      "metadata": {
        "id": "VXcdX8SjwF66"
      },
      "source": [
        "## Marketing_product_dealer_key"
      ]
    },
    {
      "cell_type": "code",
      "execution_count": 55,
      "metadata": {
        "colab": {
          "base_uri": "https://localhost:8080/"
        },
        "id": "iJOII2OGwF66",
        "outputId": "86ed4d24-b0a6-4174-d153-72c6978da837"
      },
      "outputs": [
        {
          "name": "stdout",
          "output_type": "stream",
          "text": [
            "<class 'pandas.core.frame.DataFrame'>\n",
            "Int64Index: 1700 entries, 1 to 2023\n",
            "Data columns (total 3 columns):\n",
            " #   Column      Non-Null Count  Dtype \n",
            "---  ------      --------------  ----- \n",
            " 0   key         1700 non-null   object\n",
            " 1   dealer_id   1700 non-null   int64 \n",
            " 2   product_id  1700 non-null   int64 \n",
            "dtypes: int64(2), object(1)\n",
            "memory usage: 53.1+ KB\n"
          ]
        }
      ],
      "source": [
        "prosept.marketing_product_dealer_key.info()"
      ]
    },
    {
      "cell_type": "code",
      "execution_count": 56,
      "metadata": {
        "colab": {
          "base_uri": "https://localhost:8080/",
          "height": 238
        },
        "id": "TNAOUYP5wF66",
        "outputId": "e3e4f25b-d574-456f-cd59-dd6acaf24383"
      },
      "outputs": [
        {
          "data": {
            "text/html": [
              "\n",
              "  <div id=\"df-4301be40-96bf-4440-9a0d-01e49c53645a\" class=\"colab-df-container\">\n",
              "    <div>\n",
              "<style scoped>\n",
              "    .dataframe tbody tr th:only-of-type {\n",
              "        vertical-align: middle;\n",
              "    }\n",
              "\n",
              "    .dataframe tbody tr th {\n",
              "        vertical-align: top;\n",
              "    }\n",
              "\n",
              "    .dataframe thead th {\n",
              "        text-align: right;\n",
              "    }\n",
              "</style>\n",
              "<table border=\"1\" class=\"dataframe\">\n",
              "  <thead>\n",
              "    <tr style=\"text-align: right;\">\n",
              "      <th></th>\n",
              "      <th>key</th>\n",
              "      <th>dealer_id</th>\n",
              "      <th>product_id</th>\n",
              "    </tr>\n",
              "    <tr>\n",
              "      <th>id</th>\n",
              "      <th></th>\n",
              "      <th></th>\n",
              "      <th></th>\n",
              "    </tr>\n",
              "  </thead>\n",
              "  <tbody>\n",
              "    <tr>\n",
              "      <th>1875</th>\n",
              "      <td>528623838</td>\n",
              "      <td>18</td>\n",
              "      <td>258</td>\n",
              "    </tr>\n",
              "    <tr>\n",
              "      <th>1094</th>\n",
              "      <td>3707761</td>\n",
              "      <td>13</td>\n",
              "      <td>406</td>\n",
              "    </tr>\n",
              "    <tr>\n",
              "      <th>714</th>\n",
              "      <td>98267814</td>\n",
              "      <td>8</td>\n",
              "      <td>245</td>\n",
              "    </tr>\n",
              "    <tr>\n",
              "      <th>185</th>\n",
              "      <td>100163759</td>\n",
              "      <td>3</td>\n",
              "      <td>285</td>\n",
              "    </tr>\n",
              "    <tr>\n",
              "      <th>1555</th>\n",
              "      <td>15881620</td>\n",
              "      <td>15</td>\n",
              "      <td>43</td>\n",
              "    </tr>\n",
              "  </tbody>\n",
              "</table>\n",
              "</div>\n",
              "    <div class=\"colab-df-buttons\">\n",
              "\n",
              "  <div class=\"colab-df-container\">\n",
              "    <button class=\"colab-df-convert\" onclick=\"convertToInteractive('df-4301be40-96bf-4440-9a0d-01e49c53645a')\"\n",
              "            title=\"Convert this dataframe to an interactive table.\"\n",
              "            style=\"display:none;\">\n",
              "\n",
              "  <svg xmlns=\"http://www.w3.org/2000/svg\" height=\"24px\" viewBox=\"0 -960 960 960\">\n",
              "    <path d=\"M120-120v-720h720v720H120Zm60-500h600v-160H180v160Zm220 220h160v-160H400v160Zm0 220h160v-160H400v160ZM180-400h160v-160H180v160Zm440 0h160v-160H620v160ZM180-180h160v-160H180v160Zm440 0h160v-160H620v160Z\"/>\n",
              "  </svg>\n",
              "    </button>\n",
              "\n",
              "  <style>\n",
              "    .colab-df-container {\n",
              "      display:flex;\n",
              "      gap: 12px;\n",
              "    }\n",
              "\n",
              "    .colab-df-convert {\n",
              "      background-color: #E8F0FE;\n",
              "      border: none;\n",
              "      border-radius: 50%;\n",
              "      cursor: pointer;\n",
              "      display: none;\n",
              "      fill: #1967D2;\n",
              "      height: 32px;\n",
              "      padding: 0 0 0 0;\n",
              "      width: 32px;\n",
              "    }\n",
              "\n",
              "    .colab-df-convert:hover {\n",
              "      background-color: #E2EBFA;\n",
              "      box-shadow: 0px 1px 2px rgba(60, 64, 67, 0.3), 0px 1px 3px 1px rgba(60, 64, 67, 0.15);\n",
              "      fill: #174EA6;\n",
              "    }\n",
              "\n",
              "    .colab-df-buttons div {\n",
              "      margin-bottom: 4px;\n",
              "    }\n",
              "\n",
              "    [theme=dark] .colab-df-convert {\n",
              "      background-color: #3B4455;\n",
              "      fill: #D2E3FC;\n",
              "    }\n",
              "\n",
              "    [theme=dark] .colab-df-convert:hover {\n",
              "      background-color: #434B5C;\n",
              "      box-shadow: 0px 1px 3px 1px rgba(0, 0, 0, 0.15);\n",
              "      filter: drop-shadow(0px 1px 2px rgba(0, 0, 0, 0.3));\n",
              "      fill: #FFFFFF;\n",
              "    }\n",
              "  </style>\n",
              "\n",
              "    <script>\n",
              "      const buttonEl =\n",
              "        document.querySelector('#df-4301be40-96bf-4440-9a0d-01e49c53645a button.colab-df-convert');\n",
              "      buttonEl.style.display =\n",
              "        google.colab.kernel.accessAllowed ? 'block' : 'none';\n",
              "\n",
              "      async function convertToInteractive(key) {\n",
              "        const element = document.querySelector('#df-4301be40-96bf-4440-9a0d-01e49c53645a');\n",
              "        const dataTable =\n",
              "          await google.colab.kernel.invokeFunction('convertToInteractive',\n",
              "                                                    [key], {});\n",
              "        if (!dataTable) return;\n",
              "\n",
              "        const docLinkHtml = 'Like what you see? Visit the ' +\n",
              "          '<a target=\"_blank\" href=https://colab.research.google.com/notebooks/data_table.ipynb>data table notebook</a>'\n",
              "          + ' to learn more about interactive tables.';\n",
              "        element.innerHTML = '';\n",
              "        dataTable['output_type'] = 'display_data';\n",
              "        await google.colab.output.renderOutput(dataTable, element);\n",
              "        const docLink = document.createElement('div');\n",
              "        docLink.innerHTML = docLinkHtml;\n",
              "        element.appendChild(docLink);\n",
              "      }\n",
              "    </script>\n",
              "  </div>\n",
              "\n",
              "\n",
              "<div id=\"df-8d122d94-6a0e-484a-9a6d-359533e3a98f\">\n",
              "  <button class=\"colab-df-quickchart\" onclick=\"quickchart('df-8d122d94-6a0e-484a-9a6d-359533e3a98f')\"\n",
              "            title=\"Suggest charts\"\n",
              "            style=\"display:none;\">\n",
              "\n",
              "<svg xmlns=\"http://www.w3.org/2000/svg\" height=\"24px\"viewBox=\"0 0 24 24\"\n",
              "     width=\"24px\">\n",
              "    <g>\n",
              "        <path d=\"M19 3H5c-1.1 0-2 .9-2 2v14c0 1.1.9 2 2 2h14c1.1 0 2-.9 2-2V5c0-1.1-.9-2-2-2zM9 17H7v-7h2v7zm4 0h-2V7h2v10zm4 0h-2v-4h2v4z\"/>\n",
              "    </g>\n",
              "</svg>\n",
              "  </button>\n",
              "\n",
              "<style>\n",
              "  .colab-df-quickchart {\n",
              "      --bg-color: #E8F0FE;\n",
              "      --fill-color: #1967D2;\n",
              "      --hover-bg-color: #E2EBFA;\n",
              "      --hover-fill-color: #174EA6;\n",
              "      --disabled-fill-color: #AAA;\n",
              "      --disabled-bg-color: #DDD;\n",
              "  }\n",
              "\n",
              "  [theme=dark] .colab-df-quickchart {\n",
              "      --bg-color: #3B4455;\n",
              "      --fill-color: #D2E3FC;\n",
              "      --hover-bg-color: #434B5C;\n",
              "      --hover-fill-color: #FFFFFF;\n",
              "      --disabled-bg-color: #3B4455;\n",
              "      --disabled-fill-color: #666;\n",
              "  }\n",
              "\n",
              "  .colab-df-quickchart {\n",
              "    background-color: var(--bg-color);\n",
              "    border: none;\n",
              "    border-radius: 50%;\n",
              "    cursor: pointer;\n",
              "    display: none;\n",
              "    fill: var(--fill-color);\n",
              "    height: 32px;\n",
              "    padding: 0;\n",
              "    width: 32px;\n",
              "  }\n",
              "\n",
              "  .colab-df-quickchart:hover {\n",
              "    background-color: var(--hover-bg-color);\n",
              "    box-shadow: 0 1px 2px rgba(60, 64, 67, 0.3), 0 1px 3px 1px rgba(60, 64, 67, 0.15);\n",
              "    fill: var(--button-hover-fill-color);\n",
              "  }\n",
              "\n",
              "  .colab-df-quickchart-complete:disabled,\n",
              "  .colab-df-quickchart-complete:disabled:hover {\n",
              "    background-color: var(--disabled-bg-color);\n",
              "    fill: var(--disabled-fill-color);\n",
              "    box-shadow: none;\n",
              "  }\n",
              "\n",
              "  .colab-df-spinner {\n",
              "    border: 2px solid var(--fill-color);\n",
              "    border-color: transparent;\n",
              "    border-bottom-color: var(--fill-color);\n",
              "    animation:\n",
              "      spin 1s steps(1) infinite;\n",
              "  }\n",
              "\n",
              "  @keyframes spin {\n",
              "    0% {\n",
              "      border-color: transparent;\n",
              "      border-bottom-color: var(--fill-color);\n",
              "      border-left-color: var(--fill-color);\n",
              "    }\n",
              "    20% {\n",
              "      border-color: transparent;\n",
              "      border-left-color: var(--fill-color);\n",
              "      border-top-color: var(--fill-color);\n",
              "    }\n",
              "    30% {\n",
              "      border-color: transparent;\n",
              "      border-left-color: var(--fill-color);\n",
              "      border-top-color: var(--fill-color);\n",
              "      border-right-color: var(--fill-color);\n",
              "    }\n",
              "    40% {\n",
              "      border-color: transparent;\n",
              "      border-right-color: var(--fill-color);\n",
              "      border-top-color: var(--fill-color);\n",
              "    }\n",
              "    60% {\n",
              "      border-color: transparent;\n",
              "      border-right-color: var(--fill-color);\n",
              "    }\n",
              "    80% {\n",
              "      border-color: transparent;\n",
              "      border-right-color: var(--fill-color);\n",
              "      border-bottom-color: var(--fill-color);\n",
              "    }\n",
              "    90% {\n",
              "      border-color: transparent;\n",
              "      border-bottom-color: var(--fill-color);\n",
              "    }\n",
              "  }\n",
              "</style>\n",
              "\n",
              "  <script>\n",
              "    async function quickchart(key) {\n",
              "      const quickchartButtonEl =\n",
              "        document.querySelector('#' + key + ' button');\n",
              "      quickchartButtonEl.disabled = true;  // To prevent multiple clicks.\n",
              "      quickchartButtonEl.classList.add('colab-df-spinner');\n",
              "      try {\n",
              "        const charts = await google.colab.kernel.invokeFunction(\n",
              "            'suggestCharts', [key], {});\n",
              "      } catch (error) {\n",
              "        console.error('Error during call to suggestCharts:', error);\n",
              "      }\n",
              "      quickchartButtonEl.classList.remove('colab-df-spinner');\n",
              "      quickchartButtonEl.classList.add('colab-df-quickchart-complete');\n",
              "    }\n",
              "    (() => {\n",
              "      let quickchartButtonEl =\n",
              "        document.querySelector('#df-8d122d94-6a0e-484a-9a6d-359533e3a98f button');\n",
              "      quickchartButtonEl.style.display =\n",
              "        google.colab.kernel.accessAllowed ? 'block' : 'none';\n",
              "    })();\n",
              "  </script>\n",
              "</div>\n",
              "\n",
              "    </div>\n",
              "  </div>\n"
            ],
            "text/plain": [
              "            key  dealer_id  product_id\n",
              "id                                    \n",
              "1875  528623838         18         258\n",
              "1094    3707761         13         406\n",
              "714    98267814          8         245\n",
              "185   100163759          3         285\n",
              "1555   15881620         15          43"
            ]
          },
          "execution_count": 56,
          "metadata": {},
          "output_type": "execute_result"
        }
      ],
      "source": [
        "prosept.marketing_product_dealer_key.sample(5, random_state=RANDOM_SEED)"
      ]
    },
    {
      "cell_type": "code",
      "execution_count": 57,
      "metadata": {
        "colab": {
          "base_uri": "https://localhost:8080/"
        },
        "id": "woi0MDMgwF66",
        "outputId": "2015a8c0-0136-4a2b-94da-488104906263"
      },
      "outputs": [
        {
          "data": {
            "text/plain": [
              "0"
            ]
          },
          "execution_count": 57,
          "metadata": {},
          "output_type": "execute_result"
        }
      ],
      "source": [
        "prosept.marketing_product_dealer_key[prosept.marketing_product_dealer_key['product_id'].isna()].shape[0]"
      ]
    },
    {
      "cell_type": "markdown",
      "metadata": {
        "id": "QvE9KdkKwF66"
      },
      "source": [
        "Можно удалить пустые значения:"
      ]
    },
    {
      "cell_type": "code",
      "execution_count": 58,
      "metadata": {
        "id": "46sx1G9VwF67"
      },
      "outputs": [],
      "source": [
        "prosept.marketing_product_dealer_key.dropna(subset=['product_id'], inplace=True)"
      ]
    },
    {
      "cell_type": "markdown",
      "metadata": {
        "id": "UZRIBl8ZwF67"
      },
      "source": [
        "Заменим `float` на `int` в `product_id`"
      ]
    },
    {
      "cell_type": "code",
      "execution_count": 59,
      "metadata": {
        "id": "ow9ddSrlwF67"
      },
      "outputs": [],
      "source": [
        "prosept.marketing_product_dealer_key['product_id'] = prosept.marketing_product_dealer_key['product_id'].astype(int)"
      ]
    },
    {
      "cell_type": "markdown",
      "metadata": {
        "id": "ESf2bKrzwF67"
      },
      "source": [
        "Проверим, есть ли в датасете референс к нашим удаленным товарам:"
      ]
    },
    {
      "cell_type": "code",
      "execution_count": 60,
      "metadata": {
        "colab": {
          "base_uri": "https://localhost:8080/",
          "height": 238
        },
        "id": "IFzpCrXqwF67",
        "outputId": "c5c13691-fe85-48d1-f5e1-2e821b0f649e"
      },
      "outputs": [
        {
          "data": {
            "text/html": [
              "\n",
              "  <div id=\"df-5d215c42-19bd-4a55-952b-08fb481b31b9\" class=\"colab-df-container\">\n",
              "    <div>\n",
              "<style scoped>\n",
              "    .dataframe tbody tr th:only-of-type {\n",
              "        vertical-align: middle;\n",
              "    }\n",
              "\n",
              "    .dataframe tbody tr th {\n",
              "        vertical-align: top;\n",
              "    }\n",
              "\n",
              "    .dataframe thead th {\n",
              "        text-align: right;\n",
              "    }\n",
              "</style>\n",
              "<table border=\"1\" class=\"dataframe\">\n",
              "  <thead>\n",
              "    <tr style=\"text-align: right;\">\n",
              "      <th></th>\n",
              "      <th>key</th>\n",
              "      <th>dealer_id</th>\n",
              "      <th>product_id</th>\n",
              "    </tr>\n",
              "    <tr>\n",
              "      <th>id</th>\n",
              "      <th></th>\n",
              "      <th></th>\n",
              "      <th></th>\n",
              "    </tr>\n",
              "  </thead>\n",
              "  <tbody>\n",
              "    <tr>\n",
              "      <th>1</th>\n",
              "      <td>546227</td>\n",
              "      <td>2</td>\n",
              "      <td>12</td>\n",
              "    </tr>\n",
              "    <tr>\n",
              "      <th>2</th>\n",
              "      <td>651265</td>\n",
              "      <td>2</td>\n",
              "      <td>106</td>\n",
              "    </tr>\n",
              "    <tr>\n",
              "      <th>3</th>\n",
              "      <td>546257</td>\n",
              "      <td>2</td>\n",
              "      <td>200</td>\n",
              "    </tr>\n",
              "    <tr>\n",
              "      <th>4</th>\n",
              "      <td>546408</td>\n",
              "      <td>2</td>\n",
              "      <td>38</td>\n",
              "    </tr>\n",
              "    <tr>\n",
              "      <th>5</th>\n",
              "      <td>651258</td>\n",
              "      <td>2</td>\n",
              "      <td>403</td>\n",
              "    </tr>\n",
              "  </tbody>\n",
              "</table>\n",
              "</div>\n",
              "    <div class=\"colab-df-buttons\">\n",
              "\n",
              "  <div class=\"colab-df-container\">\n",
              "    <button class=\"colab-df-convert\" onclick=\"convertToInteractive('df-5d215c42-19bd-4a55-952b-08fb481b31b9')\"\n",
              "            title=\"Convert this dataframe to an interactive table.\"\n",
              "            style=\"display:none;\">\n",
              "\n",
              "  <svg xmlns=\"http://www.w3.org/2000/svg\" height=\"24px\" viewBox=\"0 -960 960 960\">\n",
              "    <path d=\"M120-120v-720h720v720H120Zm60-500h600v-160H180v160Zm220 220h160v-160H400v160Zm0 220h160v-160H400v160ZM180-400h160v-160H180v160Zm440 0h160v-160H620v160ZM180-180h160v-160H180v160Zm440 0h160v-160H620v160Z\"/>\n",
              "  </svg>\n",
              "    </button>\n",
              "\n",
              "  <style>\n",
              "    .colab-df-container {\n",
              "      display:flex;\n",
              "      gap: 12px;\n",
              "    }\n",
              "\n",
              "    .colab-df-convert {\n",
              "      background-color: #E8F0FE;\n",
              "      border: none;\n",
              "      border-radius: 50%;\n",
              "      cursor: pointer;\n",
              "      display: none;\n",
              "      fill: #1967D2;\n",
              "      height: 32px;\n",
              "      padding: 0 0 0 0;\n",
              "      width: 32px;\n",
              "    }\n",
              "\n",
              "    .colab-df-convert:hover {\n",
              "      background-color: #E2EBFA;\n",
              "      box-shadow: 0px 1px 2px rgba(60, 64, 67, 0.3), 0px 1px 3px 1px rgba(60, 64, 67, 0.15);\n",
              "      fill: #174EA6;\n",
              "    }\n",
              "\n",
              "    .colab-df-buttons div {\n",
              "      margin-bottom: 4px;\n",
              "    }\n",
              "\n",
              "    [theme=dark] .colab-df-convert {\n",
              "      background-color: #3B4455;\n",
              "      fill: #D2E3FC;\n",
              "    }\n",
              "\n",
              "    [theme=dark] .colab-df-convert:hover {\n",
              "      background-color: #434B5C;\n",
              "      box-shadow: 0px 1px 3px 1px rgba(0, 0, 0, 0.15);\n",
              "      filter: drop-shadow(0px 1px 2px rgba(0, 0, 0, 0.3));\n",
              "      fill: #FFFFFF;\n",
              "    }\n",
              "  </style>\n",
              "\n",
              "    <script>\n",
              "      const buttonEl =\n",
              "        document.querySelector('#df-5d215c42-19bd-4a55-952b-08fb481b31b9 button.colab-df-convert');\n",
              "      buttonEl.style.display =\n",
              "        google.colab.kernel.accessAllowed ? 'block' : 'none';\n",
              "\n",
              "      async function convertToInteractive(key) {\n",
              "        const element = document.querySelector('#df-5d215c42-19bd-4a55-952b-08fb481b31b9');\n",
              "        const dataTable =\n",
              "          await google.colab.kernel.invokeFunction('convertToInteractive',\n",
              "                                                    [key], {});\n",
              "        if (!dataTable) return;\n",
              "\n",
              "        const docLinkHtml = 'Like what you see? Visit the ' +\n",
              "          '<a target=\"_blank\" href=https://colab.research.google.com/notebooks/data_table.ipynb>data table notebook</a>'\n",
              "          + ' to learn more about interactive tables.';\n",
              "        element.innerHTML = '';\n",
              "        dataTable['output_type'] = 'display_data';\n",
              "        await google.colab.output.renderOutput(dataTable, element);\n",
              "        const docLink = document.createElement('div');\n",
              "        docLink.innerHTML = docLinkHtml;\n",
              "        element.appendChild(docLink);\n",
              "      }\n",
              "    </script>\n",
              "  </div>\n",
              "\n",
              "\n",
              "<div id=\"df-0deb4203-d1cc-4037-b391-f8a5ba25e8d8\">\n",
              "  <button class=\"colab-df-quickchart\" onclick=\"quickchart('df-0deb4203-d1cc-4037-b391-f8a5ba25e8d8')\"\n",
              "            title=\"Suggest charts\"\n",
              "            style=\"display:none;\">\n",
              "\n",
              "<svg xmlns=\"http://www.w3.org/2000/svg\" height=\"24px\"viewBox=\"0 0 24 24\"\n",
              "     width=\"24px\">\n",
              "    <g>\n",
              "        <path d=\"M19 3H5c-1.1 0-2 .9-2 2v14c0 1.1.9 2 2 2h14c1.1 0 2-.9 2-2V5c0-1.1-.9-2-2-2zM9 17H7v-7h2v7zm4 0h-2V7h2v10zm4 0h-2v-4h2v4z\"/>\n",
              "    </g>\n",
              "</svg>\n",
              "  </button>\n",
              "\n",
              "<style>\n",
              "  .colab-df-quickchart {\n",
              "      --bg-color: #E8F0FE;\n",
              "      --fill-color: #1967D2;\n",
              "      --hover-bg-color: #E2EBFA;\n",
              "      --hover-fill-color: #174EA6;\n",
              "      --disabled-fill-color: #AAA;\n",
              "      --disabled-bg-color: #DDD;\n",
              "  }\n",
              "\n",
              "  [theme=dark] .colab-df-quickchart {\n",
              "      --bg-color: #3B4455;\n",
              "      --fill-color: #D2E3FC;\n",
              "      --hover-bg-color: #434B5C;\n",
              "      --hover-fill-color: #FFFFFF;\n",
              "      --disabled-bg-color: #3B4455;\n",
              "      --disabled-fill-color: #666;\n",
              "  }\n",
              "\n",
              "  .colab-df-quickchart {\n",
              "    background-color: var(--bg-color);\n",
              "    border: none;\n",
              "    border-radius: 50%;\n",
              "    cursor: pointer;\n",
              "    display: none;\n",
              "    fill: var(--fill-color);\n",
              "    height: 32px;\n",
              "    padding: 0;\n",
              "    width: 32px;\n",
              "  }\n",
              "\n",
              "  .colab-df-quickchart:hover {\n",
              "    background-color: var(--hover-bg-color);\n",
              "    box-shadow: 0 1px 2px rgba(60, 64, 67, 0.3), 0 1px 3px 1px rgba(60, 64, 67, 0.15);\n",
              "    fill: var(--button-hover-fill-color);\n",
              "  }\n",
              "\n",
              "  .colab-df-quickchart-complete:disabled,\n",
              "  .colab-df-quickchart-complete:disabled:hover {\n",
              "    background-color: var(--disabled-bg-color);\n",
              "    fill: var(--disabled-fill-color);\n",
              "    box-shadow: none;\n",
              "  }\n",
              "\n",
              "  .colab-df-spinner {\n",
              "    border: 2px solid var(--fill-color);\n",
              "    border-color: transparent;\n",
              "    border-bottom-color: var(--fill-color);\n",
              "    animation:\n",
              "      spin 1s steps(1) infinite;\n",
              "  }\n",
              "\n",
              "  @keyframes spin {\n",
              "    0% {\n",
              "      border-color: transparent;\n",
              "      border-bottom-color: var(--fill-color);\n",
              "      border-left-color: var(--fill-color);\n",
              "    }\n",
              "    20% {\n",
              "      border-color: transparent;\n",
              "      border-left-color: var(--fill-color);\n",
              "      border-top-color: var(--fill-color);\n",
              "    }\n",
              "    30% {\n",
              "      border-color: transparent;\n",
              "      border-left-color: var(--fill-color);\n",
              "      border-top-color: var(--fill-color);\n",
              "      border-right-color: var(--fill-color);\n",
              "    }\n",
              "    40% {\n",
              "      border-color: transparent;\n",
              "      border-right-color: var(--fill-color);\n",
              "      border-top-color: var(--fill-color);\n",
              "    }\n",
              "    60% {\n",
              "      border-color: transparent;\n",
              "      border-right-color: var(--fill-color);\n",
              "    }\n",
              "    80% {\n",
              "      border-color: transparent;\n",
              "      border-right-color: var(--fill-color);\n",
              "      border-bottom-color: var(--fill-color);\n",
              "    }\n",
              "    90% {\n",
              "      border-color: transparent;\n",
              "      border-bottom-color: var(--fill-color);\n",
              "    }\n",
              "  }\n",
              "</style>\n",
              "\n",
              "  <script>\n",
              "    async function quickchart(key) {\n",
              "      const quickchartButtonEl =\n",
              "        document.querySelector('#' + key + ' button');\n",
              "      quickchartButtonEl.disabled = true;  // To prevent multiple clicks.\n",
              "      quickchartButtonEl.classList.add('colab-df-spinner');\n",
              "      try {\n",
              "        const charts = await google.colab.kernel.invokeFunction(\n",
              "            'suggestCharts', [key], {});\n",
              "      } catch (error) {\n",
              "        console.error('Error during call to suggestCharts:', error);\n",
              "      }\n",
              "      quickchartButtonEl.classList.remove('colab-df-spinner');\n",
              "      quickchartButtonEl.classList.add('colab-df-quickchart-complete');\n",
              "    }\n",
              "    (() => {\n",
              "      let quickchartButtonEl =\n",
              "        document.querySelector('#df-0deb4203-d1cc-4037-b391-f8a5ba25e8d8 button');\n",
              "      quickchartButtonEl.style.display =\n",
              "        google.colab.kernel.accessAllowed ? 'block' : 'none';\n",
              "    })();\n",
              "  </script>\n",
              "</div>\n",
              "\n",
              "    </div>\n",
              "  </div>\n"
            ],
            "text/plain": [
              "       key  dealer_id  product_id\n",
              "id                               \n",
              "1   546227          2          12\n",
              "2   651265          2         106\n",
              "3   546257          2         200\n",
              "4   546408          2          38\n",
              "5   651258          2         403"
            ]
          },
          "execution_count": 60,
          "metadata": {},
          "output_type": "execute_result"
        }
      ],
      "source": [
        "prosept.marketing_product_dealer_key.head()"
      ]
    },
    {
      "cell_type": "code",
      "execution_count": 61,
      "metadata": {
        "colab": {
          "base_uri": "https://localhost:8080/",
          "height": 520
        },
        "id": "zE4wDI_LwF67",
        "outputId": "ad6e7bb2-a49d-498e-df30-7a2ce36f6e9c"
      },
      "outputs": [
        {
          "data": {
            "text/html": [
              "\n",
              "  <div id=\"df-e1970356-0281-4344-a329-d5bd3a4803ae\" class=\"colab-df-container\">\n",
              "    <div>\n",
              "<style scoped>\n",
              "    .dataframe tbody tr th:only-of-type {\n",
              "        vertical-align: middle;\n",
              "    }\n",
              "\n",
              "    .dataframe tbody tr th {\n",
              "        vertical-align: top;\n",
              "    }\n",
              "\n",
              "    .dataframe thead th {\n",
              "        text-align: right;\n",
              "    }\n",
              "</style>\n",
              "<table border=\"1\" class=\"dataframe\">\n",
              "  <thead>\n",
              "    <tr style=\"text-align: right;\">\n",
              "      <th></th>\n",
              "      <th>key</th>\n",
              "      <th>dealer_id</th>\n",
              "      <th>product_id</th>\n",
              "    </tr>\n",
              "    <tr>\n",
              "      <th>id</th>\n",
              "      <th></th>\n",
              "      <th></th>\n",
              "      <th></th>\n",
              "    </tr>\n",
              "  </thead>\n",
              "  <tbody>\n",
              "    <tr>\n",
              "      <th>1274</th>\n",
              "      <td>26391137</td>\n",
              "      <td>16</td>\n",
              "      <td>222</td>\n",
              "    </tr>\n",
              "    <tr>\n",
              "      <th>1275</th>\n",
              "      <td>26391083</td>\n",
              "      <td>16</td>\n",
              "      <td>227</td>\n",
              "    </tr>\n",
              "    <tr>\n",
              "      <th>1409</th>\n",
              "      <td>18381715</td>\n",
              "      <td>15</td>\n",
              "      <td>363</td>\n",
              "    </tr>\n",
              "    <tr>\n",
              "      <th>1659</th>\n",
              "      <td>25458273</td>\n",
              "      <td>15</td>\n",
              "      <td>223</td>\n",
              "    </tr>\n",
              "    <tr>\n",
              "      <th>1660</th>\n",
              "      <td>25458159</td>\n",
              "      <td>15</td>\n",
              "      <td>225</td>\n",
              "    </tr>\n",
              "    <tr>\n",
              "      <th>1661</th>\n",
              "      <td>25458153</td>\n",
              "      <td>15</td>\n",
              "      <td>224</td>\n",
              "    </tr>\n",
              "    <tr>\n",
              "      <th>1839</th>\n",
              "      <td>858663048</td>\n",
              "      <td>17</td>\n",
              "      <td>226</td>\n",
              "    </tr>\n",
              "    <tr>\n",
              "      <th>1840</th>\n",
              "      <td>860500818</td>\n",
              "      <td>17</td>\n",
              "      <td>224</td>\n",
              "    </tr>\n",
              "    <tr>\n",
              "      <th>1841</th>\n",
              "      <td>860592578</td>\n",
              "      <td>17</td>\n",
              "      <td>225</td>\n",
              "    </tr>\n",
              "    <tr>\n",
              "      <th>1843</th>\n",
              "      <td>860510674</td>\n",
              "      <td>17</td>\n",
              "      <td>223</td>\n",
              "    </tr>\n",
              "    <tr>\n",
              "      <th>1981</th>\n",
              "      <td>901204650</td>\n",
              "      <td>18</td>\n",
              "      <td>226</td>\n",
              "    </tr>\n",
              "    <tr>\n",
              "      <th>1983</th>\n",
              "      <td>901206296</td>\n",
              "      <td>18</td>\n",
              "      <td>224</td>\n",
              "    </tr>\n",
              "    <tr>\n",
              "      <th>1985</th>\n",
              "      <td>901194775</td>\n",
              "      <td>18</td>\n",
              "      <td>225</td>\n",
              "    </tr>\n",
              "    <tr>\n",
              "      <th>1987</th>\n",
              "      <td>901204355</td>\n",
              "      <td>18</td>\n",
              "      <td>223</td>\n",
              "    </tr>\n",
              "  </tbody>\n",
              "</table>\n",
              "</div>\n",
              "    <div class=\"colab-df-buttons\">\n",
              "\n",
              "  <div class=\"colab-df-container\">\n",
              "    <button class=\"colab-df-convert\" onclick=\"convertToInteractive('df-e1970356-0281-4344-a329-d5bd3a4803ae')\"\n",
              "            title=\"Convert this dataframe to an interactive table.\"\n",
              "            style=\"display:none;\">\n",
              "\n",
              "  <svg xmlns=\"http://www.w3.org/2000/svg\" height=\"24px\" viewBox=\"0 -960 960 960\">\n",
              "    <path d=\"M120-120v-720h720v720H120Zm60-500h600v-160H180v160Zm220 220h160v-160H400v160Zm0 220h160v-160H400v160ZM180-400h160v-160H180v160Zm440 0h160v-160H620v160ZM180-180h160v-160H180v160Zm440 0h160v-160H620v160Z\"/>\n",
              "  </svg>\n",
              "    </button>\n",
              "\n",
              "  <style>\n",
              "    .colab-df-container {\n",
              "      display:flex;\n",
              "      gap: 12px;\n",
              "    }\n",
              "\n",
              "    .colab-df-convert {\n",
              "      background-color: #E8F0FE;\n",
              "      border: none;\n",
              "      border-radius: 50%;\n",
              "      cursor: pointer;\n",
              "      display: none;\n",
              "      fill: #1967D2;\n",
              "      height: 32px;\n",
              "      padding: 0 0 0 0;\n",
              "      width: 32px;\n",
              "    }\n",
              "\n",
              "    .colab-df-convert:hover {\n",
              "      background-color: #E2EBFA;\n",
              "      box-shadow: 0px 1px 2px rgba(60, 64, 67, 0.3), 0px 1px 3px 1px rgba(60, 64, 67, 0.15);\n",
              "      fill: #174EA6;\n",
              "    }\n",
              "\n",
              "    .colab-df-buttons div {\n",
              "      margin-bottom: 4px;\n",
              "    }\n",
              "\n",
              "    [theme=dark] .colab-df-convert {\n",
              "      background-color: #3B4455;\n",
              "      fill: #D2E3FC;\n",
              "    }\n",
              "\n",
              "    [theme=dark] .colab-df-convert:hover {\n",
              "      background-color: #434B5C;\n",
              "      box-shadow: 0px 1px 3px 1px rgba(0, 0, 0, 0.15);\n",
              "      filter: drop-shadow(0px 1px 2px rgba(0, 0, 0, 0.3));\n",
              "      fill: #FFFFFF;\n",
              "    }\n",
              "  </style>\n",
              "\n",
              "    <script>\n",
              "      const buttonEl =\n",
              "        document.querySelector('#df-e1970356-0281-4344-a329-d5bd3a4803ae button.colab-df-convert');\n",
              "      buttonEl.style.display =\n",
              "        google.colab.kernel.accessAllowed ? 'block' : 'none';\n",
              "\n",
              "      async function convertToInteractive(key) {\n",
              "        const element = document.querySelector('#df-e1970356-0281-4344-a329-d5bd3a4803ae');\n",
              "        const dataTable =\n",
              "          await google.colab.kernel.invokeFunction('convertToInteractive',\n",
              "                                                    [key], {});\n",
              "        if (!dataTable) return;\n",
              "\n",
              "        const docLinkHtml = 'Like what you see? Visit the ' +\n",
              "          '<a target=\"_blank\" href=https://colab.research.google.com/notebooks/data_table.ipynb>data table notebook</a>'\n",
              "          + ' to learn more about interactive tables.';\n",
              "        element.innerHTML = '';\n",
              "        dataTable['output_type'] = 'display_data';\n",
              "        await google.colab.output.renderOutput(dataTable, element);\n",
              "        const docLink = document.createElement('div');\n",
              "        docLink.innerHTML = docLinkHtml;\n",
              "        element.appendChild(docLink);\n",
              "      }\n",
              "    </script>\n",
              "  </div>\n",
              "\n",
              "\n",
              "<div id=\"df-14b4fdb6-ad19-4de5-9460-d0f00dc0e12a\">\n",
              "  <button class=\"colab-df-quickchart\" onclick=\"quickchart('df-14b4fdb6-ad19-4de5-9460-d0f00dc0e12a')\"\n",
              "            title=\"Suggest charts\"\n",
              "            style=\"display:none;\">\n",
              "\n",
              "<svg xmlns=\"http://www.w3.org/2000/svg\" height=\"24px\"viewBox=\"0 0 24 24\"\n",
              "     width=\"24px\">\n",
              "    <g>\n",
              "        <path d=\"M19 3H5c-1.1 0-2 .9-2 2v14c0 1.1.9 2 2 2h14c1.1 0 2-.9 2-2V5c0-1.1-.9-2-2-2zM9 17H7v-7h2v7zm4 0h-2V7h2v10zm4 0h-2v-4h2v4z\"/>\n",
              "    </g>\n",
              "</svg>\n",
              "  </button>\n",
              "\n",
              "<style>\n",
              "  .colab-df-quickchart {\n",
              "      --bg-color: #E8F0FE;\n",
              "      --fill-color: #1967D2;\n",
              "      --hover-bg-color: #E2EBFA;\n",
              "      --hover-fill-color: #174EA6;\n",
              "      --disabled-fill-color: #AAA;\n",
              "      --disabled-bg-color: #DDD;\n",
              "  }\n",
              "\n",
              "  [theme=dark] .colab-df-quickchart {\n",
              "      --bg-color: #3B4455;\n",
              "      --fill-color: #D2E3FC;\n",
              "      --hover-bg-color: #434B5C;\n",
              "      --hover-fill-color: #FFFFFF;\n",
              "      --disabled-bg-color: #3B4455;\n",
              "      --disabled-fill-color: #666;\n",
              "  }\n",
              "\n",
              "  .colab-df-quickchart {\n",
              "    background-color: var(--bg-color);\n",
              "    border: none;\n",
              "    border-radius: 50%;\n",
              "    cursor: pointer;\n",
              "    display: none;\n",
              "    fill: var(--fill-color);\n",
              "    height: 32px;\n",
              "    padding: 0;\n",
              "    width: 32px;\n",
              "  }\n",
              "\n",
              "  .colab-df-quickchart:hover {\n",
              "    background-color: var(--hover-bg-color);\n",
              "    box-shadow: 0 1px 2px rgba(60, 64, 67, 0.3), 0 1px 3px 1px rgba(60, 64, 67, 0.15);\n",
              "    fill: var(--button-hover-fill-color);\n",
              "  }\n",
              "\n",
              "  .colab-df-quickchart-complete:disabled,\n",
              "  .colab-df-quickchart-complete:disabled:hover {\n",
              "    background-color: var(--disabled-bg-color);\n",
              "    fill: var(--disabled-fill-color);\n",
              "    box-shadow: none;\n",
              "  }\n",
              "\n",
              "  .colab-df-spinner {\n",
              "    border: 2px solid var(--fill-color);\n",
              "    border-color: transparent;\n",
              "    border-bottom-color: var(--fill-color);\n",
              "    animation:\n",
              "      spin 1s steps(1) infinite;\n",
              "  }\n",
              "\n",
              "  @keyframes spin {\n",
              "    0% {\n",
              "      border-color: transparent;\n",
              "      border-bottom-color: var(--fill-color);\n",
              "      border-left-color: var(--fill-color);\n",
              "    }\n",
              "    20% {\n",
              "      border-color: transparent;\n",
              "      border-left-color: var(--fill-color);\n",
              "      border-top-color: var(--fill-color);\n",
              "    }\n",
              "    30% {\n",
              "      border-color: transparent;\n",
              "      border-left-color: var(--fill-color);\n",
              "      border-top-color: var(--fill-color);\n",
              "      border-right-color: var(--fill-color);\n",
              "    }\n",
              "    40% {\n",
              "      border-color: transparent;\n",
              "      border-right-color: var(--fill-color);\n",
              "      border-top-color: var(--fill-color);\n",
              "    }\n",
              "    60% {\n",
              "      border-color: transparent;\n",
              "      border-right-color: var(--fill-color);\n",
              "    }\n",
              "    80% {\n",
              "      border-color: transparent;\n",
              "      border-right-color: var(--fill-color);\n",
              "      border-bottom-color: var(--fill-color);\n",
              "    }\n",
              "    90% {\n",
              "      border-color: transparent;\n",
              "      border-bottom-color: var(--fill-color);\n",
              "    }\n",
              "  }\n",
              "</style>\n",
              "\n",
              "  <script>\n",
              "    async function quickchart(key) {\n",
              "      const quickchartButtonEl =\n",
              "        document.querySelector('#' + key + ' button');\n",
              "      quickchartButtonEl.disabled = true;  // To prevent multiple clicks.\n",
              "      quickchartButtonEl.classList.add('colab-df-spinner');\n",
              "      try {\n",
              "        const charts = await google.colab.kernel.invokeFunction(\n",
              "            'suggestCharts', [key], {});\n",
              "      } catch (error) {\n",
              "        console.error('Error during call to suggestCharts:', error);\n",
              "      }\n",
              "      quickchartButtonEl.classList.remove('colab-df-spinner');\n",
              "      quickchartButtonEl.classList.add('colab-df-quickchart-complete');\n",
              "    }\n",
              "    (() => {\n",
              "      let quickchartButtonEl =\n",
              "        document.querySelector('#df-14b4fdb6-ad19-4de5-9460-d0f00dc0e12a button');\n",
              "      quickchartButtonEl.style.display =\n",
              "        google.colab.kernel.accessAllowed ? 'block' : 'none';\n",
              "    })();\n",
              "  </script>\n",
              "</div>\n",
              "\n",
              "    </div>\n",
              "  </div>\n"
            ],
            "text/plain": [
              "            key  dealer_id  product_id\n",
              "id                                    \n",
              "1274   26391137         16         222\n",
              "1275   26391083         16         227\n",
              "1409   18381715         15         363\n",
              "1659   25458273         15         223\n",
              "1660   25458159         15         225\n",
              "1661   25458153         15         224\n",
              "1839  858663048         17         226\n",
              "1840  860500818         17         224\n",
              "1841  860592578         17         225\n",
              "1843  860510674         17         223\n",
              "1981  901204650         18         226\n",
              "1983  901206296         18         224\n",
              "1985  901194775         18         225\n",
              "1987  901204355         18         223"
            ]
          },
          "execution_count": 61,
          "metadata": {},
          "output_type": "execute_result"
        }
      ],
      "source": [
        "ind_false = prosept.marketing_product_dealer_key[prosept.marketing_product_dealer_key['product_id'].isin(keep_dict.keys())].index\n",
        "prosept.marketing_product_dealer_key[prosept.marketing_product_dealer_key['product_id'].isin(keep_dict.keys())]"
      ]
    },
    {
      "cell_type": "markdown",
      "metadata": {
        "id": "8urkQ5g9wF67"
      },
      "source": [
        "Такие значения имеются. Заменим их на актуальные:"
      ]
    },
    {
      "cell_type": "code",
      "execution_count": 62,
      "metadata": {
        "id": "xW2SBfJMwF68"
      },
      "outputs": [],
      "source": [
        "prosept.marketing_product_dealer_key.replace(keep_dict, inplace=True)"
      ]
    },
    {
      "cell_type": "markdown",
      "metadata": {
        "id": "IFupyvVFwF68"
      },
      "source": [
        "Посмотрим на результат замены:"
      ]
    },
    {
      "cell_type": "code",
      "execution_count": 63,
      "metadata": {
        "colab": {
          "base_uri": "https://localhost:8080/",
          "height": 238
        },
        "id": "BnDfuGTFwF68",
        "outputId": "67202b80-d07e-45af-8413-784a9b0e9228"
      },
      "outputs": [
        {
          "data": {
            "text/html": [
              "\n",
              "  <div id=\"df-63fc9043-f53c-4bb0-a7f1-d103b160c32c\" class=\"colab-df-container\">\n",
              "    <div>\n",
              "<style scoped>\n",
              "    .dataframe tbody tr th:only-of-type {\n",
              "        vertical-align: middle;\n",
              "    }\n",
              "\n",
              "    .dataframe tbody tr th {\n",
              "        vertical-align: top;\n",
              "    }\n",
              "\n",
              "    .dataframe thead th {\n",
              "        text-align: right;\n",
              "    }\n",
              "</style>\n",
              "<table border=\"1\" class=\"dataframe\">\n",
              "  <thead>\n",
              "    <tr style=\"text-align: right;\">\n",
              "      <th></th>\n",
              "      <th>key</th>\n",
              "      <th>dealer_id</th>\n",
              "      <th>product_id</th>\n",
              "    </tr>\n",
              "    <tr>\n",
              "      <th>id</th>\n",
              "      <th></th>\n",
              "      <th></th>\n",
              "      <th></th>\n",
              "    </tr>\n",
              "  </thead>\n",
              "  <tbody>\n",
              "    <tr>\n",
              "      <th>1274</th>\n",
              "      <td>26391137</td>\n",
              "      <td>16</td>\n",
              "      <td>362</td>\n",
              "    </tr>\n",
              "    <tr>\n",
              "      <th>1275</th>\n",
              "      <td>26391083</td>\n",
              "      <td>16</td>\n",
              "      <td>463</td>\n",
              "    </tr>\n",
              "    <tr>\n",
              "      <th>1409</th>\n",
              "      <td>18381715</td>\n",
              "      <td>15</td>\n",
              "      <td>502</td>\n",
              "    </tr>\n",
              "    <tr>\n",
              "      <th>1659</th>\n",
              "      <td>25458273</td>\n",
              "      <td>15</td>\n",
              "      <td>366</td>\n",
              "    </tr>\n",
              "    <tr>\n",
              "      <th>1660</th>\n",
              "      <td>25458159</td>\n",
              "      <td>15</td>\n",
              "      <td>374</td>\n",
              "    </tr>\n",
              "  </tbody>\n",
              "</table>\n",
              "</div>\n",
              "    <div class=\"colab-df-buttons\">\n",
              "\n",
              "  <div class=\"colab-df-container\">\n",
              "    <button class=\"colab-df-convert\" onclick=\"convertToInteractive('df-63fc9043-f53c-4bb0-a7f1-d103b160c32c')\"\n",
              "            title=\"Convert this dataframe to an interactive table.\"\n",
              "            style=\"display:none;\">\n",
              "\n",
              "  <svg xmlns=\"http://www.w3.org/2000/svg\" height=\"24px\" viewBox=\"0 -960 960 960\">\n",
              "    <path d=\"M120-120v-720h720v720H120Zm60-500h600v-160H180v160Zm220 220h160v-160H400v160Zm0 220h160v-160H400v160ZM180-400h160v-160H180v160Zm440 0h160v-160H620v160ZM180-180h160v-160H180v160Zm440 0h160v-160H620v160Z\"/>\n",
              "  </svg>\n",
              "    </button>\n",
              "\n",
              "  <style>\n",
              "    .colab-df-container {\n",
              "      display:flex;\n",
              "      gap: 12px;\n",
              "    }\n",
              "\n",
              "    .colab-df-convert {\n",
              "      background-color: #E8F0FE;\n",
              "      border: none;\n",
              "      border-radius: 50%;\n",
              "      cursor: pointer;\n",
              "      display: none;\n",
              "      fill: #1967D2;\n",
              "      height: 32px;\n",
              "      padding: 0 0 0 0;\n",
              "      width: 32px;\n",
              "    }\n",
              "\n",
              "    .colab-df-convert:hover {\n",
              "      background-color: #E2EBFA;\n",
              "      box-shadow: 0px 1px 2px rgba(60, 64, 67, 0.3), 0px 1px 3px 1px rgba(60, 64, 67, 0.15);\n",
              "      fill: #174EA6;\n",
              "    }\n",
              "\n",
              "    .colab-df-buttons div {\n",
              "      margin-bottom: 4px;\n",
              "    }\n",
              "\n",
              "    [theme=dark] .colab-df-convert {\n",
              "      background-color: #3B4455;\n",
              "      fill: #D2E3FC;\n",
              "    }\n",
              "\n",
              "    [theme=dark] .colab-df-convert:hover {\n",
              "      background-color: #434B5C;\n",
              "      box-shadow: 0px 1px 3px 1px rgba(0, 0, 0, 0.15);\n",
              "      filter: drop-shadow(0px 1px 2px rgba(0, 0, 0, 0.3));\n",
              "      fill: #FFFFFF;\n",
              "    }\n",
              "  </style>\n",
              "\n",
              "    <script>\n",
              "      const buttonEl =\n",
              "        document.querySelector('#df-63fc9043-f53c-4bb0-a7f1-d103b160c32c button.colab-df-convert');\n",
              "      buttonEl.style.display =\n",
              "        google.colab.kernel.accessAllowed ? 'block' : 'none';\n",
              "\n",
              "      async function convertToInteractive(key) {\n",
              "        const element = document.querySelector('#df-63fc9043-f53c-4bb0-a7f1-d103b160c32c');\n",
              "        const dataTable =\n",
              "          await google.colab.kernel.invokeFunction('convertToInteractive',\n",
              "                                                    [key], {});\n",
              "        if (!dataTable) return;\n",
              "\n",
              "        const docLinkHtml = 'Like what you see? Visit the ' +\n",
              "          '<a target=\"_blank\" href=https://colab.research.google.com/notebooks/data_table.ipynb>data table notebook</a>'\n",
              "          + ' to learn more about interactive tables.';\n",
              "        element.innerHTML = '';\n",
              "        dataTable['output_type'] = 'display_data';\n",
              "        await google.colab.output.renderOutput(dataTable, element);\n",
              "        const docLink = document.createElement('div');\n",
              "        docLink.innerHTML = docLinkHtml;\n",
              "        element.appendChild(docLink);\n",
              "      }\n",
              "    </script>\n",
              "  </div>\n",
              "\n",
              "\n",
              "<div id=\"df-2cba9b6d-81e9-40e7-98db-1a38d1ae4757\">\n",
              "  <button class=\"colab-df-quickchart\" onclick=\"quickchart('df-2cba9b6d-81e9-40e7-98db-1a38d1ae4757')\"\n",
              "            title=\"Suggest charts\"\n",
              "            style=\"display:none;\">\n",
              "\n",
              "<svg xmlns=\"http://www.w3.org/2000/svg\" height=\"24px\"viewBox=\"0 0 24 24\"\n",
              "     width=\"24px\">\n",
              "    <g>\n",
              "        <path d=\"M19 3H5c-1.1 0-2 .9-2 2v14c0 1.1.9 2 2 2h14c1.1 0 2-.9 2-2V5c0-1.1-.9-2-2-2zM9 17H7v-7h2v7zm4 0h-2V7h2v10zm4 0h-2v-4h2v4z\"/>\n",
              "    </g>\n",
              "</svg>\n",
              "  </button>\n",
              "\n",
              "<style>\n",
              "  .colab-df-quickchart {\n",
              "      --bg-color: #E8F0FE;\n",
              "      --fill-color: #1967D2;\n",
              "      --hover-bg-color: #E2EBFA;\n",
              "      --hover-fill-color: #174EA6;\n",
              "      --disabled-fill-color: #AAA;\n",
              "      --disabled-bg-color: #DDD;\n",
              "  }\n",
              "\n",
              "  [theme=dark] .colab-df-quickchart {\n",
              "      --bg-color: #3B4455;\n",
              "      --fill-color: #D2E3FC;\n",
              "      --hover-bg-color: #434B5C;\n",
              "      --hover-fill-color: #FFFFFF;\n",
              "      --disabled-bg-color: #3B4455;\n",
              "      --disabled-fill-color: #666;\n",
              "  }\n",
              "\n",
              "  .colab-df-quickchart {\n",
              "    background-color: var(--bg-color);\n",
              "    border: none;\n",
              "    border-radius: 50%;\n",
              "    cursor: pointer;\n",
              "    display: none;\n",
              "    fill: var(--fill-color);\n",
              "    height: 32px;\n",
              "    padding: 0;\n",
              "    width: 32px;\n",
              "  }\n",
              "\n",
              "  .colab-df-quickchart:hover {\n",
              "    background-color: var(--hover-bg-color);\n",
              "    box-shadow: 0 1px 2px rgba(60, 64, 67, 0.3), 0 1px 3px 1px rgba(60, 64, 67, 0.15);\n",
              "    fill: var(--button-hover-fill-color);\n",
              "  }\n",
              "\n",
              "  .colab-df-quickchart-complete:disabled,\n",
              "  .colab-df-quickchart-complete:disabled:hover {\n",
              "    background-color: var(--disabled-bg-color);\n",
              "    fill: var(--disabled-fill-color);\n",
              "    box-shadow: none;\n",
              "  }\n",
              "\n",
              "  .colab-df-spinner {\n",
              "    border: 2px solid var(--fill-color);\n",
              "    border-color: transparent;\n",
              "    border-bottom-color: var(--fill-color);\n",
              "    animation:\n",
              "      spin 1s steps(1) infinite;\n",
              "  }\n",
              "\n",
              "  @keyframes spin {\n",
              "    0% {\n",
              "      border-color: transparent;\n",
              "      border-bottom-color: var(--fill-color);\n",
              "      border-left-color: var(--fill-color);\n",
              "    }\n",
              "    20% {\n",
              "      border-color: transparent;\n",
              "      border-left-color: var(--fill-color);\n",
              "      border-top-color: var(--fill-color);\n",
              "    }\n",
              "    30% {\n",
              "      border-color: transparent;\n",
              "      border-left-color: var(--fill-color);\n",
              "      border-top-color: var(--fill-color);\n",
              "      border-right-color: var(--fill-color);\n",
              "    }\n",
              "    40% {\n",
              "      border-color: transparent;\n",
              "      border-right-color: var(--fill-color);\n",
              "      border-top-color: var(--fill-color);\n",
              "    }\n",
              "    60% {\n",
              "      border-color: transparent;\n",
              "      border-right-color: var(--fill-color);\n",
              "    }\n",
              "    80% {\n",
              "      border-color: transparent;\n",
              "      border-right-color: var(--fill-color);\n",
              "      border-bottom-color: var(--fill-color);\n",
              "    }\n",
              "    90% {\n",
              "      border-color: transparent;\n",
              "      border-bottom-color: var(--fill-color);\n",
              "    }\n",
              "  }\n",
              "</style>\n",
              "\n",
              "  <script>\n",
              "    async function quickchart(key) {\n",
              "      const quickchartButtonEl =\n",
              "        document.querySelector('#' + key + ' button');\n",
              "      quickchartButtonEl.disabled = true;  // To prevent multiple clicks.\n",
              "      quickchartButtonEl.classList.add('colab-df-spinner');\n",
              "      try {\n",
              "        const charts = await google.colab.kernel.invokeFunction(\n",
              "            'suggestCharts', [key], {});\n",
              "      } catch (error) {\n",
              "        console.error('Error during call to suggestCharts:', error);\n",
              "      }\n",
              "      quickchartButtonEl.classList.remove('colab-df-spinner');\n",
              "      quickchartButtonEl.classList.add('colab-df-quickchart-complete');\n",
              "    }\n",
              "    (() => {\n",
              "      let quickchartButtonEl =\n",
              "        document.querySelector('#df-2cba9b6d-81e9-40e7-98db-1a38d1ae4757 button');\n",
              "      quickchartButtonEl.style.display =\n",
              "        google.colab.kernel.accessAllowed ? 'block' : 'none';\n",
              "    })();\n",
              "  </script>\n",
              "</div>\n",
              "\n",
              "    </div>\n",
              "  </div>\n"
            ],
            "text/plain": [
              "           key  dealer_id  product_id\n",
              "id                                   \n",
              "1274  26391137         16         362\n",
              "1275  26391083         16         463\n",
              "1409  18381715         15         502\n",
              "1659  25458273         15         366\n",
              "1660  25458159         15         374"
            ]
          },
          "execution_count": 63,
          "metadata": {},
          "output_type": "execute_result"
        }
      ],
      "source": [
        "prosept.marketing_product_dealer_key[prosept.marketing_product_dealer_key.index.isin(ind_false)].head(5)"
      ]
    },
    {
      "cell_type": "markdown",
      "metadata": {
        "id": "9eUM5znzwF68"
      },
      "source": [
        "Замена выполнена конкретно"
      ]
    },
    {
      "cell_type": "code",
      "execution_count": 64,
      "metadata": {
        "colab": {
          "base_uri": "https://localhost:8080/"
        },
        "id": "op_M6czXwF68",
        "outputId": "45754cb6-7ee8-4201-fc5e-484d34346e6d"
      },
      "outputs": [
        {
          "name": "stdout",
          "output_type": "stream",
          "text": [
            "Пропуски в датасете \"marketing_product_dealer_key\" не обнаружены\n"
          ]
        }
      ],
      "source": [
        "prosept.check_misses_marketing_product_dealer_key()"
      ]
    },
    {
      "cell_type": "code",
      "execution_count": 65,
      "metadata": {
        "colab": {
          "base_uri": "https://localhost:8080/"
        },
        "id": "Y9Q4ywTewF68",
        "outputId": "c5f5d3b9-0359-4e22-f74a-3c12a41d949b"
      },
      "outputs": [
        {
          "name": "stdout",
          "output_type": "stream",
          "text": [
            "Дубликаты в \"marketing_product_dealer_key\" не обнаружены\n"
          ]
        }
      ],
      "source": [
        "prosept.check_duplicates_marketing_product_dealer_key()"
      ]
    },
    {
      "cell_type": "markdown",
      "metadata": {
        "id": "fig5wZHJwF69"
      },
      "source": [
        "### Вывод\n",
        "\n",
        "Некоторые ключи ввели к неверным `article` из датасета `marketing_product`. Мы сохранили словарь, который позволил произведи замену неверных ключей на верные."
      ]
    },
    {
      "cell_type": "markdown",
      "metadata": {
        "id": "KboWYyVywF69"
      },
      "source": [
        "# Merge DF"
      ]
    },
    {
      "cell_type": "markdown",
      "metadata": {
        "id": "0TZdxULNwF69"
      },
      "source": [
        "Соединим всю информацию воедино:"
      ]
    },
    {
      "cell_type": "code",
      "execution_count": 66,
      "metadata": {
        "id": "ofQZ1m0twF69"
      },
      "outputs": [],
      "source": [
        "prosept.merger()"
      ]
    },
    {
      "cell_type": "markdown",
      "metadata": {
        "id": "0Ckv8oKqwF69"
      },
      "source": [
        "Посмотрим первичную информацию:"
      ]
    },
    {
      "cell_type": "code",
      "execution_count": 67,
      "metadata": {
        "colab": {
          "base_uri": "https://localhost:8080/"
        },
        "id": "FusogZpswF69",
        "outputId": "a6cc08d2-14af-4798-8779-2b2327667ef0"
      },
      "outputs": [
        {
          "name": "stdout",
          "output_type": "stream",
          "text": [
            "<class 'pandas.core.frame.DataFrame'>\n",
            "Int64Index: 1613 entries, 0 to 1612\n",
            "Data columns (total 5 columns):\n",
            " #   Column         Non-Null Count  Dtype \n",
            "---  ------         --------------  ----- \n",
            " 0   id             1613 non-null   int64 \n",
            " 1   product_name   1613 non-null   object\n",
            " 2   product_id     1613 non-null   int64 \n",
            " 3   original_name  1613 non-null   object\n",
            " 4   name_1c        1613 non-null   object\n",
            "dtypes: int64(2), object(3)\n",
            "memory usage: 75.6+ KB\n"
          ]
        }
      ],
      "source": [
        "prosept.merged_df.info()"
      ]
    },
    {
      "cell_type": "code",
      "execution_count": 68,
      "metadata": {
        "colab": {
          "base_uri": "https://localhost:8080/",
          "height": 206
        },
        "id": "KbU2PvZMwF6-",
        "outputId": "5a88fa42-3b91-4c61-baa8-ed9b1e0ce031"
      },
      "outputs": [
        {
          "data": {
            "text/html": [
              "\n",
              "  <div id=\"df-0c4e61fd-6737-4a07-a29b-d4553988c64c\" class=\"colab-df-container\">\n",
              "    <div>\n",
              "<style scoped>\n",
              "    .dataframe tbody tr th:only-of-type {\n",
              "        vertical-align: middle;\n",
              "    }\n",
              "\n",
              "    .dataframe tbody tr th {\n",
              "        vertical-align: top;\n",
              "    }\n",
              "\n",
              "    .dataframe thead th {\n",
              "        text-align: right;\n",
              "    }\n",
              "</style>\n",
              "<table border=\"1\" class=\"dataframe\">\n",
              "  <thead>\n",
              "    <tr style=\"text-align: right;\">\n",
              "      <th></th>\n",
              "      <th>id</th>\n",
              "      <th>product_name</th>\n",
              "      <th>product_id</th>\n",
              "      <th>original_name</th>\n",
              "      <th>name_1c</th>\n",
              "    </tr>\n",
              "  </thead>\n",
              "  <tbody>\n",
              "    <tr>\n",
              "      <th>0</th>\n",
              "      <td>919</td>\n",
              "      <td>Средство для удаления цемента Prosept Cement C...</td>\n",
              "      <td>400</td>\n",
              "      <td>Удалитель цемента CEMENT CLEANER готовый соста...</td>\n",
              "      <td>Удалитель цемента PROSEPT CEMENT CLEANER, 0.5 л.</td>\n",
              "    </tr>\n",
              "    <tr>\n",
              "      <th>1</th>\n",
              "      <td>2461</td>\n",
              "      <td>СредстводляудаленияцементаProseptСementСlean0,5л</td>\n",
              "      <td>400</td>\n",
              "      <td>Удалитель цемента CEMENT CLEANER готовый соста...</td>\n",
              "      <td>Удалитель цемента PROSEPT CEMENT CLEANER, 0.5 л.</td>\n",
              "    </tr>\n",
              "    <tr>\n",
              "      <th>2</th>\n",
              "      <td>19314</td>\n",
              "      <td>Средство для удаления цемента Prosept Сement С...</td>\n",
              "      <td>400</td>\n",
              "      <td>Удалитель цемента CEMENT CLEANER готовый соста...</td>\n",
              "      <td>Удалитель цемента PROSEPT CEMENT CLEANER, 0.5 л.</td>\n",
              "    </tr>\n",
              "    <tr>\n",
              "      <th>3</th>\n",
              "      <td>20237</td>\n",
              "      <td>CEMENT CLEANER удалитель цемента</td>\n",
              "      <td>400</td>\n",
              "      <td>Удалитель цемента CEMENT CLEANER готовый соста...</td>\n",
              "      <td>Удалитель цемента PROSEPT CEMENT CLEANER, 0.5 л.</td>\n",
              "    </tr>\n",
              "    <tr>\n",
              "      <th>4</th>\n",
              "      <td>19148</td>\n",
              "      <td>Просепт Professional Cement Cleaner удалитель ...</td>\n",
              "      <td>400</td>\n",
              "      <td>Удалитель цемента CEMENT CLEANER готовый соста...</td>\n",
              "      <td>Удалитель цемента PROSEPT CEMENT CLEANER, 0.5 л.</td>\n",
              "    </tr>\n",
              "  </tbody>\n",
              "</table>\n",
              "</div>\n",
              "    <div class=\"colab-df-buttons\">\n",
              "\n",
              "  <div class=\"colab-df-container\">\n",
              "    <button class=\"colab-df-convert\" onclick=\"convertToInteractive('df-0c4e61fd-6737-4a07-a29b-d4553988c64c')\"\n",
              "            title=\"Convert this dataframe to an interactive table.\"\n",
              "            style=\"display:none;\">\n",
              "\n",
              "  <svg xmlns=\"http://www.w3.org/2000/svg\" height=\"24px\" viewBox=\"0 -960 960 960\">\n",
              "    <path d=\"M120-120v-720h720v720H120Zm60-500h600v-160H180v160Zm220 220h160v-160H400v160Zm0 220h160v-160H400v160ZM180-400h160v-160H180v160Zm440 0h160v-160H620v160ZM180-180h160v-160H180v160Zm440 0h160v-160H620v160Z\"/>\n",
              "  </svg>\n",
              "    </button>\n",
              "\n",
              "  <style>\n",
              "    .colab-df-container {\n",
              "      display:flex;\n",
              "      gap: 12px;\n",
              "    }\n",
              "\n",
              "    .colab-df-convert {\n",
              "      background-color: #E8F0FE;\n",
              "      border: none;\n",
              "      border-radius: 50%;\n",
              "      cursor: pointer;\n",
              "      display: none;\n",
              "      fill: #1967D2;\n",
              "      height: 32px;\n",
              "      padding: 0 0 0 0;\n",
              "      width: 32px;\n",
              "    }\n",
              "\n",
              "    .colab-df-convert:hover {\n",
              "      background-color: #E2EBFA;\n",
              "      box-shadow: 0px 1px 2px rgba(60, 64, 67, 0.3), 0px 1px 3px 1px rgba(60, 64, 67, 0.15);\n",
              "      fill: #174EA6;\n",
              "    }\n",
              "\n",
              "    .colab-df-buttons div {\n",
              "      margin-bottom: 4px;\n",
              "    }\n",
              "\n",
              "    [theme=dark] .colab-df-convert {\n",
              "      background-color: #3B4455;\n",
              "      fill: #D2E3FC;\n",
              "    }\n",
              "\n",
              "    [theme=dark] .colab-df-convert:hover {\n",
              "      background-color: #434B5C;\n",
              "      box-shadow: 0px 1px 3px 1px rgba(0, 0, 0, 0.15);\n",
              "      filter: drop-shadow(0px 1px 2px rgba(0, 0, 0, 0.3));\n",
              "      fill: #FFFFFF;\n",
              "    }\n",
              "  </style>\n",
              "\n",
              "    <script>\n",
              "      const buttonEl =\n",
              "        document.querySelector('#df-0c4e61fd-6737-4a07-a29b-d4553988c64c button.colab-df-convert');\n",
              "      buttonEl.style.display =\n",
              "        google.colab.kernel.accessAllowed ? 'block' : 'none';\n",
              "\n",
              "      async function convertToInteractive(key) {\n",
              "        const element = document.querySelector('#df-0c4e61fd-6737-4a07-a29b-d4553988c64c');\n",
              "        const dataTable =\n",
              "          await google.colab.kernel.invokeFunction('convertToInteractive',\n",
              "                                                    [key], {});\n",
              "        if (!dataTable) return;\n",
              "\n",
              "        const docLinkHtml = 'Like what you see? Visit the ' +\n",
              "          '<a target=\"_blank\" href=https://colab.research.google.com/notebooks/data_table.ipynb>data table notebook</a>'\n",
              "          + ' to learn more about interactive tables.';\n",
              "        element.innerHTML = '';\n",
              "        dataTable['output_type'] = 'display_data';\n",
              "        await google.colab.output.renderOutput(dataTable, element);\n",
              "        const docLink = document.createElement('div');\n",
              "        docLink.innerHTML = docLinkHtml;\n",
              "        element.appendChild(docLink);\n",
              "      }\n",
              "    </script>\n",
              "  </div>\n",
              "\n",
              "\n",
              "<div id=\"df-91f8a27a-2108-42c6-8bbd-4d0b8d5a1eba\">\n",
              "  <button class=\"colab-df-quickchart\" onclick=\"quickchart('df-91f8a27a-2108-42c6-8bbd-4d0b8d5a1eba')\"\n",
              "            title=\"Suggest charts\"\n",
              "            style=\"display:none;\">\n",
              "\n",
              "<svg xmlns=\"http://www.w3.org/2000/svg\" height=\"24px\"viewBox=\"0 0 24 24\"\n",
              "     width=\"24px\">\n",
              "    <g>\n",
              "        <path d=\"M19 3H5c-1.1 0-2 .9-2 2v14c0 1.1.9 2 2 2h14c1.1 0 2-.9 2-2V5c0-1.1-.9-2-2-2zM9 17H7v-7h2v7zm4 0h-2V7h2v10zm4 0h-2v-4h2v4z\"/>\n",
              "    </g>\n",
              "</svg>\n",
              "  </button>\n",
              "\n",
              "<style>\n",
              "  .colab-df-quickchart {\n",
              "      --bg-color: #E8F0FE;\n",
              "      --fill-color: #1967D2;\n",
              "      --hover-bg-color: #E2EBFA;\n",
              "      --hover-fill-color: #174EA6;\n",
              "      --disabled-fill-color: #AAA;\n",
              "      --disabled-bg-color: #DDD;\n",
              "  }\n",
              "\n",
              "  [theme=dark] .colab-df-quickchart {\n",
              "      --bg-color: #3B4455;\n",
              "      --fill-color: #D2E3FC;\n",
              "      --hover-bg-color: #434B5C;\n",
              "      --hover-fill-color: #FFFFFF;\n",
              "      --disabled-bg-color: #3B4455;\n",
              "      --disabled-fill-color: #666;\n",
              "  }\n",
              "\n",
              "  .colab-df-quickchart {\n",
              "    background-color: var(--bg-color);\n",
              "    border: none;\n",
              "    border-radius: 50%;\n",
              "    cursor: pointer;\n",
              "    display: none;\n",
              "    fill: var(--fill-color);\n",
              "    height: 32px;\n",
              "    padding: 0;\n",
              "    width: 32px;\n",
              "  }\n",
              "\n",
              "  .colab-df-quickchart:hover {\n",
              "    background-color: var(--hover-bg-color);\n",
              "    box-shadow: 0 1px 2px rgba(60, 64, 67, 0.3), 0 1px 3px 1px rgba(60, 64, 67, 0.15);\n",
              "    fill: var(--button-hover-fill-color);\n",
              "  }\n",
              "\n",
              "  .colab-df-quickchart-complete:disabled,\n",
              "  .colab-df-quickchart-complete:disabled:hover {\n",
              "    background-color: var(--disabled-bg-color);\n",
              "    fill: var(--disabled-fill-color);\n",
              "    box-shadow: none;\n",
              "  }\n",
              "\n",
              "  .colab-df-spinner {\n",
              "    border: 2px solid var(--fill-color);\n",
              "    border-color: transparent;\n",
              "    border-bottom-color: var(--fill-color);\n",
              "    animation:\n",
              "      spin 1s steps(1) infinite;\n",
              "  }\n",
              "\n",
              "  @keyframes spin {\n",
              "    0% {\n",
              "      border-color: transparent;\n",
              "      border-bottom-color: var(--fill-color);\n",
              "      border-left-color: var(--fill-color);\n",
              "    }\n",
              "    20% {\n",
              "      border-color: transparent;\n",
              "      border-left-color: var(--fill-color);\n",
              "      border-top-color: var(--fill-color);\n",
              "    }\n",
              "    30% {\n",
              "      border-color: transparent;\n",
              "      border-left-color: var(--fill-color);\n",
              "      border-top-color: var(--fill-color);\n",
              "      border-right-color: var(--fill-color);\n",
              "    }\n",
              "    40% {\n",
              "      border-color: transparent;\n",
              "      border-right-color: var(--fill-color);\n",
              "      border-top-color: var(--fill-color);\n",
              "    }\n",
              "    60% {\n",
              "      border-color: transparent;\n",
              "      border-right-color: var(--fill-color);\n",
              "    }\n",
              "    80% {\n",
              "      border-color: transparent;\n",
              "      border-right-color: var(--fill-color);\n",
              "      border-bottom-color: var(--fill-color);\n",
              "    }\n",
              "    90% {\n",
              "      border-color: transparent;\n",
              "      border-bottom-color: var(--fill-color);\n",
              "    }\n",
              "  }\n",
              "</style>\n",
              "\n",
              "  <script>\n",
              "    async function quickchart(key) {\n",
              "      const quickchartButtonEl =\n",
              "        document.querySelector('#' + key + ' button');\n",
              "      quickchartButtonEl.disabled = true;  // To prevent multiple clicks.\n",
              "      quickchartButtonEl.classList.add('colab-df-spinner');\n",
              "      try {\n",
              "        const charts = await google.colab.kernel.invokeFunction(\n",
              "            'suggestCharts', [key], {});\n",
              "      } catch (error) {\n",
              "        console.error('Error during call to suggestCharts:', error);\n",
              "      }\n",
              "      quickchartButtonEl.classList.remove('colab-df-spinner');\n",
              "      quickchartButtonEl.classList.add('colab-df-quickchart-complete');\n",
              "    }\n",
              "    (() => {\n",
              "      let quickchartButtonEl =\n",
              "        document.querySelector('#df-91f8a27a-2108-42c6-8bbd-4d0b8d5a1eba button');\n",
              "      quickchartButtonEl.style.display =\n",
              "        google.colab.kernel.accessAllowed ? 'block' : 'none';\n",
              "    })();\n",
              "  </script>\n",
              "</div>\n",
              "\n",
              "    </div>\n",
              "  </div>\n"
            ],
            "text/plain": [
              "      id                                       product_name  product_id  \\\n",
              "0    919  Средство для удаления цемента Prosept Cement C...         400   \n",
              "1   2461   СредстводляудаленияцементаProseptСementСlean0,5л         400   \n",
              "2  19314  Средство для удаления цемента Prosept Сement С...         400   \n",
              "3  20237                   CEMENT CLEANER удалитель цемента         400   \n",
              "4  19148  Просепт Professional Cement Cleaner удалитель ...         400   \n",
              "\n",
              "                                       original_name  \\\n",
              "0  Удалитель цемента CEMENT CLEANER готовый соста...   \n",
              "1  Удалитель цемента CEMENT CLEANER готовый соста...   \n",
              "2  Удалитель цемента CEMENT CLEANER готовый соста...   \n",
              "3  Удалитель цемента CEMENT CLEANER готовый соста...   \n",
              "4  Удалитель цемента CEMENT CLEANER готовый соста...   \n",
              "\n",
              "                                            name_1c  \n",
              "0  Удалитель цемента PROSEPT CEMENT CLEANER, 0.5 л.  \n",
              "1  Удалитель цемента PROSEPT CEMENT CLEANER, 0.5 л.  \n",
              "2  Удалитель цемента PROSEPT CEMENT CLEANER, 0.5 л.  \n",
              "3  Удалитель цемента PROSEPT CEMENT CLEANER, 0.5 л.  \n",
              "4  Удалитель цемента PROSEPT CEMENT CLEANER, 0.5 л.  "
            ]
          },
          "execution_count": 68,
          "metadata": {},
          "output_type": "execute_result"
        }
      ],
      "source": [
        "prosept.merged_df.head(5)"
      ]
    },
    {
      "cell_type": "markdown",
      "metadata": {
        "id": "zxE-iWQzwF6-"
      },
      "source": [
        "Как видно из датафрейма, `original_name` соответствуют различным `product_name` с различных площадок. Нужно будет учитывать этот момент при построении модели."
      ]
    },
    {
      "cell_type": "markdown",
      "metadata": {
        "id": "baxBTwg-wF6-"
      },
      "source": [
        "### Обработка данных"
      ]
    },
    {
      "cell_type": "markdown",
      "metadata": {
        "id": "0GADemc7wF6-"
      },
      "source": [
        "Создадим функцию для отчистки текста:"
      ]
    },
    {
      "cell_type": "code",
      "execution_count": 69,
      "metadata": {
        "id": "KYiCyMpgwF6-"
      },
      "outputs": [],
      "source": [
        "extra_words = (\n",
        "    # Список слов для удаления из описания\n",
        "    r'(?:готовый\\sсостав|для|концентрат|просепт|prosept|средство|невымываемая|гелеобразный|канистра|всх|типов|бесконтактного|поверхностей|любых|спрей|удаления|других|'\n",
        "    r'чистящее|чистящий|пэт|жидкое|моющее|гель|чистки|мытья|готовый|раствор|ответственных|конструкций|eco|'\n",
        "    r'концентрированное|professional|готовое|superrubber|биопоражении)'\n",
        ")\n",
        " \n",
        "def clean_description(text):\n",
        " \n",
        "    # Приведение текста к нижнему регистру\n",
        "    text = text.lower()\n",
        " \n",
        "    # Удаление чисел в скобках\n",
        "    text = re.sub(r'\\(\\d+\\)', ' ', text)\n",
        " \n",
        "    # Вставка пробелов между кириллицей и латиницей\n",
        "    text = re.sub(r'(?<=[а-яА-Я])(?=[a-zA-Z])|(?<=[a-zA-Z])(?=[а-яА-Я])', ' ', text)\n",
        " \n",
        "    # Добавление пробелов между цифрами и буквами\n",
        "    text = re.sub(r'(?<=\\d)(?=[а-яА-Яa-zA-Z])', ' ', text)\n",
        "    text = re.sub(r'(?<=[а-яА-Яa-zA-Z])(?=\\d)', ' ', text)\n",
        " \n",
        "    # Удаление диапазонов чисел, разделенных дефисом или двоеточием\n",
        "    text = re.sub(r'\\b\\d+(?::\\d+)?[-:]\\d+(?::\\d+)?\\b', ' ', text)\n",
        " \n",
        "    # Удаление серийных номеров или артикулов\n",
        "    text = re.sub(r'\\b\\d+-\\d+[а-яА-Яa-zA-Z]*\\b', ' ', text)\n",
        " \n",
        "    # Добавление пробелов между цифрами и \"л\"\n",
        "    re.sub(r'(\\d)(л)', r'\\1 \\2', text)\n",
        " \n",
        "    # Преобразование объемов из литров в миллилитры и веса из кг в граммы\n",
        "    text = re.sub(r'(\\d+[,.]\\d+)\\s*л', lambda x: f\"{int(float(x.group(1).replace(',', '.')) * 1000)} мл\", text)\n",
        "    text = re.sub(r'(\\d+[,.]\\d+)\\s*кг', lambda x: f\"{int(float(x.group(1).replace(',', '.')) * 1000)} г\", text)\n",
        " \n",
        "    # Замена \"/\" и \".\" между слов на пробелы\n",
        "    text = re.sub(r'[/\\.]', ' ', text)\n",
        " \n",
        "    text = text.replace('-', ' ')\n",
        " \n",
        "    # Удаление избыточных слов из списка extra_words\n",
        "    text = re.sub(extra_words, ' ', text)\n",
        " \n",
        "    # Удаление пунктуационных знаков и специальных символов\n",
        "    text = re.sub(r'[,\"“”/\\.()–;]', ' ', text)\n",
        " \n",
        "    # Удаление слова \"и\"\n",
        "    text = re.sub(r'\\bи\\b', ' ', text)\n",
        " \n",
        "    # Удаление дефисов, окруженных пробелами\n",
        "    text = re.sub(r'\\s-\\s', ' ', text)\n",
        " \n",
        "    # Удаление всех двойных пробелов и пробелов в начале/конце строки\n",
        "    text = re.sub(r'\\s+', ' ', text)\n",
        "    text = text.strip()\n",
        " \n",
        "    return text\n"
      ]
    },
    {
      "cell_type": "code",
      "execution_count": 70,
      "metadata": {
        "id": "CgqdmTF-wF6_"
      },
      "outputs": [],
      "source": [
        "prosept.merged_df['product_name_normalized'] = prosept.merged_df['product_name'].apply(clean_description)\n",
        "prosept.merged_df['original_name_normalized'] = prosept.merged_df['original_name'].apply(clean_description)\n",
        "prosept.merged_df['1c_name_normalized'] = prosept.merged_df['name_1c'].apply(clean_description)"
      ]
    },
    {
      "cell_type": "markdown",
      "metadata": {
        "id": "WnDNW3BTwF6_"
      },
      "source": [
        "### Создаем модель ранжирования и сопоставления товаров."
      ]
    },
    {
      "cell_type": "markdown",
      "metadata": {
        "id": "q3I0PrPBwF6_"
      },
      "source": [
        "Инициализируем модель:"
      ]
    },
    {
      "cell_type": "code",
      "execution_count": 71,
      "metadata": {
        "id": "r6rLCOYYwF6_"
      },
      "outputs": [],
      "source": [
        "model = SentenceTransformer('LaBSE')"
      ]
    },
    {
      "cell_type": "markdown",
      "metadata": {
        "id": "1-Gp6S9lwF6_"
      },
      "source": [
        "Рассчитаем эмбединги:"
      ]
    },
    {
      "cell_type": "code",
      "execution_count": 72,
      "metadata": {
        "id": "TJO5cHEcwF7A"
      },
      "outputs": [],
      "source": [
        "prosept.merged_df['original_name_embeddings'] = model.encode(prosept.merged_df['original_name_normalized'].values).tolist()\n",
        "prosept.merged_df['product_name_embeddings'] = model.encode(prosept.merged_df['product_name_normalized'].values).tolist()\n",
        "prosept.merged_df['1c_name_embeddings'] = model.encode(prosept.merged_df['1c_name_normalized'].values).tolist()"
      ]
    },
    {
      "cell_type": "markdown",
      "metadata": {
        "id": "SOT-4UJIwF7A"
      },
      "source": [
        "Определим метрику расчёта. Была выбрана метрика `recall_at_k`, поскольку нам важно получить истинное значение в `n` вариантах"
      ]
    },
    {
      "cell_type": "code",
      "execution_count": 73,
      "metadata": {
        "id": "h18xrtSkwF7A"
      },
      "outputs": [],
      "source": [
        "# Функция для расчета Recall at K\n",
        "def recall_at_k(predicted, correct, k=5):\n",
        "    return int(correct in predicted[:k])"
      ]
    },
    {
      "cell_type": "code",
      "execution_count": 74,
      "metadata": {
        "colab": {
          "base_uri": "https://localhost:8080/"
        },
        "id": "JltxBXe-wF7A",
        "outputId": "5584e52e-a2ef-42e5-cf6f-c6b98c303779"
      },
      "outputs": [
        {
          "name": "stdout",
          "output_type": "stream",
          "text": [
            "Поиск соответствия в столбце 'name'. Средний Recall на Топ-5: 0.99\n"
          ]
        }
      ],
      "source": [
        "unique_original_embeddings = prosept.merged_df.drop_duplicates(subset=['product_id'])[['product_id', 'original_name_embeddings']]\n",
        "unique_embeddings_matrix = torch.tensor(np.stack(unique_original_embeddings['original_name_embeddings'].values), dtype = torch.float32)\n",
        "product_name_embeddings = torch.tensor(prosept.merged_df['product_name_embeddings'], dtype = torch.float32)\n",
        "similarity = util.cos_sim(product_name_embeddings, unique_embeddings_matrix)\n",
        "# Ранжирование товаров и подсчет Recall at 5\n",
        "total_recall = 0\n",
        "max_positions = np.argsort(similarity, axis=1)[:, -5:]#Топ-5 сходных элементов\n",
        "max_positions_reverse = torch.flip(max_positions, [1])\n",
        "\n",
        "for index, row in prosept.merged_df.iterrows():\n",
        "    \n",
        "    \n",
        "    top_5_indices = max_positions_reverse[index]  # Топ-5 индексов с наименьшими расстояниями\n",
        "\n",
        "    # Получаем ID топ-5 товаров\n",
        "    top_5_products_ids = unique_original_embeddings.iloc[top_5_indices]['product_id'].values\n",
        "\n",
        "    # Добавляем recall для текущего товара\n",
        "    total_recall += recall_at_k(top_5_products_ids, row['product_id'])\n",
        "\n",
        "average_recall = total_recall / len(prosept.merged_df)\n",
        "print(f\"Средний Recall на Топ-5: {average_recall}\")"
      ]
    },
    {
      "cell_type": "code",
      "execution_count": 75,
      "metadata": {
        "colab": {
          "base_uri": "https://localhost:8080/"
        },
        "id": "YnhnESBowF7A",
        "outputId": "279b82d3-a732-4756-d0e8-8d9c87007017"
      },
      "outputs": [
        {
          "name": "stdout",
          "output_type": "stream",
          "text": [
            "Поиск соответствия в столбце 'name_1c'. Средний Recall на Топ-5: 0.98\n"
          ]
        }
      ],
      "source": [
        "unique_original_embeddings_2 = prosept.merged_df.drop_duplicates(subset=['product_id'])[['product_id', '1c_name_embeddings']]\n",
        "unique_embeddings_matrix_2 = torch.tensor(np.stack(unique_original_embeddings_2['1c_name_embeddings'].values), dtype = torch.float32)\n",
        "product_name_embeddings = torch.tensor(prosept.merged_df['product_name_embeddings'], dtype = torch.float32)\n",
        "similarity = util.cos_sim(product_name_embeddings, unique_embeddings_matrix_2)\n",
        "\n",
        "# Ранжирование товаров и подсчет Recall at 5\n",
        "total_recall = 0\n",
        "max_positions = np.argsort(similarity, axis=1)[:, -5:]#Топ-5 сходных элементов\n",
        "max_positions_reverse = torch.flip(max_positions, [1])\n",
        "for index, row in prosept.merged_df.iterrows():\n",
        "    # Расчет расстояний\n",
        "\n",
        "    top_5_indices = max_positions_reverse[index]  # Топ-5 индексов с наименьшими расстояниями\n",
        "\n",
        "    # Получаем ID топ-5 товаров\n",
        "    top_5_products_ids = unique_original_embeddings_2.iloc[top_5_indices]['product_id'].values\n",
        "\n",
        "    score = recall_at_k(top_5_products_ids, row['product_id'])\n",
        "\n",
        "    # Добавляем recall для текущего товара\n",
        "    total_recall += score\n",
        "\n",
        "average_recall = total_recall / len(prosept.merged_df)\n",
        "print(f\"Поиск соответствия в столбце 'name_1c'. Средний Recall на Топ-5: {round(average_recall, 2)}\")"
      ]
    },
    {
      "cell_type": "markdown",
      "metadata": {
        "id": "7pjkb-BTwF7A"
      },
      "source": [
        "Таким образом, удалось достигнуть метрики `Recall `:\n",
        "\n",
        "* `0.99` - при поиске соответствия в столбце `name`\n",
        "* `0.98` - при поиске соответствия в столбце `name_1c`"
      ]
    },
    {
      "cell_type": "markdown",
      "metadata": {
        "id": "GaMqAMVBwF7B"
      },
      "source": [
        "### Сохраняем модель:"
      ]
    },
    {
      "cell_type": "code",
      "execution_count": 76,
      "metadata": {
        "id": "-gBtBDFHwF7B"
      },
      "outputs": [],
      "source": [
        "#model.save('model')"
      ]
    },
    {
      "cell_type": "markdown",
      "metadata": {
        "id": "MhEnG5wX0X53"
      },
      "source": [
        "## Демонстрация работы модели на случайном примере."
      ]
    },
    {
      "cell_type": "code",
      "execution_count": 77,
      "metadata": {
        "colab": {
          "base_uri": "https://localhost:8080/"
        },
        "id": "hMEcXDXC0RcC",
        "outputId": "daee8810-1918-43c4-dfe2-3aa802f7ffa5"
      },
      "outputs": [
        {
          "name": "stdout",
          "output_type": "stream",
          "text": [
            "Выбранный товар: Отбеливатель для древесины Prosept ЕСО 50 5л (ID: 269)\n",
            "\n",
            "Топ-5 рекомендованных товаров:\n",
            "ID: 269, Название: Отбеливатель для древесиныPROSEPT ECO 50готовый состав / 5 л\n",
            "ID: 241, Название: Отбеливатель для древесины PROSEPT 50концентрат 1:1 / 5 л\n",
            "ID: 270, Название: Отбеливатель для древесиныPROSEPT ECO 50готовый состав / 10 л\n",
            "ID: 244, Название: Отбеливатель для древесиныPROSEPT 50концентрат 1:1 / 30 л\n",
            "ID: 242, Название: Отбеливатель для древесиныPROSEPT 50концентрат 1:1 / 10 л\n"
          ]
        }
      ],
      "source": [
        "# Генерация случайного индекса\n",
        "random_index = random.randint(0, len(prosept.merged_df) - 1)\n",
        "random_product = prosept.merged_df.iloc[random_index]\n",
        "random_product = torch.tensor(random_product['product_name_embeddings'], dtype = torch.float32)\n",
        "print(f\"Выбранный товар: {random_product['product_name']} (ID: {random_product['product_id']})\")\n",
        "\n",
        "# Расчет расстояний для выбранного товара\n",
        "similarity = util.cos_sim(random_product, unique_embeddings_matrix)\n",
        "# Ранжирование товаров и подсчет Recall at 5\n",
        "total_recall = 0\n",
        "max_positions = np.argsort(similarity, axis=1)[:, -5:]#Топ-5 сходных элементов\n",
        "max_positions_reverse = torch.flip(max_positions, [1])\n",
        "\n",
        "\n",
        "top_5_indices = max_positions_reverse  # Топ-5 индексов с наименьшими расстояниями\n",
        "\n",
        "# Получение рекомендаций\n",
        "top_5_recommendations = unique_original_embeddings.iloc[top_5_indices]\n",
        "print(\"\\nТоп-5 рекомендованных товаров:\")\n",
        "for idx, row in top_5_recommendations.iterrows():\n",
        "    print(f\"ID: {row['product_id']}, Название: {prosept.merged_df[prosept.merged_df['product_id'] == row['product_id']]['original_name'].iloc[0]}\")"
      ]
    },
    {
      "cell_type": "markdown",
      "metadata": {
        "id": "prt-awyt1PAK"
      },
      "source": [
        "## Краткий отчет о выполнении проекта"
      ]
    },
    {
      "cell_type": "markdown",
      "metadata": {
        "id": "w3EpFCqe1nhM"
      },
      "source": [
        "В ходе проекта были выполнены следующие этапы:\n",
        "\n",
        "- Проведено исследование таблиц и их объединение по ключам.\n",
        "- Разработана функция для унификации наименований товаров на сайте Заказчика и на сайтах дилеров с использованием регулярных выражений.\n",
        "- Разработан baseline модели, который предусматривал:\n",
        "  -  создание эмбеддингов при помощи модели bert-base-multilingual-cased;\n",
        "  -  расчет косинусного расстояния между эмбеддингом наименования каждого продукта с сайта дилера и всеми уникальными наименованиями продуктов с сайта заказчика при помощи метода pdist() библиотеки scipy и ранжирование эмбеддингов в зависимости от рассчитанного расстояния;\n",
        "  -  предложение 5 вариантов продуктов с сайта заказчика с наименьшим косинусным расстоянием до целевого продукта с сайта дилера.\n",
        "- Оптимизация baseline путем подбора оптимальной модели для создания эмбеддингов (в итоге остановились на Sentence Transformer LaBSE (Language-agnostic BERT Sentence Embedding)) и доработки функции унификации наименований. Удалось довести метрику recall at 5 до 0.98.\n",
        "- Упаковка решения в скрипт для backend-разработчиков."
      ]
    }
  ],
  "metadata": {
    "accelerator": "GPU",
    "colab": {
      "gpuType": "T4",
      "provenance": []
    },
    "kernelspec": {
      "display_name": "Python 3",
      "name": "python3"
    },
    "language_info": {
      "codemirror_mode": {
        "name": "ipython",
        "version": 3
      },
      "file_extension": ".py",
      "mimetype": "text/x-python",
      "name": "python",
      "nbconvert_exporter": "python",
      "pygments_lexer": "ipython3",
      "version": "3.9.16"
    }
  },
  "nbformat": 4,
  "nbformat_minor": 0
}
